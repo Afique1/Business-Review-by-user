{
  "nbformat": 4,
  "nbformat_minor": 0,
  "metadata": {
    "colab": {
      "provenance": [],
      "include_colab_link": true
    },
    "kernelspec": {
      "name": "python3",
      "display_name": "Python 3"
    },
    "language_info": {
      "name": "python"
    }
  },
  "cells": [
    {
      "cell_type": "markdown",
      "metadata": {
        "id": "view-in-github",
        "colab_type": "text"
      },
      "source": [
        "<a href=\"https://colab.research.google.com/github/Afique1/Business-Review-by-user/blob/Alan's-works/code/SIT742Task2_Group32.ipynb\" target=\"_parent\"><img src=\"https://colab.research.google.com/assets/colab-badge.svg\" alt=\"Open In Colab\"/></a>"
      ]
    },
    {
      "cell_type": "markdown",
      "source": [
        "Testing"
      ],
      "metadata": {
        "id": "8QwwYanpfbRk"
      }
    },
    {
      "cell_type": "markdown",
      "source": [
        "# Questions selection\n",
        "Questions are selected based on the birthdate(day) of students [if it's even/odd then selected Q. are even/odd]"
      ],
      "metadata": {
        "id": "ZjYE_L8hBz-m"
      }
    },
    {
      "cell_type": "code",
      "source": [
        "students = {\"Afique\": 11,\"Alan\": 10}\n",
        "questions = list(range(1, 9))  # 8 questions for Part 1\n",
        "\n",
        "assignments = {}\n",
        "\n",
        "for student, birthdate in students.items():\n",
        "  assignments[student] = []\n",
        "  for question in questions:\n",
        "    if (birthdate % 2 == 0 and question % 2 == 0) or (birthdate % 2 != 0 and question % 2 != 0):\n",
        "      assignments[student].append(f\"Q{question}\")\n",
        "\n",
        "print(\"Assigned Questions for part 1:\\n\"+\"-\"*40)\n",
        "\n",
        "for student, assigned_questions in assignments.items():\n",
        "  print(f\"{student} (Birthdate: {students[student]}): {', '.join(assigned_questions)}\")"
      ],
      "metadata": {
        "colab": {
          "base_uri": "https://localhost:8080/"
        },
        "id": "aO5k96U1BzbR",
        "outputId": "6393cd38-0745-446e-b077-51781a1d043f"
      },
      "execution_count": null,
      "outputs": [
        {
          "output_type": "stream",
          "name": "stdout",
          "text": [
            "Assigned Questions for part 1:\n",
            "----------------------------------------\n",
            "Afique (Birthdate: 11): Q1, Q3, Q5, Q7\n",
            "Alan (Birthdate: 10): Q2, Q4, Q6, Q8\n"
          ]
        }
      ]
    },
    {
      "cell_type": "markdown",
      "source": [
        "# Part 0) Read the data using Pyspark"
      ],
      "metadata": {
        "id": "C7HR1Bc4FutN"
      }
    },
    {
      "cell_type": "markdown",
      "source": [
        "Update and Import packages"
      ],
      "metadata": {
        "id": "U9I9ATzTpEeG"
      }
    },
    {
      "cell_type": "code",
      "source": [
        "#update local version of the package catalog\n",
        "!apt-get update\n",
        "# install Java8\n",
        "!apt-get install openjdk-8-jdk-headless -qq > /dev/null\n",
        "\n",
        "# install findspark\n",
        "!pip install -q findspark\n",
        "\n",
        "import findspark\n",
        "findspark.init()"
      ],
      "metadata": {
        "colab": {
          "base_uri": "https://localhost:8080/"
        },
        "collapsed": true,
        "id": "6Wq_QaYqiglz",
        "outputId": "e1fae3d4-457c-4643-fc2b-8b03be9a65c8"
      },
      "execution_count": null,
      "outputs": [
        {
          "output_type": "stream",
          "name": "stdout",
          "text": [
            "\r0% [Working]\r            \rHit:1 http://archive.ubuntu.com/ubuntu jammy InRelease\n",
            "\r0% [Waiting for headers] [Connected to cloud.r-project.org (108.157.173.97)] [C\r                                                                               \rGet:2 http://archive.ubuntu.com/ubuntu jammy-updates InRelease [128 kB]\n",
            "\r                                                                               \rGet:3 http://security.ubuntu.com/ubuntu jammy-security InRelease [129 kB]\n",
            "\r0% [2 InRelease 15.6 kB/128 kB 12%] [3 InRelease 41.7 kB/129 kB 32%] [Waiting f\r                                                                               \rGet:4 https://cloud.r-project.org/bin/linux/ubuntu jammy-cran40/ InRelease [3,632 B]\n",
            "\r0% [2 InRelease 15.6 kB/128 kB 12%] [3 InRelease 41.7 kB/129 kB 32%] [Connected\r                                                                               \rGet:5 https://cli.github.com/packages stable InRelease [3,917 B]\n",
            "Get:6 https://developer.download.nvidia.com/compute/cuda/repos/ubuntu2204/x86_64  InRelease [1,581 B]\n",
            "Get:7 http://archive.ubuntu.com/ubuntu jammy-backports InRelease [127 kB]\n",
            "Get:8 https://r2u.stat.illinois.edu/ubuntu jammy InRelease [6,555 B]\n",
            "Hit:9 https://ppa.launchpadcontent.net/deadsnakes/ppa/ubuntu jammy InRelease\n",
            "Get:10 https://cli.github.com/packages stable/main amd64 Packages [346 B]\n",
            "Get:11 https://developer.download.nvidia.com/compute/cuda/repos/ubuntu2204/x86_64  Packages [2,006 kB]\n",
            "Get:12 https://ppa.launchpadcontent.net/graphics-drivers/ppa/ubuntu jammy InRelease [24.3 kB]\n",
            "Hit:13 https://ppa.launchpadcontent.net/ubuntugis/ppa/ubuntu jammy InRelease\n",
            "Get:14 http://security.ubuntu.com/ubuntu jammy-security/main amd64 Packages [3,310 kB]\n",
            "Get:15 http://security.ubuntu.com/ubuntu jammy-security/universe amd64 Packages [1,274 kB]\n",
            "Get:16 http://archive.ubuntu.com/ubuntu jammy-updates/restricted amd64 Packages [5,627 kB]\n",
            "Get:17 http://archive.ubuntu.com/ubuntu jammy-updates/multiverse amd64 Packages [88.8 kB]\n",
            "Get:18 http://archive.ubuntu.com/ubuntu jammy-updates/main amd64 Packages [3,623 kB]\n",
            "Get:19 http://archive.ubuntu.com/ubuntu jammy-updates/universe amd64 Packages [1,581 kB]\n",
            "Get:20 https://r2u.stat.illinois.edu/ubuntu jammy/main all Packages [9,267 kB]\n",
            "Get:21 https://r2u.stat.illinois.edu/ubuntu jammy/main amd64 Packages [2,797 kB]\n",
            "Fetched 30.0 MB in 4s (7,287 kB/s)\n",
            "Reading package lists... Done\n",
            "W: Skipping acquire of configured file 'main/source/Sources' as repository 'https://r2u.stat.illinois.edu/ubuntu jammy InRelease' does not seem to provide it (sources.list entry misspelt?)\n"
          ]
        }
      ]
    },
    {
      "cell_type": "code",
      "source": [
        "import numpy as np\n",
        "import pandas as pd\n",
        "import matplotlib.pyplot as plt\n",
        "import seaborn as sns\n",
        "\n",
        "# from pyspark import SparkContext\n",
        "# from pyspark.sql import SQLContext"
      ],
      "metadata": {
        "id": "8Cfdp_tcqVkp"
      },
      "execution_count": null,
      "outputs": []
    },
    {
      "cell_type": "markdown",
      "source": [
        "`SparkSession` is the combination of SparkContext and SQLContext. So, the updated package/ will be used instead of SparkContext and SQLContext.\n"
      ],
      "metadata": {
        "id": "Jqk4ozC1GMgL"
      }
    },
    {
      "cell_type": "code",
      "source": [
        "from pyspark.sql import SparkSession\n",
        "\n",
        "spark = SparkSession.builder \\\n",
        "    .master(\"local[*]\") \\\n",
        "    .appName(\"BusinessReviewAnalysis\") \\\n",
        "    .getOrCreate()\n",
        "\n",
        "print(\"Spark session created successfully!\")"
      ],
      "metadata": {
        "colab": {
          "base_uri": "https://localhost:8080/"
        },
        "id": "CSWzlkJADT_l",
        "outputId": "c95a4f7d-9de2-4eee-be6c-91d4d642bcf4"
      },
      "execution_count": null,
      "outputs": [
        {
          "output_type": "stream",
          "name": "stdout",
          "text": [
            "Spark session created successfully!\n"
          ]
        }
      ]
    },
    {
      "cell_type": "markdown",
      "source": [
        "Download and save the csv file locally."
      ],
      "metadata": {
        "id": "ZsLEQej_pOca"
      }
    },
    {
      "cell_type": "code",
      "source": [
        "!pip install wget"
      ],
      "metadata": {
        "id": "L9f38d8WF68r",
        "colab": {
          "base_uri": "https://localhost:8080/"
        },
        "collapsed": true,
        "outputId": "9a96416e-f8fa-4410-989c-f2fd5309ec51"
      },
      "execution_count": null,
      "outputs": [
        {
          "output_type": "stream",
          "name": "stdout",
          "text": [
            "Collecting wget\n",
            "  Downloading wget-3.2.zip (10 kB)\n",
            "  Preparing metadata (setup.py) ... \u001b[?25l\u001b[?25hdone\n",
            "Building wheels for collected packages: wget\n",
            "  Building wheel for wget (setup.py) ... \u001b[?25l\u001b[?25hdone\n",
            "  Created wheel for wget: filename=wget-3.2-py3-none-any.whl size=9655 sha256=b30781880524cf696bbc0241f8cb3a3933d1e56e4e6a68ab6807e403fcb4d7a8\n",
            "  Stored in directory: /root/.cache/pip/wheels/01/46/3b/e29ffbe4ebe614ff224bad40fc6a5773a67a163251585a13a9\n",
            "Successfully built wget\n",
            "Installing collected packages: wget\n",
            "Successfully installed wget-3.2\n"
          ]
        }
      ]
    },
    {
      "cell_type": "code",
      "source": [
        "import wget\n",
        "\n",
        "link_to_data1 = 'https://github.com/Afique1/Business-Review-by-user/raw/main/Dataset/meta-review-business.csv'\n",
        "link_to_data2 = 'https://github.com/Afique1/Business-Review-by-user/raw/main/Dataset/review.csv'\n",
        "\n",
        "MetaReview_Dataset = wget.download(link_to_data1)\n",
        "Review_Dataset = wget.download(link_to_data2)"
      ],
      "metadata": {
        "id": "ixaBb7LbiRRT"
      },
      "execution_count": null,
      "outputs": []
    },
    {
      "cell_type": "code",
      "source": [
        "# Read the datasets into Spark DataFrames\n",
        "meta_review_sdf = spark.read.csv(MetaReview_Dataset, header=True, inferSchema=True)\n",
        "review_sdf = spark.read.csv(Review_Dataset, header=True, inferSchema=True)\n",
        "\n",
        "# Show the schema and a few rows of each DataFrame to verify\n",
        "print(\"Meta Review Dataset Schema:\")\n",
        "meta_review_sdf.printSchema()\n",
        "print(\"\\nMeta Review Dataset Head:\")\n",
        "meta_review_sdf.show(5)\n",
        "\n",
        "print(\"\\nReview Dataset Schema:\")\n",
        "review_sdf.printSchema()\n",
        "print(\"\\nReview Dataset Head:\")\n",
        "review_sdf.show(5)"
      ],
      "metadata": {
        "colab": {
          "base_uri": "https://localhost:8080/"
        },
        "id": "UMdPuQOEitw8",
        "outputId": "4eafb38e-f576-4b42-a0a6-798df42f4304"
      },
      "execution_count": null,
      "outputs": [
        {
          "output_type": "stream",
          "name": "stdout",
          "text": [
            "Meta Review Dataset Schema:\n",
            "root\n",
            " |-- name: string (nullable = true)\n",
            " |-- address: string (nullable = true)\n",
            " |-- gmap_id: string (nullable = true)\n",
            " |-- description: string (nullable = true)\n",
            " |-- latitude: string (nullable = true)\n",
            " |-- longitude: string (nullable = true)\n",
            " |-- category: string (nullable = true)\n",
            " |-- avg_rating: string (nullable = true)\n",
            " |-- num_of_reviews: string (nullable = true)\n",
            " |-- price: string (nullable = true)\n",
            " |-- hours: string (nullable = true)\n",
            " |-- MISC: string (nullable = true)\n",
            " |-- state: string (nullable = true)\n",
            " |-- relative_results: string (nullable = true)\n",
            " |-- url: string (nullable = true)\n",
            "\n",
            "\n",
            "Meta Review Dataset Head:\n",
            "+--------------------+--------------------+--------------------+-----------+------------------+-------------------+--------------------+----------+--------------+-----+--------------------+--------------------+--------------------+--------------------+--------------------+\n",
            "|                name|             address|             gmap_id|description|          latitude|          longitude|            category|avg_rating|num_of_reviews|price|               hours|                MISC|               state|    relative_results|                 url|\n",
            "+--------------------+--------------------+--------------------+-----------+------------------+-------------------+--------------------+----------+--------------+-----+--------------------+--------------------+--------------------+--------------------+--------------------+\n",
            "|Bear Creek Cabins...|Bear Creek Cabins...|0x56b646ed2220b77...|       NULL|        61.1006437|-146.21455179999998|['RV park', 'Cabi...|       4.5|            18| NULL|                NULL|                NULL|                NULL|['0x56b6445fd9f9e...|https://www.googl...|\n",
            "|    Anchorage Market|Anchorage Market,...|0x56c8992b5dee722...|       NULL|        61.1414349|       -149.8684816|\"[\"\"Farmers' mark...|       4.2|            18| NULL|[['Thursday', 'Cl...|{'Service options...|Closed ⋅ Opens 10...|                NULL|https://www.googl...|\n",
            "|     Happy Camper RV|Happy Camper RV, ...|0x56c8e0455225be8...|       NULL|61.591855499999994|       -149.2906566|  ['RV repair shop']|       4.4|            28| NULL|                NULL|{'Accessibility':...|                NULL|['0x56c8e104d9929...|https://www.googl...|\n",
            "|        Cajun Corner|Cajun Corner, 302...|0x56c8bdb5d91017c...|       NULL|61.219378299999995|       -149.8958522|['American restau...|       4.5|            24| NULL|[['Wednesday', '1...|{'Service options...|Closed ⋅ Opens 11...|                NULL|https://www.googl...|\n",
            "|Alaska General Se...|Alaska General Se...|0x540c25195639567...|       NULL|55.336118799999994|       -131.6306694|['Seafood wholesa...|       4.7|             8| NULL|[['Wednesday', '7...|                NULL|  Open ⋅ Closes 11PM|['0x540c25a882a72...|https://www.googl...|\n",
            "+--------------------+--------------------+--------------------+-----------+------------------+-------------------+--------------------+----------+--------------+-----+--------------------+--------------------+--------------------+--------------------+--------------------+\n",
            "only showing top 5 rows\n",
            "\n",
            "\n",
            "Review Dataset Schema:\n",
            "root\n",
            " |-- user_id: string (nullable = true)\n",
            " |-- name: string (nullable = true)\n",
            " |-- time: string (nullable = true)\n",
            " |-- rating: string (nullable = true)\n",
            " |-- text: string (nullable = true)\n",
            " |-- pics: string (nullable = true)\n",
            " |-- resp: string (nullable = true)\n",
            " |-- gmap_id: string (nullable = true)\n",
            "\n",
            "\n",
            "Review Dataset Head:\n",
            "+--------------------+--------------------+-------------+--------------------+--------------------+----+----+--------------------+\n",
            "|             user_id|                name|         time|              rating|                text|pics|resp|             gmap_id|\n",
            "+--------------------+--------------------+-------------+--------------------+--------------------+----+----+--------------------+\n",
            "|1.091298048426862...|          Nicki Gore|1566331951619|                   5|We always stay he...|NULL|NULL|0x56b646ed2220b77...|\n",
            "|1.132409264057589...|       Allen Ratliff|1504917982385|                   5|Great campground ...|NULL|NULL|0x56b646ed2220b77...|\n",
            "|1.130448378911412...|   Jonathan Tringali|1474765901185|                   4|We tent camped he...|NULL|NULL|                NULL|\n",
            "|There is a bath h...| 2 restrooms (sin...|       toilet| shower). The hot...| but they lack ve...|NULL|NULL|                NULL|\n",
            "|Wi-Fi didn't reac...|                NULL|         NULL|0x56b646ed2220b77...|                NULL|NULL|NULL|                NULL|\n",
            "+--------------------+--------------------+-------------+--------------------+--------------------+----+----+--------------------+\n",
            "only showing top 5 rows\n",
            "\n"
          ]
        }
      ]
    },
    {
      "cell_type": "markdown",
      "source": [
        "Investigate the datasets"
      ],
      "metadata": {
        "id": "qmSGsWZUMwTd"
      }
    },
    {
      "cell_type": "code",
      "source": [
        "print(\"Investigating Meta Review Dataset:\")\n",
        "print(\"Number of rows:\", meta_review_sdf.count())\n",
        "print(\"Columns:\", meta_review_sdf.columns)\n",
        "print(\"Summary Statistics:\")\n",
        "meta_review_sdf.describe().show()\n",
        "\n",
        "print(\"\\nInvestigating Review Dataset:\")\n",
        "print(\"Number of rows:\", review_sdf.count())\n",
        "print(\"Columns:\", review_sdf.columns)\n",
        "print(\"Summary Statistics:\")\n",
        "review_sdf.describe().show()"
      ],
      "metadata": {
        "id": "NM7jKVPKMz8Y",
        "colab": {
          "base_uri": "https://localhost:8080/"
        },
        "outputId": "64f81859-42bb-425b-ba9c-fbf0e93b9214"
      },
      "execution_count": null,
      "outputs": [
        {
          "output_type": "stream",
          "name": "stdout",
          "text": [
            "Investigating Meta Review Dataset:\n",
            "Number of rows: 12774\n",
            "Columns: ['name', 'address', 'gmap_id', 'description', 'latitude', 'longitude', 'category', 'avg_rating', 'num_of_reviews', 'price', 'hours', 'MISC', 'state', 'relative_results', 'url']\n",
            "Summary Statistics:\n",
            "+-------+--------------------+--------------------+--------------------+--------------------+------------------+-------------------+--------------------+--------------------+--------------------+--------------------+--------------------+--------------------+--------------------+--------------------+--------------------+\n",
            "|summary|                name|             address|             gmap_id|         description|          latitude|          longitude|            category|          avg_rating|      num_of_reviews|               price|               hours|                MISC|               state|    relative_results|                 url|\n",
            "+-------+--------------------+--------------------+--------------------+--------------------+------------------+-------------------+--------------------+--------------------+--------------------+--------------------+--------------------+--------------------+--------------------+--------------------+--------------------+\n",
            "|  count|               12774|               12606|               12774|                1524|             12774|              12771|               12707|               12774|               12774|                1634|                8681|                9379|                8238|               10968|               12763|\n",
            "|   mean|                NULL|                NULL|                NULL|                NULL|61.182258280290036| -147.3604235999445|  62.598831866666664|   4.350674254473228|    81.7994401262736|  47.354838709677416|   64.95277777777777|   94.83461538461538|   19.37333333333333|  128.11764705882354|  159.33333333333334|\n",
            "| stddev|                NULL|                NULL|                NULL|                NULL| 2.529939009629462|  14.47962008649023|  1.8957415064072243|  2.7320106968521953|   215.9325574536901|   97.56806799600533|  205.09393316389182|   189.3304918755723|  19.472892024800114|  189.73105055345488|  239.80565047554654|\n",
            "|    min|\"\"\"FORMERLY\"\" WIG...|\"\"\"FORMERLY\"\" WIG...|      1700 Willow St|           AK 99508\"|         AK 99502\"|-130.01990139999998|\"[\"\"Bahá'í house ...| \"\"Children's clo...| \"\"Children's par...| \"\"Men's clothing...| \"\"Children's fur...| \"\"Women's clothi...|     \"\"Men's shoes\"\"|  \"\"Women's shoes\"\"]| 'Amenities': ['B...|\n",
            "|    max|🚚Eagle Towing An...|🚚Eagle Towing An...|0x89c2804a7a0f7fd...|Zoo exhibiting a ...|           71.3875|              180.0|             ['Zoo']|          64.8611078|['Tourist attract...|                  ₩₩|[['Wednesday', 'O...|{'Service options...|{'Service options...|{'Service options...|{'Service options...|\n",
            "+-------+--------------------+--------------------+--------------------+--------------------+------------------+-------------------+--------------------+--------------------+--------------------+--------------------+--------------------+--------------------+--------------------+--------------------+--------------------+\n",
            "\n",
            "\n",
            "Investigating Review Dataset:\n",
            "Number of rows: 552624\n",
            "Columns: ['user_id', 'name', 'time', 'rating', 'text', 'pics', 'resp', 'gmap_id']\n",
            "Summary Statistics:\n",
            "+-------+--------------------+--------------------+--------------------+--------------------+--------------------+--------------------+--------------------+--------------------+\n",
            "|summary|             user_id|                name|                time|              rating|                text|                pics|                resp|             gmap_id|\n",
            "+-------+--------------------+--------------------+--------------------+--------------------+--------------------+--------------------+--------------------+--------------------+\n",
            "|  count|              552622|              532753|              527809|              534740|              302693|               22145|               44156|              506315|\n",
            "|   mean|1.091261853872956...|      5.4847467125E7|1.550287060733751...|   4.283758726944663|               505.2|              2019.0|                 6.0|                 8.0|\n",
            "| stddev|5.308169483536619...|  7.69216760046275E7|3.870308226597103E10|  1.0356519140361768|   996.5398269345119|                NULL|                NULL|                NULL|\n",
            "|    min|!! I'm not going ...|  \"\"campground\"\" ...|                    |  \"\" I'm sorry ab...|  1.0 oz. Russian...|  (It's not). 2. ...|   \"\"Nachos\"\". 🤦‍♀️|   \"\"rock bottom\"...|\n",
            "|    max|🥕 Carrot cake ma...|             👍👍😎\"|              수영장|                스파|              🦋🍃🦅|😉 I can get it f...|{'time': 16309533...|{'time': 16216526...|\n",
            "+-------+--------------------+--------------------+--------------------+--------------------+--------------------+--------------------+--------------------+--------------------+\n",
            "\n"
          ]
        }
      ]
    },
    {
      "cell_type": "code",
      "source": [
        "print(\"Number of partitions for meta_review_sdf:\", meta_review_sdf.rdd.getNumPartitions())\n",
        "print(\"Number of partitions for review_sdf:\", review_sdf.rdd.getNumPartitions())"
      ],
      "metadata": {
        "colab": {
          "base_uri": "https://localhost:8080/"
        },
        "id": "0mRfYRqGG87K",
        "outputId": "a6a55bfa-ec71-4b9d-bebc-afac5133f4c6"
      },
      "execution_count": null,
      "outputs": [
        {
          "output_type": "stream",
          "name": "stdout",
          "text": [
            "Number of partitions for meta_review_sdf: 2\n",
            "Number of partitions for review_sdf: 2\n"
          ]
        }
      ]
    },
    {
      "cell_type": "markdown",
      "source": [
        "# Part 1\n",
        "---\n",
        "\n"
      ],
      "metadata": {
        "id": "DolIZIW3waJv"
      }
    },
    {
      "cell_type": "markdown",
      "source": [
        "## Q1.1 Some Data Wrangling"
      ],
      "metadata": {
        "id": "YghR6nG_we_q"
      }
    },
    {
      "cell_type": "markdown",
      "source": [
        "### Q1.1.1 none, null in `text` column to \"no review\""
      ],
      "metadata": {
        "id": "Fw1j342kxWS4"
      }
    },
    {
      "cell_type": "code",
      "source": [],
      "metadata": {
        "id": "bAU-Bgb4xT85"
      },
      "execution_count": null,
      "outputs": []
    },
    {
      "cell_type": "markdown",
      "source": [
        "### Q1.1.2 Change the format of time\n",
        "in the `time` column, convert the strings from time to `yyyy-mm-dd` format\n",
        "in the new column as `newtime` and show the first 5 rows."
      ],
      "metadata": {
        "id": "HbDN8D4Vw1_F"
      }
    },
    {
      "cell_type": "code",
      "source": [],
      "metadata": {
        "id": "Q7hf7T1yw24k"
      },
      "execution_count": null,
      "outputs": []
    },
    {
      "cell_type": "markdown",
      "source": [
        "## Q1.2 Info for `gmap_id` on the `review`"
      ],
      "metadata": {
        "id": "B2Dgz9WkxdhP"
      }
    },
    {
      "cell_type": "markdown",
      "source": [
        "### Q1.2.1 using pyspark, calculate the number of reviews for each unique `gmap_id`"
      ],
      "metadata": {
        "id": "-5RbMJtyxx65"
      }
    },
    {
      "cell_type": "markdown",
      "source": [
        "### Q1.2.2 convert the pyspark df to pandas df\n",
        "* create a new column `review_time` with the info of review time on hours level, add in the pandas df.\n",
        "* show 5 rows"
      ],
      "metadata": {
        "id": "DmHIIN3EyELy"
      }
    },
    {
      "cell_type": "markdown",
      "source": [
        "### Q1.2.3 Relationship between `gmap_id` and `review_time` [both discrete]\n",
        "* which time people usually review?\n",
        "* which time do they review the less amount?\n",
        "* How many business is reviewed in the morning? [6<= x <12 ; 06:00-11:59]"
      ],
      "metadata": {
        "id": "c5xZXiWryEIM"
      }
    },
    {
      "cell_type": "markdown",
      "source": [
        "## Q1.3 join `meta-business` with the current df on `gmap_id`"
      ],
      "metadata": {
        "id": "zfrHknZqyEGI"
      }
    },
    {
      "cell_type": "markdown",
      "source": [
        "### Q1.3.1 Find the `workday` with most reviews"
      ],
      "metadata": {
        "id": "B-jy-0wxyECO"
      }
    },
    {
      "cell_type": "markdown",
      "source": [
        "### Q1.3.2 Category of business name with most review in that day\n",
        "* in that day which business (the business `name`) has the highest avg rating [max(avg(most_review_day))]\n",
        "* Find the `category` of the business `name`"
      ],
      "metadata": {
        "id": "mhDYgXzIyEAW"
      }
    },
    {
      "cell_type": "markdown",
      "source": [
        "### Q1.3.3 Exploration on business `name`\n",
        "* peak hour of that catefory\n",
        "* Plot historam"
      ],
      "metadata": {
        "id": "PmQQhn7cyDwM"
      }
    },
    {
      "cell_type": "code",
      "source": [],
      "metadata": {
        "id": "EcZUaCknyDPn"
      },
      "execution_count": null,
      "outputs": []
    },
    {
      "cell_type": "markdown",
      "source": [
        "[write about the insight]"
      ],
      "metadata": {
        "id": "K0YfikTn3ZxP"
      }
    },
    {
      "cell_type": "markdown",
      "source": [
        "## Q1.4 Top 30 words by year\n",
        "* For the reviews on each of the submissions, work on all the review content and find out the `top 30`\n",
        "most common words;\n",
        "* Also generate separate `word cloud` visualizations for `different years`( by grouping\n",
        "the reviews by review year )\n",
        "* write down the insights in the markdown cell."
      ],
      "metadata": {
        "id": "OQmoTpwD3jxe"
      }
    },
    {
      "cell_type": "markdown",
      "source": [
        "## Q1.5 Analysis on business `name` and `review`\n",
        "* find the number of unique business `reviewers` and its `category` (find out the highest distinct count of reviewers on business / category level)\n",
        "* When `reviewers` submitted their review? [add visualization and write in markdown]"
      ],
      "metadata": {
        "id": "e0ynp3584XP1"
      }
    },
    {
      "cell_type": "markdown",
      "source": [
        "## Q1.6 Build recommendation for business\n",
        "(by using reviews, ratings, and its categories)"
      ],
      "metadata": {
        "id": "hpoAt6yX5TJ3"
      }
    },
    {
      "cell_type": "markdown",
      "source": [
        "### Q1.6.1 Write down the strategy to build Recommendation\n",
        "create own strategy or leverage KNN on collaborative filtering.\n",
        "* Write about the logic"
      ],
      "metadata": {
        "id": "TOjRqqNw5k1T"
      }
    },
    {
      "cell_type": "markdown",
      "source": [
        "### Q1.6.2 Implement the strategy\n",
        "add sufficient comments where required"
      ],
      "metadata": {
        "id": "TJ3zsZI56vBS"
      }
    },
    {
      "cell_type": "code",
      "source": [],
      "metadata": {
        "id": "oeq4afxb7SrK"
      },
      "execution_count": null,
      "outputs": []
    },
    {
      "cell_type": "markdown",
      "source": [
        "## Q1.7 Analysis on `Rating`s for each submission review"
      ],
      "metadata": {
        "id": "IgBODlIJ7WRH"
      }
    },
    {
      "cell_type": "markdown",
      "source": [
        "### Q1.7.1 Relationship of `rating` and `business categories`"
      ],
      "metadata": {
        "id": "32ciVQwW7mc0"
      }
    },
    {
      "cell_type": "code",
      "source": [],
      "metadata": {
        "id": "u02h8VtA71-S"
      },
      "execution_count": null,
      "outputs": []
    },
    {
      "cell_type": "markdown",
      "source": [
        "write down the insights"
      ],
      "metadata": {
        "id": "ZkgdagWl73Nt"
      }
    },
    {
      "cell_type": "markdown",
      "source": [
        "### Q1.7.2 Focus on lower ratings\n",
        "[Select a threshold to considered as lower]\n",
        "* Find the most common words\n",
        "* Whats the reason behind lower rating?"
      ],
      "metadata": {
        "id": "-FG583aS762I"
      }
    },
    {
      "cell_type": "code",
      "source": [],
      "metadata": {
        "id": "t0_qjrT875_a"
      },
      "execution_count": null,
      "outputs": []
    },
    {
      "cell_type": "markdown",
      "source": [
        "## Q1.8 Reviewer level with all the reviewed business history (submission of the review)"
      ],
      "metadata": {
        "id": "Guq5tCXo8a6F"
      }
    },
    {
      "cell_type": "markdown",
      "source": [
        "### Q1.8.1 Create a `user_business_list`\n",
        "* check reviewer level for reviewed business\n",
        "* sort the review based on review time (`new_time` column)\n",
        "* save the business name, for each reviewer into the `user_business_list`\n",
        "* for the list: print the `number of elements` / `number of business name` for each reviewers **[before removing]**"
      ],
      "metadata": {
        "id": "TIoKbFbY84WM"
      }
    },
    {
      "cell_type": "code",
      "source": [],
      "metadata": {
        "id": "BnXpG6bjBHj2"
      },
      "execution_count": null,
      "outputs": []
    },
    {
      "cell_type": "markdown",
      "source": [
        "### Q1.8.2 Repeated business names for the same user/reviewer?\n",
        "* remove those duplicated business names under same user (take unique business name)\n",
        "* print the `number of business name` for each reviewers **[after removing]**"
      ],
      "metadata": {
        "id": "M338fm_U_LmG"
      }
    },
    {
      "cell_type": "code",
      "source": [],
      "metadata": {
        "id": "rXYiIJQhBFif"
      },
      "execution_count": null,
      "outputs": []
    },
    {
      "cell_type": "markdown",
      "source": [
        "### Q1.8.3 user similarities in the past reviewed business\n",
        "* Write down the strategy for implementation with sufficient explanation\n",
        "* Check on the `user_business_list` and find the user similarities according to their past reviewed business.\n",
        "\n",
        "Hint: you might consider to use `encoding` for each of the business names and then calculate the difference of the users."
      ],
      "metadata": {
        "id": "jhOBWvfmBGWe"
      }
    },
    {
      "cell_type": "code",
      "source": [],
      "metadata": {
        "id": "XgM2cMGsLT9c"
      },
      "execution_count": null,
      "outputs": []
    },
    {
      "cell_type": "markdown",
      "source": [
        "# Part 2\n",
        "---"
      ],
      "metadata": {
        "id": "CmGLNvGwPS9h"
      }
    },
    {
      "cell_type": "markdown",
      "source": [
        "## Q2.1 Seasonality Pattern"
      ],
      "metadata": {
        "id": "nbiYkjj4PX5Q"
      }
    },
    {
      "cell_type": "code",
      "source": [],
      "metadata": {
        "id": "D-NGApYmPlPs"
      },
      "execution_count": null,
      "outputs": []
    },
    {
      "cell_type": "markdown",
      "source": [
        "## Q2.2 ARIMA Model"
      ],
      "metadata": {
        "id": "tG3kq2d4PmDg"
      }
    },
    {
      "cell_type": "code",
      "source": [],
      "metadata": {
        "id": "XLEm_b2ZPXFK"
      },
      "execution_count": null,
      "outputs": []
    },
    {
      "cell_type": "markdown",
      "source": [
        "## Q2.3 Analyze Annual Report of Indigenous Strategy\n",
        "link to the pdf"
      ],
      "metadata": {
        "id": "D3QwxLgpPwba"
      }
    },
    {
      "cell_type": "markdown",
      "source": [
        "### Data Extraction"
      ],
      "metadata": {
        "id": "cfheJL1mQs98"
      }
    },
    {
      "cell_type": "markdown",
      "source": [
        "### Data Analysis"
      ],
      "metadata": {
        "id": "yFyTdgufQwMe"
      }
    },
    {
      "cell_type": "markdown",
      "source": [
        "### Insights"
      ],
      "metadata": {
        "id": "2WFf2VFKQ1xD"
      }
    },
    {
      "cell_type": "code",
      "source": [],
      "metadata": {
        "id": "QwS45w1xQ3ZB"
      },
      "execution_count": null,
      "outputs": []
    }
  ]
}