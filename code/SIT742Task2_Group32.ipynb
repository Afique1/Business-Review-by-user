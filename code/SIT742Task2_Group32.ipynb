{
  "nbformat": 4,
  "nbformat_minor": 0,
  "metadata": {
    "colab": {
      "provenance": [],
      "toc_visible": true,
      "authorship_tag": "ABX9TyNpYe8JqqORv231fte1D0nm",
      "include_colab_link": true
    },
    "kernelspec": {
      "name": "python3",
      "display_name": "Python 3"
    },
    "language_info": {
      "name": "python"
    }
  },
  "cells": [
    {
      "cell_type": "markdown",
      "metadata": {
        "id": "view-in-github",
        "colab_type": "text"
      },
      "source": [
        "<a href=\"https://colab.research.google.com/github/Afique1/Business-Review-by-user/blob/main/code/SIT742Task2_Group32.ipynb\" target=\"_parent\"><img src=\"https://colab.research.google.com/assets/colab-badge.svg\" alt=\"Open In Colab\"/></a>"
      ]
    },
    {
      "cell_type": "markdown",
      "source": [
        "# Questions selection\n",
        "Questions are selected based on the birthdate(day) of students [if it's even/odd then selected Q. are even/odd]"
      ],
      "metadata": {
        "id": "ZjYE_L8hBz-m"
      }
    },
    {
      "cell_type": "code",
      "source": [
        "students = {\"Afique\": 11,\"Alan\": 10}\n",
        "questions = list(range(1, 9))  # 8 questions for Part 1\n",
        "\n",
        "assignments = {}\n",
        "\n",
        "for student, birthdate in students.items():\n",
        "  assignments[student] = []\n",
        "  for question in questions:\n",
        "    if (birthdate % 2 == 0 and question % 2 == 0) or (birthdate % 2 != 0 and question % 2 != 0):\n",
        "      assignments[student].append(f\"Q{question}\")\n",
        "\n",
        "print(\"Assigned Questions for part 1:\\n\"+\"-\"*40)\n",
        "\n",
        "for student, assigned_questions in assignments.items():\n",
        "  print(f\"{student} (Birthdate: {students[student]}): {', '.join(assigned_questions)}\")"
      ],
      "metadata": {
        "colab": {
          "base_uri": "https://localhost:8080/"
        },
        "id": "aO5k96U1BzbR",
        "outputId": "6393cd38-0745-446e-b077-51781a1d043f"
      },
      "execution_count": null,
      "outputs": [
        {
          "output_type": "stream",
          "name": "stdout",
          "text": [
            "Assigned Questions for part 1:\n",
            "----------------------------------------\n",
            "Afique (Birthdate: 11): Q1, Q3, Q5, Q7\n",
            "Alan (Birthdate: 10): Q2, Q4, Q6, Q8\n"
          ]
        }
      ]
    },
    {
      "cell_type": "markdown",
      "source": [
        "# Part 0) Read the data using Pyspark"
      ],
      "metadata": {
        "id": "C7HR1Bc4FutN"
      }
    },
    {
      "cell_type": "code",
      "source": [],
      "metadata": {
        "id": "L9f38d8WF68r"
      },
      "execution_count": null,
      "outputs": []
    },
    {
      "cell_type": "markdown",
      "source": [
        "Investigate the datasets"
      ],
      "metadata": {
        "id": "qmSGsWZUMwTd"
      }
    },
    {
      "cell_type": "code",
      "source": [],
      "metadata": {
        "id": "NM7jKVPKMz8Y"
      },
      "execution_count": null,
      "outputs": []
    },
    {
      "cell_type": "markdown",
      "source": [
        "# Part 1\n",
        "---\n",
        "\n"
      ],
      "metadata": {
        "id": "DolIZIW3waJv"
      }
    },
    {
      "cell_type": "markdown",
      "source": [
        "## Q1.1 Some Data Wrangling"
      ],
      "metadata": {
        "id": "YghR6nG_we_q"
      }
    },
    {
      "cell_type": "markdown",
      "source": [
        "### Q1.1.1 none, null in `text` column to \"no review\""
      ],
      "metadata": {
        "id": "Fw1j342kxWS4"
      }
    },
    {
      "cell_type": "code",
      "source": [],
      "metadata": {
        "id": "bAU-Bgb4xT85"
      },
      "execution_count": null,
      "outputs": []
    },
    {
      "cell_type": "markdown",
      "source": [
        "### Q1.1.2 Change the format of time\n",
        "in the `time` column, convert the strings from time to `yyyy-mm-dd` format\n",
        "in the new column as `newtime` and show the first 5 rows."
      ],
      "metadata": {
        "id": "HbDN8D4Vw1_F"
      }
    },
    {
      "cell_type": "code",
      "source": [],
      "metadata": {
        "id": "Q7hf7T1yw24k"
      },
      "execution_count": null,
      "outputs": []
    },
    {
      "cell_type": "markdown",
      "source": [
        "## Q1.2 Info for `gmap_id` on the `review`"
      ],
      "metadata": {
        "id": "B2Dgz9WkxdhP"
      }
    },
    {
      "cell_type": "markdown",
      "source": [
        "### Q1.2.1 using pyspark, calculate the number of reviews for each unique `gmap_id`"
      ],
      "metadata": {
        "id": "-5RbMJtyxx65"
      }
    },
    {
      "cell_type": "markdown",
      "source": [
        "### Q1.2.2 convert the pyspark df to pandas df\n",
        "* create a new column `review_time` with the info of review time on hours level, add in the pandas df.\n",
        "* show 5 rows"
      ],
      "metadata": {
        "id": "DmHIIN3EyELy"
      }
    },
    {
      "cell_type": "markdown",
      "source": [
        "### Q1.2.3 Relationship between `gmap_id` and `review_time` [both discrete]\n",
        "* which time people usually review?\n",
        "* which time do they review the less amount?\n",
        "* How many business is reviewed in the morning? [6<= x <12 ; 06:00-11:59]"
      ],
      "metadata": {
        "id": "c5xZXiWryEIM"
      }
    },
    {
      "cell_type": "markdown",
      "source": [
        "## Q1.3 join `meta-business` with the current df on `gmap_id`"
      ],
      "metadata": {
        "id": "zfrHknZqyEGI"
      }
    },
    {
      "cell_type": "markdown",
      "source": [
        "### Q1.3.1 Find the `workday` with most reviews"
      ],
      "metadata": {
        "id": "B-jy-0wxyECO"
      }
    },
    {
      "cell_type": "markdown",
      "source": [
        "### Q1.3.2 Category of business name with most review in that day\n",
        "* in that day which business (the business `name`) has the highest avg rating [max(avg(most_review_day))]\n",
        "* Find the `category` of the business `name`"
      ],
      "metadata": {
        "id": "mhDYgXzIyEAW"
      }
    },
    {
      "cell_type": "markdown",
      "source": [
        "### Q1.3.3 Exploration on business `name`\n",
        "* peak hour of that catefory\n",
        "* Plot historam"
      ],
      "metadata": {
        "id": "PmQQhn7cyDwM"
      }
    },
    {
      "cell_type": "code",
      "source": [],
      "metadata": {
        "id": "EcZUaCknyDPn"
      },
      "execution_count": null,
      "outputs": []
    },
    {
      "cell_type": "markdown",
      "source": [
        "[write about the insight]"
      ],
      "metadata": {
        "id": "K0YfikTn3ZxP"
      }
    },
    {
      "cell_type": "markdown",
      "source": [
        "## Q1.4 Top 30 words by year\n",
        "* For the reviews on each of the submissions, work on all the review content and find out the `top 30`\n",
        "most common words;\n",
        "* Also generate separate `word cloud` visualizations for `different years`( by grouping\n",
        "the reviews by review year )\n",
        "* write down the insights in the markdown cell."
      ],
      "metadata": {
        "id": "OQmoTpwD3jxe"
      }
    },
    {
      "cell_type": "markdown",
      "source": [
        "## Q1.5 Analysis on business `name` and `review`\n",
        "* find the number of unique business `reviewers` and its `category` (find out the highest distinct count of reviewers on business / category level)\n",
        "* When `reviewers` submitted their review? [add visualization and write in markdown]"
      ],
      "metadata": {
        "id": "e0ynp3584XP1"
      }
    },
    {
      "cell_type": "markdown",
      "source": [
        "## Q1.6 Build recommendation for business\n",
        "(by using reviews, ratings, and its categories)"
      ],
      "metadata": {
        "id": "hpoAt6yX5TJ3"
      }
    },
    {
      "cell_type": "markdown",
      "source": [
        "### Q1.6.1 Write down the strategy to build Recommendation\n",
        "create own strategy or leverage KNN on collaborative filtering.\n",
        "* Write about the logic"
      ],
      "metadata": {
        "id": "TOjRqqNw5k1T"
      }
    },
    {
      "cell_type": "markdown",
      "source": [
        "### Q1.6.2 Implement the strategy\n",
        "add sufficient comments where required"
      ],
      "metadata": {
        "id": "TJ3zsZI56vBS"
      }
    },
    {
      "cell_type": "code",
      "source": [],
      "metadata": {
        "id": "oeq4afxb7SrK"
      },
      "execution_count": null,
      "outputs": []
    },
    {
      "cell_type": "markdown",
      "source": [
        "## Q1.7 Analysis on `Rating`s for each submission review"
      ],
      "metadata": {
        "id": "IgBODlIJ7WRH"
      }
    },
    {
      "cell_type": "markdown",
      "source": [
        "### Q1.7.1 Relationship of `rating` and `business categories`"
      ],
      "metadata": {
        "id": "32ciVQwW7mc0"
      }
    },
    {
      "cell_type": "code",
      "source": [],
      "metadata": {
        "id": "u02h8VtA71-S"
      },
      "execution_count": null,
      "outputs": []
    },
    {
      "cell_type": "markdown",
      "source": [
        "write down the insights"
      ],
      "metadata": {
        "id": "ZkgdagWl73Nt"
      }
    },
    {
      "cell_type": "markdown",
      "source": [
        "### Q1.7.2 Focus on lower ratings\n",
        "[Select a threshold to considered as lower]\n",
        "* Find the most common words\n",
        "* Whats the reason behind lower rating?"
      ],
      "metadata": {
        "id": "-FG583aS762I"
      }
    },
    {
      "cell_type": "code",
      "source": [],
      "metadata": {
        "id": "t0_qjrT875_a"
      },
      "execution_count": null,
      "outputs": []
    },
    {
      "cell_type": "markdown",
      "source": [
        "## Q1.8 Reviewer level with all the reviewed business history (submission of the review)"
      ],
      "metadata": {
        "id": "Guq5tCXo8a6F"
      }
    },
    {
      "cell_type": "markdown",
      "source": [
        "### Q1.8.1 Create a `user_business_list`\n",
        "* check reviewer level for reviewed business\n",
        "* sort the review based on review time (`new_time` column)\n",
        "* save the business name, for each reviewer into the `user_business_list`\n",
        "* for the list: print the `number of elements` / `number of business name` for each reviewers **[before removing]**"
      ],
      "metadata": {
        "id": "TIoKbFbY84WM"
      }
    },
    {
      "cell_type": "code",
      "source": [],
      "metadata": {
        "id": "BnXpG6bjBHj2"
      },
      "execution_count": null,
      "outputs": []
    },
    {
      "cell_type": "markdown",
      "source": [
        "### Q1.8.2 Repeated business names for the same user/reviewer?\n",
        "* remove those duplicated business names under same user (take unique business name)\n",
        "* print the `number of business name` for each reviewers **[after removing]**"
      ],
      "metadata": {
        "id": "M338fm_U_LmG"
      }
    },
    {
      "cell_type": "code",
      "source": [],
      "metadata": {
        "id": "rXYiIJQhBFif"
      },
      "execution_count": null,
      "outputs": []
    },
    {
      "cell_type": "markdown",
      "source": [
        "### Q1.8.3 user similarities in the past reviewed business\n",
        "* Write down the strategy for implementation with sufficient explanation\n",
        "* Check on the `user_business_list` and find the user similarities according to their past reviewed business.\n",
        "\n",
        "Hint: you might consider to use `encoding` for each of the business names and then calculate the difference of the users."
      ],
      "metadata": {
        "id": "jhOBWvfmBGWe"
      }
    },
    {
      "cell_type": "code",
      "source": [],
      "metadata": {
        "id": "XgM2cMGsLT9c"
      },
      "execution_count": null,
      "outputs": []
    },
    {
      "cell_type": "markdown",
      "source": [
        "# Part 2\n",
        "---"
      ],
      "metadata": {
        "id": "CmGLNvGwPS9h"
      }
    },
    {
      "cell_type": "markdown",
      "source": [
        "## Q2.1 Seasonality Pattern"
      ],
      "metadata": {
        "id": "nbiYkjj4PX5Q"
      }
    },
    {
      "cell_type": "code",
      "source": [],
      "metadata": {
        "id": "D-NGApYmPlPs"
      },
      "execution_count": null,
      "outputs": []
    },
    {
      "cell_type": "markdown",
      "source": [
        "## Q2.2 ARIMA Model"
      ],
      "metadata": {
        "id": "tG3kq2d4PmDg"
      }
    },
    {
      "cell_type": "code",
      "source": [],
      "metadata": {
        "id": "XLEm_b2ZPXFK"
      },
      "execution_count": null,
      "outputs": []
    },
    {
      "cell_type": "markdown",
      "source": [
        "## Q2.3 Analyze Annual Report of Indigenous Strategy\n",
        "link to the pdf"
      ],
      "metadata": {
        "id": "D3QwxLgpPwba"
      }
    },
    {
      "cell_type": "markdown",
      "source": [
        "### Data Extraction"
      ],
      "metadata": {
        "id": "cfheJL1mQs98"
      }
    },
    {
      "cell_type": "markdown",
      "source": [
        "### Data Analysis"
      ],
      "metadata": {
        "id": "yFyTdgufQwMe"
      }
    },
    {
      "cell_type": "markdown",
      "source": [
        "### Insights"
      ],
      "metadata": {
        "id": "2WFf2VFKQ1xD"
      }
    },
    {
      "cell_type": "code",
      "source": [],
      "metadata": {
        "id": "QwS45w1xQ3ZB"
      },
      "execution_count": null,
      "outputs": []
    }
  ]
}