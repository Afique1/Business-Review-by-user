{
  "nbformat": 4,
  "nbformat_minor": 0,
  "metadata": {
    "colab": {
      "provenance": [],
      "include_colab_link": true
    },
    "kernelspec": {
      "name": "python3",
      "display_name": "Python 3"
    },
    "language_info": {
      "name": "python"
    }
  },
  "cells": [
    {
      "cell_type": "markdown",
      "metadata": {
        "id": "view-in-github",
        "colab_type": "text"
      },
      "source": [
        "<a href=\"https://colab.research.google.com/github/Afique1/Business-Review-by-user/blob/Alan's-works/SIT742Task2_Group32.ipynb\" target=\"_parent\"><img src=\"https://colab.research.google.com/assets/colab-badge.svg\" alt=\"Open In Colab\"/></a>"
      ]
    },
    {
      "cell_type": "markdown",
      "source": [
        "# Questions selection\n",
        "Questions are selected based on the birthdate(day) of students [if it's even/odd then selected Q. are even/odd]"
      ],
      "metadata": {
        "id": "ZjYE_L8hBz-m"
      }
    },
    {
      "cell_type": "code",
      "source": [
        "students = {\"Afique\": 11,\"Alan\": 10}\n",
        "questions = list(range(1, 9))  # 8 questions for Part 1\n",
        "\n",
        "assignments = {}\n",
        "\n",
        "for student, birthdate in students.items():\n",
        "  assignments[student] = []\n",
        "  for question in questions:\n",
        "    if (birthdate % 2 == 0 and question % 2 == 0) or (birthdate % 2 != 0 and question % 2 != 0):\n",
        "      assignments[student].append(f\"Q{question}\")\n",
        "\n",
        "print(\"Assigned Questions for part 1:\\n\"+\"-\"*40)\n",
        "\n",
        "for student, assigned_questions in assignments.items():\n",
        "  print(f\"{student} (Birthdate: {students[student]}): {', '.join(assigned_questions)}\")"
      ],
      "metadata": {
        "colab": {
          "base_uri": "https://localhost:8080/"
        },
        "id": "aO5k96U1BzbR",
        "outputId": "46963c03-c77f-4d5d-d036-4477968c48d1"
      },
      "execution_count": null,
      "outputs": [
        {
          "output_type": "stream",
          "name": "stdout",
          "text": [
            "Assigned Questions for part 1:\n",
            "----------------------------------------\n",
            "Afique (Birthdate: 11): Q1, Q3, Q5, Q7\n",
            "Alan (Birthdate: 10): Q2, Q4, Q6, Q8\n"
          ]
        }
      ]
    },
    {
      "cell_type": "markdown",
      "source": [
        "# Part 0) Read the data using Pyspark"
      ],
      "metadata": {
        "id": "C7HR1Bc4FutN"
      }
    },
    {
      "cell_type": "markdown",
      "source": [
        "Update and Import packages"
      ],
      "metadata": {
        "id": "U9I9ATzTpEeG"
      }
    },
    {
      "cell_type": "code",
      "source": [
        "#update local version of the package catalog\n",
        "!apt-get update\n",
        "# install Java8\n",
        "!apt-get install openjdk-8-jdk-headless -qq > /dev/null\n",
        "\n",
        "# install findspark\n",
        "!pip install -q findspark\n",
        "\n",
        "import findspark\n",
        "findspark.init()"
      ],
      "metadata": {
        "colab": {
          "base_uri": "https://localhost:8080/"
        },
        "collapsed": true,
        "id": "6Wq_QaYqiglz",
        "outputId": "7822cc03-874d-4a00-dcf3-918d04e48de8"
      },
      "execution_count": null,
      "outputs": [
        {
          "output_type": "stream",
          "name": "stdout",
          "text": [
            "Get:1 https://cli.github.com/packages stable InRelease [3,917 B]\n",
            "Get:2 http://security.ubuntu.com/ubuntu jammy-security InRelease [129 kB]\n",
            "Get:3 https://cloud.r-project.org/bin/linux/ubuntu jammy-cran40/ InRelease [3,632 B]\n",
            "Get:4 https://developer.download.nvidia.com/compute/cuda/repos/ubuntu2204/x86_64  InRelease [1,581 B]\n",
            "Hit:5 http://archive.ubuntu.com/ubuntu jammy InRelease\n",
            "Get:6 https://r2u.stat.illinois.edu/ubuntu jammy InRelease [6,555 B]\n",
            "Get:7 http://archive.ubuntu.com/ubuntu jammy-updates InRelease [128 kB]\n",
            "Get:8 https://cli.github.com/packages stable/main amd64 Packages [346 B]\n",
            "Get:9 https://developer.download.nvidia.com/compute/cuda/repos/ubuntu2204/x86_64  Packages [2,006 kB]\n",
            "Hit:10 https://ppa.launchpadcontent.net/deadsnakes/ppa/ubuntu jammy InRelease\n",
            "Get:11 https://ppa.launchpadcontent.net/graphics-drivers/ppa/ubuntu jammy InRelease [24.3 kB]\n",
            "Get:12 http://archive.ubuntu.com/ubuntu jammy-backports InRelease [127 kB]\n",
            "Hit:13 https://ppa.launchpadcontent.net/ubuntugis/ppa/ubuntu jammy InRelease\n",
            "Get:14 https://r2u.stat.illinois.edu/ubuntu jammy/main amd64 Packages [2,795 kB]\n",
            "Get:15 http://security.ubuntu.com/ubuntu jammy-security/multiverse amd64 Packages [80.3 kB]\n",
            "Get:16 http://security.ubuntu.com/ubuntu jammy-security/main amd64 Packages [3,311 kB]\n",
            "Get:17 https://r2u.stat.illinois.edu/ubuntu jammy/main all Packages [9,267 kB]\n",
            "Get:18 http://security.ubuntu.com/ubuntu jammy-security/universe amd64 Packages [1,274 kB]\n",
            "Get:19 http://security.ubuntu.com/ubuntu jammy-security/restricted amd64 Packages [5,441 kB]\n",
            "Get:20 http://archive.ubuntu.com/ubuntu jammy-updates/multiverse amd64 Packages [88.8 kB]\n",
            "Get:21 http://archive.ubuntu.com/ubuntu jammy-updates/universe amd64 Packages [1,581 kB]\n",
            "Get:22 http://archive.ubuntu.com/ubuntu jammy-updates/main amd64 Packages [3,624 kB]\n",
            "Get:23 http://archive.ubuntu.com/ubuntu jammy-updates/restricted amd64 Packages [5,627 kB]\n",
            "Get:24 https://ppa.launchpadcontent.net/graphics-drivers/ppa/ubuntu jammy/main amd64 Packages [43.2 kB]\n",
            "Fetched 35.6 MB in 7s (4,859 kB/s)\n",
            "Reading package lists... Done\n",
            "W: Skipping acquire of configured file 'main/source/Sources' as repository 'https://r2u.stat.illinois.edu/ubuntu jammy InRelease' does not seem to provide it (sources.list entry misspelt?)\n"
          ]
        }
      ]
    },
    {
      "cell_type": "code",
      "source": [
        "import pandas as pd\n",
        "import matplotlib.pyplot as plt\n",
        "import seaborn as sns\n",
        "\n",
        "# from pyspark import SparkContext\n",
        "# from pyspark.sql import SQLContext"
      ],
      "metadata": {
        "id": "8Cfdp_tcqVkp"
      },
      "execution_count": 2,
      "outputs": []
    },
    {
      "cell_type": "markdown",
      "source": [
        "`SparkSession` is the combination of SparkContext and SQLContext. So, the updated package/ will be used instead of SparkContext and SQLContext.\n"
      ],
      "metadata": {
        "id": "Jqk4ozC1GMgL"
      }
    },
    {
      "cell_type": "code",
      "source": [
        "from pyspark.sql import SparkSession\n",
        "\n",
        "spark = SparkSession.builder \\\n",
        "    .master(\"local[*]\") \\\n",
        "    .appName(\"BusinessReviewAnalysis\") \\\n",
        "    .getOrCreate()\n",
        "\n",
        "print(\"Spark session created successfully!\")"
      ],
      "metadata": {
        "colab": {
          "base_uri": "https://localhost:8080/"
        },
        "id": "CSWzlkJADT_l",
        "outputId": "566f6af6-07dc-4e63-ed8a-7a9c844ef893"
      },
      "execution_count": 3,
      "outputs": [
        {
          "output_type": "stream",
          "name": "stdout",
          "text": [
            "Spark session created successfully!\n"
          ]
        }
      ]
    },
    {
      "cell_type": "markdown",
      "source": [
        "Download and save the csv file locally."
      ],
      "metadata": {
        "id": "ZsLEQej_pOca"
      }
    },
    {
      "cell_type": "code",
      "source": [
        "!pip install wget"
      ],
      "metadata": {
        "id": "L9f38d8WF68r",
        "colab": {
          "base_uri": "https://localhost:8080/"
        },
        "collapsed": true,
        "outputId": "9abe726e-517b-462d-9aff-cf22eef0bb19"
      },
      "execution_count": 6,
      "outputs": [
        {
          "output_type": "stream",
          "name": "stdout",
          "text": [
            "Collecting wget\n",
            "  Downloading wget-3.2.zip (10 kB)\n",
            "  Preparing metadata (setup.py) ... \u001b[?25l\u001b[?25hdone\n",
            "Building wheels for collected packages: wget\n",
            "  Building wheel for wget (setup.py) ... \u001b[?25l\u001b[?25hdone\n",
            "  Created wheel for wget: filename=wget-3.2-py3-none-any.whl size=9655 sha256=4ad8942648319396f8c4cbf178a3488cc3e5756b810d606b377c2edcae6107c3\n",
            "  Stored in directory: /root/.cache/pip/wheels/01/46/3b/e29ffbe4ebe614ff224bad40fc6a5773a67a163251585a13a9\n",
            "Successfully built wget\n",
            "Installing collected packages: wget\n",
            "Successfully installed wget-3.2\n"
          ]
        }
      ]
    },
    {
      "cell_type": "code",
      "source": [
        "import wget\n",
        "\n",
        "link_to_data1 = 'https://github.com/Afique1/Business-Review-by-user/raw/main/Dataset/meta-review-business.csv'\n",
        "link_to_data2 = 'https://github.com/Afique1/Business-Review-by-user/raw/main/Dataset/review.csv'\n",
        "\n",
        "MetaReview_Dataset = wget.download(link_to_data1)\n",
        "Review_Dataset = wget.download(link_to_data2)"
      ],
      "metadata": {
        "id": "ixaBb7LbiRRT"
      },
      "execution_count": 7,
      "outputs": []
    },
    {
      "cell_type": "code",
      "source": [
        "# Read the datasets into Spark DataFrames with 10 partitioning\n",
        "meta_review_sdf = spark.read.csv(MetaReview_Dataset, header=True, inferSchema=True).repartition(10)\n",
        "review_sdf = spark.read.csv(Review_Dataset, header=True, inferSchema=True).repartition(10)\n",
        "\n",
        "print(\"Meta Review Dataset Schema:\")\n",
        "meta_review_sdf.printSchema()\n",
        "# print(\"\\nMeta Review Dataset Head:\")\n",
        "# meta_review_sdf.show(5)\n",
        "\n",
        "print(\"\\nReview Dataset Schema:\")\n",
        "review_sdf.printSchema()\n",
        "# print(\"\\nReview Dataset Head:\")\n",
        "# review_sdf.show(5)"
      ],
      "metadata": {
        "colab": {
          "base_uri": "https://localhost:8080/"
        },
        "id": "UMdPuQOEitw8",
        "outputId": "fdb52a2d-ab19-4239-ab37-61bb78ff5b3e"
      },
      "execution_count": 9,
      "outputs": [
        {
          "output_type": "stream",
          "name": "stdout",
          "text": [
            "Meta Review Dataset Schema:\n",
            "root\n",
            " |-- name: string (nullable = true)\n",
            " |-- address: string (nullable = true)\n",
            " |-- gmap_id: string (nullable = true)\n",
            " |-- description: string (nullable = true)\n",
            " |-- latitude: string (nullable = true)\n",
            " |-- longitude: string (nullable = true)\n",
            " |-- category: string (nullable = true)\n",
            " |-- avg_rating: string (nullable = true)\n",
            " |-- num_of_reviews: string (nullable = true)\n",
            " |-- price: string (nullable = true)\n",
            " |-- hours: string (nullable = true)\n",
            " |-- MISC: string (nullable = true)\n",
            " |-- state: string (nullable = true)\n",
            " |-- relative_results: string (nullable = true)\n",
            " |-- url: string (nullable = true)\n",
            "\n",
            "\n",
            "Review Dataset Schema:\n",
            "root\n",
            " |-- user_id: string (nullable = true)\n",
            " |-- name: string (nullable = true)\n",
            " |-- time: string (nullable = true)\n",
            " |-- rating: string (nullable = true)\n",
            " |-- text: string (nullable = true)\n",
            " |-- pics: string (nullable = true)\n",
            " |-- resp: string (nullable = true)\n",
            " |-- gmap_id: string (nullable = true)\n",
            "\n"
          ]
        }
      ]
    },
    {
      "cell_type": "markdown",
      "source": [
        "Investigate the datasets"
      ],
      "metadata": {
        "id": "qmSGsWZUMwTd"
      }
    },
    {
      "cell_type": "code",
      "source": [
        "print(\"Investigating Meta Review Dataset:\")\n",
        "print(\"Number of rows:\", meta_review_sdf.count())\n",
        "print(\"Columns:\", meta_review_sdf.columns)\n",
        "print(\"Summary Statistics:\")\n",
        "meta_review_sdf.describe().show()\n",
        "\n",
        "print(\"\\nInvestigating Review Dataset:\")\n",
        "print(\"Number of rows:\", review_sdf.count())\n",
        "print(\"Columns:\", review_sdf.columns)\n",
        "print(\"Summary Statistics:\")\n",
        "review_sdf.describe().show()"
      ],
      "metadata": {
        "id": "NM7jKVPKMz8Y",
        "colab": {
          "base_uri": "https://localhost:8080/"
        },
        "outputId": "ca54684c-8957-463f-8fd5-f3146031ee91"
      },
      "execution_count": 10,
      "outputs": [
        {
          "output_type": "stream",
          "name": "stdout",
          "text": [
            "Investigating Meta Review Dataset:\n",
            "Number of rows: 12774\n",
            "Columns: ['name', 'address', 'gmap_id', 'description', 'latitude', 'longitude', 'category', 'avg_rating', 'num_of_reviews', 'price', 'hours', 'MISC', 'state', 'relative_results', 'url']\n",
            "Summary Statistics:\n",
            "+-------+--------------------+--------------------+--------------------+--------------------+------------------+-------------------+--------------------+--------------------+--------------------+--------------------+--------------------+--------------------+--------------------+--------------------+--------------------+\n",
            "|summary|                name|             address|             gmap_id|         description|          latitude|          longitude|            category|          avg_rating|      num_of_reviews|               price|               hours|                MISC|               state|    relative_results|                 url|\n",
            "+-------+--------------------+--------------------+--------------------+--------------------+------------------+-------------------+--------------------+--------------------+--------------------+--------------------+--------------------+--------------------+--------------------+--------------------+--------------------+\n",
            "|  count|               12774|               12606|               12774|                1524|             12774|              12771|               12707|               12774|               12774|                1634|                8681|                9379|                8238|               10968|               12763|\n",
            "|   mean|                NULL|                NULL|                NULL|                NULL| 61.18225828028984|-147.36042359994508|  62.598831866666664|   4.350674254473206|   81.79944012627358|   47.35483870967741|   64.95277777777777|   94.83461538461539|   19.37333333333333|  128.11764705882354|  159.33333333333334|\n",
            "| stddev|                NULL|                NULL|                NULL|                NULL|2.5299390096294587| 14.479620086490202|   1.895741506407224|   2.732010696852193|     215.93255745369|   97.56806799600533|  205.09393316389182|   189.3304918755723|  19.472892024800114|  189.73105055345488|  239.80565047554654|\n",
            "|    min|\"\"\"FORMERLY\"\" WIG...|\"\"\"FORMERLY\"\" WIG...|      1700 Willow St|           AK 99508\"|         AK 99502\"|-130.01990139999998|\"[\"\"Bahá'í house ...| \"\"Children's clo...| \"\"Children's par...| \"\"Men's clothing...| \"\"Children's fur...| \"\"Women's clothi...|     \"\"Men's shoes\"\"|  \"\"Women's shoes\"\"]| 'Amenities': ['B...|\n",
            "|    max|🚚Eagle Towing An...|🚚Eagle Towing An...|0x89c2804a7a0f7fd...|Zoo exhibiting a ...|           71.3875|              180.0|             ['Zoo']|          64.8611078|['Tourist attract...|                  ₩₩|[['Wednesday', 'O...|{'Service options...|{'Service options...|{'Service options...|{'Service options...|\n",
            "+-------+--------------------+--------------------+--------------------+--------------------+------------------+-------------------+--------------------+--------------------+--------------------+--------------------+--------------------+--------------------+--------------------+--------------------+--------------------+\n",
            "\n",
            "\n",
            "Investigating Review Dataset:\n",
            "Number of rows: 552624\n",
            "Columns: ['user_id', 'name', 'time', 'rating', 'text', 'pics', 'resp', 'gmap_id']\n",
            "Summary Statistics:\n",
            "+-------+--------------------+--------------------+--------------------+--------------------+--------------------+--------------------+--------------------+--------------------+\n",
            "|summary|             user_id|                name|                time|              rating|                text|                pics|                resp|             gmap_id|\n",
            "+-------+--------------------+--------------------+--------------------+--------------------+--------------------+--------------------+--------------------+--------------------+\n",
            "|  count|              552622|              532753|              527809|              534740|              302693|               22145|               44156|              506315|\n",
            "|   mean|1.091261853872944E20|      5.4847467125E7|1.550287060733735E12|   4.283758726944663|               505.2|              2019.0|                 6.0|                 8.0|\n",
            "| stddev|5.308169483536623...|  7.69216760046275E7|3.870308226597181E10|   1.035651914036174|   996.5398269345119|                NULL|                NULL|                NULL|\n",
            "|    min|!! I'm not going ...|  \"\"campground\"\" ...|                    |  \"\" I'm sorry ab...|  1.0 oz. Russian...|  (It's not). 2. ...|   \"\"Nachos\"\". 🤦‍♀️|   \"\"rock bottom\"...|\n",
            "|    max|🥕 Carrot cake ma...|             👍👍😎\"|              수영장|                스파|              🦋🍃🦅|😉 I can get it f...|{'time': 16309533...|{'time': 16216526...|\n",
            "+-------+--------------------+--------------------+--------------------+--------------------+--------------------+--------------------+--------------------+--------------------+\n",
            "\n"
          ]
        }
      ]
    },
    {
      "cell_type": "code",
      "source": [
        "print(\"Number of partitions for meta_review_sdf:\", meta_review_sdf.rdd.getNumPartitions())\n",
        "print(\"Number of partitions for review_sdf:\", review_sdf.rdd.getNumPartitions())"
      ],
      "metadata": {
        "colab": {
          "base_uri": "https://localhost:8080/"
        },
        "id": "0mRfYRqGG87K",
        "outputId": "e9dbb5a8-27e2-464c-a912-7208ff7ff901"
      },
      "execution_count": null,
      "outputs": [
        {
          "output_type": "stream",
          "name": "stdout",
          "text": [
            "Number of partitions for meta_review_sdf: 10\n",
            "Number of partitions for review_sdf: 10\n"
          ]
        }
      ]
    },
    {
      "cell_type": "code",
      "source": [
        "# Get the SparkContext from the SparkSession\n",
        "sc = spark.sparkContext\n",
        "\n",
        "# Get the number of active cores\n",
        "# In local mode, this typically corresponds to the number of threads being used\n",
        "num_cores = sc.defaultParallelism\n",
        "\n",
        "print(f\"Number of cores being used by Spark: {num_cores}\")"
      ],
      "metadata": {
        "colab": {
          "base_uri": "https://localhost:8080/"
        },
        "id": "b7cL42k9R09b",
        "outputId": "211b9052-c19a-4c57-dd18-d7b9c1aabfdc"
      },
      "execution_count": 11,
      "outputs": [
        {
          "output_type": "stream",
          "name": "stdout",
          "text": [
            "Number of cores being used by Spark: 2\n"
          ]
        }
      ]
    },
    {
      "cell_type": "markdown",
      "source": [
        "Is it wise to join both sdfs?"
      ],
      "metadata": {
        "id": "JaCzT-oINnaH"
      }
    },
    {
      "cell_type": "code",
      "source": [
        "# Count and print the number of unique gmap_id values in each DataFrame\n",
        "unique_meta_review_count = meta_review_sdf.select(\"gmap_id\").distinct().count()\n",
        "unique_review_count = review_sdf.select(\"gmap_id\").distinct().count()\n",
        "\n",
        "print(\"\\nNumber of unique gmap_id in meta_review_sdf:\", unique_meta_review_count)\n",
        "print(\"Number of unique gmap_id in review_sdf:\", unique_review_count)"
      ],
      "metadata": {
        "colab": {
          "base_uri": "https://localhost:8080/"
        },
        "id": "xE80W0M0Juwt",
        "outputId": "26cf99ad-6a32-4394-f6ab-9de8382cfac0"
      },
      "execution_count": 12,
      "outputs": [
        {
          "output_type": "stream",
          "name": "stdout",
          "text": [
            "\n",
            "Number of unique gmap_id in meta_review_sdf: 12688\n",
            "Number of unique gmap_id in review_sdf: 12468\n"
          ]
        }
      ]
    },
    {
      "cell_type": "markdown",
      "source": [
        "## Join based on `gmap_id`"
      ],
      "metadata": {
        "id": "Ac-36WrLJv0y"
      }
    },
    {
      "cell_type": "code",
      "source": [
        "# Perform an inner join on the 'gmap_id' column\n",
        "sdf = meta_review_sdf.join(review_sdf, on=\"gmap_id\", how=\"inner\")\n",
        "\n",
        "# Show the schema and a few rows of the joined DataFrame to verify\n",
        "print(\"Joined DataFrame Schema:\")\n",
        "sdf.printSchema()\n",
        "sdf.count()"
      ],
      "metadata": {
        "colab": {
          "base_uri": "https://localhost:8080/"
        },
        "id": "RON0CX4-KLT4",
        "outputId": "9870a1aa-4830-4c66-be61-c6630e8af707"
      },
      "execution_count": 13,
      "outputs": [
        {
          "output_type": "stream",
          "name": "stdout",
          "text": [
            "Joined DataFrame Schema:\n",
            "root\n",
            " |-- gmap_id: string (nullable = true)\n",
            " |-- name: string (nullable = true)\n",
            " |-- address: string (nullable = true)\n",
            " |-- description: string (nullable = true)\n",
            " |-- latitude: string (nullable = true)\n",
            " |-- longitude: string (nullable = true)\n",
            " |-- category: string (nullable = true)\n",
            " |-- avg_rating: string (nullable = true)\n",
            " |-- num_of_reviews: string (nullable = true)\n",
            " |-- price: string (nullable = true)\n",
            " |-- hours: string (nullable = true)\n",
            " |-- MISC: string (nullable = true)\n",
            " |-- state: string (nullable = true)\n",
            " |-- relative_results: string (nullable = true)\n",
            " |-- url: string (nullable = true)\n",
            " |-- user_id: string (nullable = true)\n",
            " |-- name: string (nullable = true)\n",
            " |-- time: string (nullable = true)\n",
            " |-- rating: string (nullable = true)\n",
            " |-- text: string (nullable = true)\n",
            " |-- pics: string (nullable = true)\n",
            " |-- resp: string (nullable = true)\n",
            "\n"
          ]
        },
        {
          "output_type": "execute_result",
          "data": {
            "text/plain": [
              "498903"
            ]
          },
          "metadata": {},
          "execution_count": 13
        }
      ]
    },
    {
      "cell_type": "code",
      "source": [
        "from pyspark.sql.functions import col\n",
        "\n",
        "# Sort meta_review_sdf by gmap_id and show the top 5\n",
        "print(\"Top 5 gmap_id in meta_review_sdf:\")\n",
        "meta_review_sdf.select(\"gmap_id\").orderBy(col(\"gmap_id\")).show(5)\n",
        "\n",
        "# Sort review_sdf by gmap_id and show the top 5\n",
        "print(\"\\nTop 5 gmap_id in review_sdf:\")\n",
        "review_sdf.select(\"gmap_id\").orderBy(col(\"gmap_id\")).show(5)"
      ],
      "metadata": {
        "colab": {
          "base_uri": "https://localhost:8080/"
        },
        "id": "t3WcfcADS5Hk",
        "outputId": "85e0659b-99b0-45b1-d885-e63625704456"
      },
      "execution_count": 14,
      "outputs": [
        {
          "output_type": "stream",
          "name": "stdout",
          "text": [
            "Top 5 gmap_id in meta_review_sdf:\n",
            "+--------------------+\n",
            "|             gmap_id|\n",
            "+--------------------+\n",
            "|      1700 Willow St|\n",
            "|              2nd St|\n",
            "| 8225 Old Seward ...|\n",
            "|        8600 King St|\n",
            "|        8600 King St|\n",
            "+--------------------+\n",
            "only showing top 5 rows\n",
            "\n",
            "\n",
            "Top 5 gmap_id in review_sdf:\n",
            "+-------+\n",
            "|gmap_id|\n",
            "+-------+\n",
            "|   NULL|\n",
            "|   NULL|\n",
            "|   NULL|\n",
            "|   NULL|\n",
            "|   NULL|\n",
            "+-------+\n",
            "only showing top 5 rows\n",
            "\n"
          ]
        }
      ]
    },
    {
      "cell_type": "markdown",
      "source": [
        "# Part 1\n",
        "---\n",
        "\n"
      ],
      "metadata": {
        "id": "DolIZIW3waJv"
      }
    },
    {
      "cell_type": "markdown",
      "source": [
        "## Q1.1 Some Data Wrangling"
      ],
      "metadata": {
        "id": "YghR6nG_we_q"
      }
    },
    {
      "cell_type": "markdown",
      "source": [
        "### Q1.1.1 none, null in `text` column to \"no review\""
      ],
      "metadata": {
        "id": "Fw1j342kxWS4"
      }
    },
    {
      "cell_type": "code",
      "source": [],
      "metadata": {
        "id": "bAU-Bgb4xT85"
      },
      "execution_count": null,
      "outputs": []
    },
    {
      "cell_type": "markdown",
      "source": [
        "### Q1.1.2 Change the format of time\n",
        "in the `time` column, convert the strings from time to `yyyy-mm-dd` format\n",
        "in the new column as `newtime` and show the first 5 rows."
      ],
      "metadata": {
        "id": "HbDN8D4Vw1_F"
      }
    },
    {
      "cell_type": "code",
      "source": [],
      "metadata": {
        "id": "Q7hf7T1yw24k"
      },
      "execution_count": null,
      "outputs": []
    },
    {
      "cell_type": "markdown",
      "source": [
        "## Q1.2 Info for `gmap_id` on the `review`"
      ],
      "metadata": {
        "id": "B2Dgz9WkxdhP"
      }
    },
    {
      "cell_type": "markdown",
      "source": [
        "### Q1.2.1 using pyspark, calculate the number of reviews for each unique `gmap_id`\n",
        "(save as float format in pyspark dataframe to show the top 5 rows)"
      ],
      "metadata": {
        "id": "-5RbMJtyxx65"
      }
    },
    {
      "cell_type": "code",
      "source": [
        "from pyspark.sql.functions import sum as spark_sum\n",
        "from pyspark.sql.functions import col"
      ],
      "metadata": {
        "id": "TGWt3EFG7U-f"
      },
      "execution_count": null,
      "outputs": []
    },
    {
      "cell_type": "markdown",
      "source": [
        "Calculation based on the Review Dataset review_sdf"
      ],
      "metadata": {
        "id": "hsiJ2uQsolv_"
      }
    },
    {
      "cell_type": "code",
      "source": [
        "review_sdf_counts_spark = review_sdf.groupBy(\"gmap_id\").count().withColumn(\"count\", col(\"count\").cast(\"float\"))"
      ],
      "metadata": {
        "id": "NUALCs-YomXk"
      },
      "execution_count": 60,
      "outputs": []
    },
    {
      "cell_type": "code",
      "source": [
        "review_sdf_counts_spark.orderBy(col(\"count\").desc()).show(5)"
      ],
      "metadata": {
        "id": "TidctPUvpA6s",
        "outputId": "e9c6f2c0-9010-4d26-cdf1-53fdcc329071",
        "colab": {
          "base_uri": "https://localhost:8080/"
        }
      },
      "execution_count": 61,
      "outputs": [
        {
          "output_type": "stream",
          "name": "stdout",
          "text": [
            "+--------------------+-------+\n",
            "|             gmap_id|  count|\n",
            "+--------------------+-------+\n",
            "|                NULL|46309.0|\n",
            "|0x56c897b9ce6000d...| 2737.0|\n",
            "|0x56c899d05892048...| 2555.0|\n",
            "|0x56c897c63697ee3...| 2220.0|\n",
            "|0x56c8965ee2fb87a...| 2202.0|\n",
            "+--------------------+-------+\n",
            "only showing top 5 rows\n",
            "\n"
          ]
        }
      ]
    },
    {
      "cell_type": "code",
      "source": [
        "# Cross-checking the counting results\n",
        "review_sdf_counts_spark.agg(spark_sum(\"count\")).collect()[0][0] # expected to match the no. of rows as 552624"
      ],
      "metadata": {
        "id": "9fkOxUFupD9F",
        "outputId": "de548c7c-1902-4cfd-c518-f1ddfc08ec35",
        "colab": {
          "base_uri": "https://localhost:8080/"
        }
      },
      "execution_count": 69,
      "outputs": [
        {
          "output_type": "execute_result",
          "data": {
            "text/plain": [
              "552624.0"
            ]
          },
          "metadata": {},
          "execution_count": 69
        }
      ]
    },
    {
      "cell_type": "markdown",
      "source": [
        "Calculation based on the joined datafram sdf"
      ],
      "metadata": {
        "id": "_A7o1PFloZJe"
      }
    },
    {
      "cell_type": "code",
      "source": [
        "sdf_counts_spark = sdf.groupBy(\"gmap_id\").count().withColumn(\"count\", col(\"count\").cast(\"float\"))"
      ],
      "metadata": {
        "id": "I_dsombtfpwR"
      },
      "execution_count": 66,
      "outputs": []
    },
    {
      "cell_type": "code",
      "source": [
        "sdf_counts_spark.orderBy(col(\"count\").desc()).show(5)"
      ],
      "metadata": {
        "colab": {
          "base_uri": "https://localhost:8080/"
        },
        "id": "nBCINLXdkuls",
        "outputId": "2cd0fb63-fc83-4e62-c789-91f65d6864e5"
      },
      "execution_count": 67,
      "outputs": [
        {
          "output_type": "stream",
          "name": "stdout",
          "text": [
            "+--------------------+------+\n",
            "|             gmap_id| count|\n",
            "+--------------------+------+\n",
            "|0x56c897b9ce6000d...|2737.0|\n",
            "|0x56c899d05892048...|2555.0|\n",
            "|0x56c897c63697ee3...|2220.0|\n",
            "|0x56c8965ee2fb87a...|2202.0|\n",
            "|0x56c89629bde7481...|2156.0|\n",
            "+--------------------+------+\n",
            "only showing top 5 rows\n",
            "\n"
          ]
        }
      ]
    },
    {
      "cell_type": "code",
      "source": [
        "sdf_counts_spark.agg(spark_sum(\"count\")).collect()[0][0]"
      ],
      "metadata": {
        "colab": {
          "base_uri": "https://localhost:8080/"
        },
        "id": "ec-a4sY7gp-q",
        "outputId": "c8a34313-e413-4895-d422-6b709715c5d6"
      },
      "execution_count": 68,
      "outputs": [
        {
          "output_type": "execute_result",
          "data": {
            "text/plain": [
              "498903.0"
            ]
          },
          "metadata": {},
          "execution_count": 68
        }
      ]
    },
    {
      "cell_type": "code",
      "source": [
        "# A suspected phantom row indicated by 1 counted in gmap_id of \"Anchorage\"\n",
        "sdf_counts_spark.orderBy(col(\"count\")).show(5)"
      ],
      "metadata": {
        "colab": {
          "base_uri": "https://localhost:8080/"
        },
        "id": "uP8Y76lXlEvZ",
        "outputId": "8ce6f7b3-7b9b-4b08-e78c-3bedaae5acc4"
      },
      "execution_count": 49,
      "outputs": [
        {
          "output_type": "stream",
          "name": "stdout",
          "text": [
            "+--------------------+-----+\n",
            "|             gmap_id|count|\n",
            "+--------------------+-----+\n",
            "|           Anchorage|  1.0|\n",
            "|0x56c897c88b2e4b7...|  4.0|\n",
            "|0x56c8962f33efc3b...|  5.0|\n",
            "|0x56c8eb715388aae...|  5.0|\n",
            "|0x5400df8600be380...|  5.0|\n",
            "+--------------------+-----+\n",
            "only showing top 5 rows\n",
            "\n"
          ]
        }
      ]
    },
    {
      "cell_type": "code",
      "source": [
        "# The phantom row has been identified yet has no impact\n",
        "sdf.filter(col(\"gmap_id\") == \"Anchorage\").show()\n",
        "\n",
        "sdf_phantom_cleaned = sdf.filter(col(\"gmap_id\") != \"Anchorage\")\n",
        "sdf_phantom_cleaned_counts_spark = sdf_phantom_cleaned.groupBy(\"gmap_id\").count().withColumn(\"count\", col(\"count\").cast(\"float\"))\n",
        "sdf_phantom_cleaned_counts_spark.agg(spark_sum(\"count\")).collect()[0][0]"
      ],
      "metadata": {
        "colab": {
          "base_uri": "https://localhost:8080/"
        },
        "id": "Rgl3Gu7diBDc",
        "outputId": "95baacbc-6a97-4656-fdb3-028530f1c448"
      },
      "execution_count": 52,
      "outputs": [
        {
          "output_type": "stream",
          "name": "stdout",
          "text": [
            "+-------+----+-------+-----------+--------+---------+--------+----------+--------------+-----+-----+----+-----+----------------+---+-------+----+----+------+----+----+----+\n",
            "|gmap_id|name|address|description|latitude|longitude|category|avg_rating|num_of_reviews|price|hours|MISC|state|relative_results|url|user_id|name|time|rating|text|pics|resp|\n",
            "+-------+----+-------+-----------+--------+---------+--------+----------+--------------+-----+-----+----+-----+----------------+---+-------+----+----+------+----+----+----+\n",
            "+-------+----+-------+-----------+--------+---------+--------+----------+--------------+-----+-----+----+-----+----------------+---+-------+----+----+------+----+----+----+\n",
            "\n"
          ]
        },
        {
          "output_type": "execute_result",
          "data": {
            "text/plain": [
              "498903.0"
            ]
          },
          "metadata": {},
          "execution_count": 52
        }
      ]
    },
    {
      "cell_type": "markdown",
      "source": [
        "### Q1.2.2 convert the pyspark df to pandas df\n",
        "* create a new column `review_time` with the info of review time on hours level, add in the pandas df.\n",
        "* show top 5 rows"
      ],
      "metadata": {
        "id": "DmHIIN3EyELy"
      }
    },
    {
      "cell_type": "code",
      "source": [
        "df = review_sdf.toPandas() # transform the current pyspark dataframe to pandas dataframe"
      ],
      "metadata": {
        "id": "g4kZbARHsNqL"
      },
      "execution_count": 189,
      "outputs": []
    },
    {
      "cell_type": "code",
      "source": [
        "df[\"time\"].head(10)"
      ],
      "metadata": {
        "id": "nEMPm-ngxxef",
        "outputId": "7cdeae6f-7354-45e3-f63c-90427f8255b3",
        "colab": {
          "base_uri": "https://localhost:8080/",
          "height": 398
        }
      },
      "execution_count": 190,
      "outputs": [
        {
          "output_type": "execute_result",
          "data": {
            "text/plain": [
              "0                                        1525676908252\n",
              "1                                        1368006776281\n",
              "2                                        1569090797829\n",
              "3                                        1597542582178\n",
              "4                                        1598037847651\n",
              "5                                                 None\n",
              "6                                        1549419589149\n",
              "7    \"{'time': 1598807097467, 'text': \"\"We all appr...\n",
              "8                                        1495309866441\n",
              "9                                        1562915528083\n",
              "Name: time, dtype: object"
            ],
            "text/html": [
              "<div>\n",
              "<style scoped>\n",
              "    .dataframe tbody tr th:only-of-type {\n",
              "        vertical-align: middle;\n",
              "    }\n",
              "\n",
              "    .dataframe tbody tr th {\n",
              "        vertical-align: top;\n",
              "    }\n",
              "\n",
              "    .dataframe thead th {\n",
              "        text-align: right;\n",
              "    }\n",
              "</style>\n",
              "<table border=\"1\" class=\"dataframe\">\n",
              "  <thead>\n",
              "    <tr style=\"text-align: right;\">\n",
              "      <th></th>\n",
              "      <th>time</th>\n",
              "    </tr>\n",
              "  </thead>\n",
              "  <tbody>\n",
              "    <tr>\n",
              "      <th>0</th>\n",
              "      <td>1525676908252</td>\n",
              "    </tr>\n",
              "    <tr>\n",
              "      <th>1</th>\n",
              "      <td>1368006776281</td>\n",
              "    </tr>\n",
              "    <tr>\n",
              "      <th>2</th>\n",
              "      <td>1569090797829</td>\n",
              "    </tr>\n",
              "    <tr>\n",
              "      <th>3</th>\n",
              "      <td>1597542582178</td>\n",
              "    </tr>\n",
              "    <tr>\n",
              "      <th>4</th>\n",
              "      <td>1598037847651</td>\n",
              "    </tr>\n",
              "    <tr>\n",
              "      <th>5</th>\n",
              "      <td>None</td>\n",
              "    </tr>\n",
              "    <tr>\n",
              "      <th>6</th>\n",
              "      <td>1549419589149</td>\n",
              "    </tr>\n",
              "    <tr>\n",
              "      <th>7</th>\n",
              "      <td>\"{'time': 1598807097467, 'text': \"\"We all appr...</td>\n",
              "    </tr>\n",
              "    <tr>\n",
              "      <th>8</th>\n",
              "      <td>1495309866441</td>\n",
              "    </tr>\n",
              "    <tr>\n",
              "      <th>9</th>\n",
              "      <td>1562915528083</td>\n",
              "    </tr>\n",
              "  </tbody>\n",
              "</table>\n",
              "</div><br><label><b>dtype:</b> object</label>"
            ]
          },
          "metadata": {},
          "execution_count": 190
        }
      ]
    },
    {
      "cell_type": "code",
      "source": [
        "import re\n",
        "\n",
        "def clean_and_convert(val):\n",
        "    try:\n",
        "        if pd.isnull(val):\n",
        "            return pd.NaT\n",
        "\n",
        "        # Directly handle numeric values\n",
        "        if isinstance(val, (int, float)):\n",
        "            return pd.to_datetime(int(val), unit=\"ms\")\n",
        "\n",
        "        # Handle dictionary-like objects\n",
        "        if isinstance(val, dict) and \"time\" in val:\n",
        "            return pd.to_datetime(int(val[\"time\"]), unit=\"ms\")\n",
        "\n",
        "        # Convert to string and strip whitespace\n",
        "        val_str = str(val).strip()\n",
        "\n",
        "        # Try to extract timestamp from dictionary-like string\n",
        "        match = re.search(r\"[\\\"']?time[\\\"']?\\s*:\\s*(\\d{13})\", val_str)\n",
        "        if match:\n",
        "            return pd.to_datetime(int(match.group(1)), unit=\"ms\")\n",
        "\n",
        "        # Fallback: check if the string itself is a 13-digit number\n",
        "        if re.fullmatch(r\"\\d{13}\", val_str):\n",
        "            return pd.to_datetime(int(val_str), unit=\"ms\")\n",
        "\n",
        "    except Exception:\n",
        "        pass\n",
        "\n",
        "    return pd.NaT"
      ],
      "metadata": {
        "id": "Ot_mBcChuXYi"
      },
      "execution_count": 211,
      "outputs": []
    },
    {
      "cell_type": "code",
      "source": [
        "df[\"review_time\"] = df[\"time\"].apply(clean_and_convert) # create the column reivew_time with the information of review time"
      ],
      "metadata": {
        "id": "ZjuyL8mSvXxS"
      },
      "execution_count": 224,
      "outputs": []
    },
    {
      "cell_type": "code",
      "source": [
        "df[[\"time\", \"review_time\"]].sample(20)"
      ],
      "metadata": {
        "id": "GVGgtp3z2xBM",
        "outputId": "8f1db03d-5c3e-4976-8c28-e5ad1eda20cf",
        "colab": {
          "base_uri": "https://localhost:8080/",
          "height": 677
        }
      },
      "execution_count": 225,
      "outputs": [
        {
          "output_type": "execute_result",
          "data": {
            "text/plain": [
              "                 time             review_time\n",
              "224260  1483482680346 2017-01-03 22:31:20.346\n",
              "184957  1544800866752 2018-12-14 15:21:06.752\n",
              "48684   1573280756845 2019-11-09 06:25:56.845\n",
              "294193  1572670298088 2019-11-02 04:51:38.088\n",
              "518510  1614574763005 2021-03-01 04:59:23.005\n",
              "447366  1478381835908 2016-11-05 21:37:15.908\n",
              "495764  1487806991963 2017-02-22 23:43:11.963\n",
              "500861  1567540780666 2019-09-03 19:59:40.666\n",
              "405196  1530945605693 2018-07-07 06:40:05.693\n",
              "542574  1609394663329 2020-12-31 06:04:23.329\n",
              "160019  1504575499299 2017-09-05 01:38:19.299\n",
              "149008  1565355190966 2019-08-09 12:53:10.966\n",
              "547283  1514534661279 2017-12-29 08:04:21.279\n",
              "15431   1584297652516 2020-03-15 18:40:52.516\n",
              "382933  1567435601978 2019-09-02 14:46:41.978\n",
              "499020  1492940080083 2017-04-23 09:34:40.083\n",
              "149234  1550334760631 2019-02-16 16:32:40.631\n",
              "292591  1558948545657 2019-05-27 09:15:45.657\n",
              "543860  1618278695283 2021-04-13 01:51:35.283\n",
              "407998  1544310194063 2018-12-08 23:03:14.063"
            ],
            "text/html": [
              "\n",
              "  <div id=\"df-4ea087cd-bcb4-4228-849c-1c38200b0f37\" class=\"colab-df-container\">\n",
              "    <div>\n",
              "<style scoped>\n",
              "    .dataframe tbody tr th:only-of-type {\n",
              "        vertical-align: middle;\n",
              "    }\n",
              "\n",
              "    .dataframe tbody tr th {\n",
              "        vertical-align: top;\n",
              "    }\n",
              "\n",
              "    .dataframe thead th {\n",
              "        text-align: right;\n",
              "    }\n",
              "</style>\n",
              "<table border=\"1\" class=\"dataframe\">\n",
              "  <thead>\n",
              "    <tr style=\"text-align: right;\">\n",
              "      <th></th>\n",
              "      <th>time</th>\n",
              "      <th>review_time</th>\n",
              "    </tr>\n",
              "  </thead>\n",
              "  <tbody>\n",
              "    <tr>\n",
              "      <th>224260</th>\n",
              "      <td>1483482680346</td>\n",
              "      <td>2017-01-03 22:31:20.346</td>\n",
              "    </tr>\n",
              "    <tr>\n",
              "      <th>184957</th>\n",
              "      <td>1544800866752</td>\n",
              "      <td>2018-12-14 15:21:06.752</td>\n",
              "    </tr>\n",
              "    <tr>\n",
              "      <th>48684</th>\n",
              "      <td>1573280756845</td>\n",
              "      <td>2019-11-09 06:25:56.845</td>\n",
              "    </tr>\n",
              "    <tr>\n",
              "      <th>294193</th>\n",
              "      <td>1572670298088</td>\n",
              "      <td>2019-11-02 04:51:38.088</td>\n",
              "    </tr>\n",
              "    <tr>\n",
              "      <th>518510</th>\n",
              "      <td>1614574763005</td>\n",
              "      <td>2021-03-01 04:59:23.005</td>\n",
              "    </tr>\n",
              "    <tr>\n",
              "      <th>447366</th>\n",
              "      <td>1478381835908</td>\n",
              "      <td>2016-11-05 21:37:15.908</td>\n",
              "    </tr>\n",
              "    <tr>\n",
              "      <th>495764</th>\n",
              "      <td>1487806991963</td>\n",
              "      <td>2017-02-22 23:43:11.963</td>\n",
              "    </tr>\n",
              "    <tr>\n",
              "      <th>500861</th>\n",
              "      <td>1567540780666</td>\n",
              "      <td>2019-09-03 19:59:40.666</td>\n",
              "    </tr>\n",
              "    <tr>\n",
              "      <th>405196</th>\n",
              "      <td>1530945605693</td>\n",
              "      <td>2018-07-07 06:40:05.693</td>\n",
              "    </tr>\n",
              "    <tr>\n",
              "      <th>542574</th>\n",
              "      <td>1609394663329</td>\n",
              "      <td>2020-12-31 06:04:23.329</td>\n",
              "    </tr>\n",
              "    <tr>\n",
              "      <th>160019</th>\n",
              "      <td>1504575499299</td>\n",
              "      <td>2017-09-05 01:38:19.299</td>\n",
              "    </tr>\n",
              "    <tr>\n",
              "      <th>149008</th>\n",
              "      <td>1565355190966</td>\n",
              "      <td>2019-08-09 12:53:10.966</td>\n",
              "    </tr>\n",
              "    <tr>\n",
              "      <th>547283</th>\n",
              "      <td>1514534661279</td>\n",
              "      <td>2017-12-29 08:04:21.279</td>\n",
              "    </tr>\n",
              "    <tr>\n",
              "      <th>15431</th>\n",
              "      <td>1584297652516</td>\n",
              "      <td>2020-03-15 18:40:52.516</td>\n",
              "    </tr>\n",
              "    <tr>\n",
              "      <th>382933</th>\n",
              "      <td>1567435601978</td>\n",
              "      <td>2019-09-02 14:46:41.978</td>\n",
              "    </tr>\n",
              "    <tr>\n",
              "      <th>499020</th>\n",
              "      <td>1492940080083</td>\n",
              "      <td>2017-04-23 09:34:40.083</td>\n",
              "    </tr>\n",
              "    <tr>\n",
              "      <th>149234</th>\n",
              "      <td>1550334760631</td>\n",
              "      <td>2019-02-16 16:32:40.631</td>\n",
              "    </tr>\n",
              "    <tr>\n",
              "      <th>292591</th>\n",
              "      <td>1558948545657</td>\n",
              "      <td>2019-05-27 09:15:45.657</td>\n",
              "    </tr>\n",
              "    <tr>\n",
              "      <th>543860</th>\n",
              "      <td>1618278695283</td>\n",
              "      <td>2021-04-13 01:51:35.283</td>\n",
              "    </tr>\n",
              "    <tr>\n",
              "      <th>407998</th>\n",
              "      <td>1544310194063</td>\n",
              "      <td>2018-12-08 23:03:14.063</td>\n",
              "    </tr>\n",
              "  </tbody>\n",
              "</table>\n",
              "</div>\n",
              "    <div class=\"colab-df-buttons\">\n",
              "\n",
              "  <div class=\"colab-df-container\">\n",
              "    <button class=\"colab-df-convert\" onclick=\"convertToInteractive('df-4ea087cd-bcb4-4228-849c-1c38200b0f37')\"\n",
              "            title=\"Convert this dataframe to an interactive table.\"\n",
              "            style=\"display:none;\">\n",
              "\n",
              "  <svg xmlns=\"http://www.w3.org/2000/svg\" height=\"24px\" viewBox=\"0 -960 960 960\">\n",
              "    <path d=\"M120-120v-720h720v720H120Zm60-500h600v-160H180v160Zm220 220h160v-160H400v160Zm0 220h160v-160H400v160ZM180-400h160v-160H180v160Zm440 0h160v-160H620v160ZM180-180h160v-160H180v160Zm440 0h160v-160H620v160Z\"/>\n",
              "  </svg>\n",
              "    </button>\n",
              "\n",
              "  <style>\n",
              "    .colab-df-container {\n",
              "      display:flex;\n",
              "      gap: 12px;\n",
              "    }\n",
              "\n",
              "    .colab-df-convert {\n",
              "      background-color: #E8F0FE;\n",
              "      border: none;\n",
              "      border-radius: 50%;\n",
              "      cursor: pointer;\n",
              "      display: none;\n",
              "      fill: #1967D2;\n",
              "      height: 32px;\n",
              "      padding: 0 0 0 0;\n",
              "      width: 32px;\n",
              "    }\n",
              "\n",
              "    .colab-df-convert:hover {\n",
              "      background-color: #E2EBFA;\n",
              "      box-shadow: 0px 1px 2px rgba(60, 64, 67, 0.3), 0px 1px 3px 1px rgba(60, 64, 67, 0.15);\n",
              "      fill: #174EA6;\n",
              "    }\n",
              "\n",
              "    .colab-df-buttons div {\n",
              "      margin-bottom: 4px;\n",
              "    }\n",
              "\n",
              "    [theme=dark] .colab-df-convert {\n",
              "      background-color: #3B4455;\n",
              "      fill: #D2E3FC;\n",
              "    }\n",
              "\n",
              "    [theme=dark] .colab-df-convert:hover {\n",
              "      background-color: #434B5C;\n",
              "      box-shadow: 0px 1px 3px 1px rgba(0, 0, 0, 0.15);\n",
              "      filter: drop-shadow(0px 1px 2px rgba(0, 0, 0, 0.3));\n",
              "      fill: #FFFFFF;\n",
              "    }\n",
              "  </style>\n",
              "\n",
              "    <script>\n",
              "      const buttonEl =\n",
              "        document.querySelector('#df-4ea087cd-bcb4-4228-849c-1c38200b0f37 button.colab-df-convert');\n",
              "      buttonEl.style.display =\n",
              "        google.colab.kernel.accessAllowed ? 'block' : 'none';\n",
              "\n",
              "      async function convertToInteractive(key) {\n",
              "        const element = document.querySelector('#df-4ea087cd-bcb4-4228-849c-1c38200b0f37');\n",
              "        const dataTable =\n",
              "          await google.colab.kernel.invokeFunction('convertToInteractive',\n",
              "                                                    [key], {});\n",
              "        if (!dataTable) return;\n",
              "\n",
              "        const docLinkHtml = 'Like what you see? Visit the ' +\n",
              "          '<a target=\"_blank\" href=https://colab.research.google.com/notebooks/data_table.ipynb>data table notebook</a>'\n",
              "          + ' to learn more about interactive tables.';\n",
              "        element.innerHTML = '';\n",
              "        dataTable['output_type'] = 'display_data';\n",
              "        await google.colab.output.renderOutput(dataTable, element);\n",
              "        const docLink = document.createElement('div');\n",
              "        docLink.innerHTML = docLinkHtml;\n",
              "        element.appendChild(docLink);\n",
              "      }\n",
              "    </script>\n",
              "  </div>\n",
              "\n",
              "\n",
              "    <div id=\"df-84e6a937-42dd-4505-96c1-b578a8db0535\">\n",
              "      <button class=\"colab-df-quickchart\" onclick=\"quickchart('df-84e6a937-42dd-4505-96c1-b578a8db0535')\"\n",
              "                title=\"Suggest charts\"\n",
              "                style=\"display:none;\">\n",
              "\n",
              "<svg xmlns=\"http://www.w3.org/2000/svg\" height=\"24px\"viewBox=\"0 0 24 24\"\n",
              "     width=\"24px\">\n",
              "    <g>\n",
              "        <path d=\"M19 3H5c-1.1 0-2 .9-2 2v14c0 1.1.9 2 2 2h14c1.1 0 2-.9 2-2V5c0-1.1-.9-2-2-2zM9 17H7v-7h2v7zm4 0h-2V7h2v10zm4 0h-2v-4h2v4z\"/>\n",
              "    </g>\n",
              "</svg>\n",
              "      </button>\n",
              "\n",
              "<style>\n",
              "  .colab-df-quickchart {\n",
              "      --bg-color: #E8F0FE;\n",
              "      --fill-color: #1967D2;\n",
              "      --hover-bg-color: #E2EBFA;\n",
              "      --hover-fill-color: #174EA6;\n",
              "      --disabled-fill-color: #AAA;\n",
              "      --disabled-bg-color: #DDD;\n",
              "  }\n",
              "\n",
              "  [theme=dark] .colab-df-quickchart {\n",
              "      --bg-color: #3B4455;\n",
              "      --fill-color: #D2E3FC;\n",
              "      --hover-bg-color: #434B5C;\n",
              "      --hover-fill-color: #FFFFFF;\n",
              "      --disabled-bg-color: #3B4455;\n",
              "      --disabled-fill-color: #666;\n",
              "  }\n",
              "\n",
              "  .colab-df-quickchart {\n",
              "    background-color: var(--bg-color);\n",
              "    border: none;\n",
              "    border-radius: 50%;\n",
              "    cursor: pointer;\n",
              "    display: none;\n",
              "    fill: var(--fill-color);\n",
              "    height: 32px;\n",
              "    padding: 0;\n",
              "    width: 32px;\n",
              "  }\n",
              "\n",
              "  .colab-df-quickchart:hover {\n",
              "    background-color: var(--hover-bg-color);\n",
              "    box-shadow: 0 1px 2px rgba(60, 64, 67, 0.3), 0 1px 3px 1px rgba(60, 64, 67, 0.15);\n",
              "    fill: var(--button-hover-fill-color);\n",
              "  }\n",
              "\n",
              "  .colab-df-quickchart-complete:disabled,\n",
              "  .colab-df-quickchart-complete:disabled:hover {\n",
              "    background-color: var(--disabled-bg-color);\n",
              "    fill: var(--disabled-fill-color);\n",
              "    box-shadow: none;\n",
              "  }\n",
              "\n",
              "  .colab-df-spinner {\n",
              "    border: 2px solid var(--fill-color);\n",
              "    border-color: transparent;\n",
              "    border-bottom-color: var(--fill-color);\n",
              "    animation:\n",
              "      spin 1s steps(1) infinite;\n",
              "  }\n",
              "\n",
              "  @keyframes spin {\n",
              "    0% {\n",
              "      border-color: transparent;\n",
              "      border-bottom-color: var(--fill-color);\n",
              "      border-left-color: var(--fill-color);\n",
              "    }\n",
              "    20% {\n",
              "      border-color: transparent;\n",
              "      border-left-color: var(--fill-color);\n",
              "      border-top-color: var(--fill-color);\n",
              "    }\n",
              "    30% {\n",
              "      border-color: transparent;\n",
              "      border-left-color: var(--fill-color);\n",
              "      border-top-color: var(--fill-color);\n",
              "      border-right-color: var(--fill-color);\n",
              "    }\n",
              "    40% {\n",
              "      border-color: transparent;\n",
              "      border-right-color: var(--fill-color);\n",
              "      border-top-color: var(--fill-color);\n",
              "    }\n",
              "    60% {\n",
              "      border-color: transparent;\n",
              "      border-right-color: var(--fill-color);\n",
              "    }\n",
              "    80% {\n",
              "      border-color: transparent;\n",
              "      border-right-color: var(--fill-color);\n",
              "      border-bottom-color: var(--fill-color);\n",
              "    }\n",
              "    90% {\n",
              "      border-color: transparent;\n",
              "      border-bottom-color: var(--fill-color);\n",
              "    }\n",
              "  }\n",
              "</style>\n",
              "\n",
              "      <script>\n",
              "        async function quickchart(key) {\n",
              "          const quickchartButtonEl =\n",
              "            document.querySelector('#' + key + ' button');\n",
              "          quickchartButtonEl.disabled = true;  // To prevent multiple clicks.\n",
              "          quickchartButtonEl.classList.add('colab-df-spinner');\n",
              "          try {\n",
              "            const charts = await google.colab.kernel.invokeFunction(\n",
              "                'suggestCharts', [key], {});\n",
              "          } catch (error) {\n",
              "            console.error('Error during call to suggestCharts:', error);\n",
              "          }\n",
              "          quickchartButtonEl.classList.remove('colab-df-spinner');\n",
              "          quickchartButtonEl.classList.add('colab-df-quickchart-complete');\n",
              "        }\n",
              "        (() => {\n",
              "          let quickchartButtonEl =\n",
              "            document.querySelector('#df-84e6a937-42dd-4505-96c1-b578a8db0535 button');\n",
              "          quickchartButtonEl.style.display =\n",
              "            google.colab.kernel.accessAllowed ? 'block' : 'none';\n",
              "        })();\n",
              "      </script>\n",
              "    </div>\n",
              "\n",
              "    </div>\n",
              "  </div>\n"
            ],
            "application/vnd.google.colaboratory.intrinsic+json": {
              "type": "dataframe",
              "summary": "{\n  \"name\": \"df[[\\\"time\\\", \\\"review_time\\\"]]\",\n  \"rows\": 20,\n  \"fields\": [\n    {\n      \"column\": \"time\",\n      \"properties\": {\n        \"dtype\": \"string\",\n        \"num_unique_values\": 20,\n        \"samples\": [\n          \"1483482680346\",\n          \"1558948545657\",\n          \"1492940080083\"\n        ],\n        \"semantic_type\": \"\",\n        \"description\": \"\"\n      }\n    },\n    {\n      \"column\": \"review_time\",\n      \"properties\": {\n        \"dtype\": \"date\",\n        \"min\": \"2016-11-05 21:37:15.908000\",\n        \"max\": \"2021-04-13 01:51:35.283000\",\n        \"num_unique_values\": 20,\n        \"samples\": [\n          \"2017-01-03 22:31:20.346000\",\n          \"2019-05-27 09:15:45.657000\",\n          \"2017-04-23 09:34:40.083000\"\n        ],\n        \"semantic_type\": \"\",\n        \"description\": \"\"\n      }\n    }\n  ]\n}"
            }
          },
          "metadata": {},
          "execution_count": 225
        }
      ]
    },
    {
      "cell_type": "code",
      "source": [
        "invalid_rows = df[df[\"review_time\"].isna()]\n",
        "print(invalid_rows[[\"time\", \"review_time\"]])"
      ],
      "metadata": {
        "id": "kEo54d9Mw97d",
        "outputId": "422e0e74-4132-47f1-f6af-abda38e790f1",
        "colab": {
          "base_uri": "https://localhost:8080/"
        }
      },
      "execution_count": 226,
      "outputs": [
        {
          "output_type": "stream",
          "name": "stdout",
          "text": [
            "        time review_time\n",
            "5       None         NaT\n",
            "22      None         NaT\n",
            "46      None         NaT\n",
            "49      None         NaT\n",
            "63      None         NaT\n",
            "...      ...         ...\n",
            "552562  None         NaT\n",
            "552580  None         NaT\n",
            "552598  None         NaT\n",
            "552605  None         NaT\n",
            "552623  None         NaT\n",
            "\n",
            "[29897 rows x 2 columns]\n"
          ]
        }
      ]
    },
    {
      "cell_type": "code",
      "source": [
        "def contains_timestamp(val):\n",
        "    if isinstance(val, str):\n",
        "        match = re.search(r\"\\b\\d{13}\\b\", val)\n",
        "        return bool(match)\n",
        "    return False"
      ],
      "metadata": {
        "id": "wJ0ZMhAa7ifr"
      },
      "execution_count": 227,
      "outputs": []
    },
    {
      "cell_type": "code",
      "source": [
        "print(invalid_rows[~invalid_rows[\"time\"].isna()][\"time\"])\n",
        "print()\n",
        "\n",
        "mask = invalid_rows[\"time\"].notnull() & invalid_rows[\"time\"].apply(contains_timestamp)\n",
        "shortlist = invalid_rows[mask]\n",
        "\n",
        "print(shortlist[[\"time\"]]) # emptiness means no more entries with extractable 13-digit timestamps"
      ],
      "metadata": {
        "id": "qO89J6371MIK",
        "outputId": "d98e303a-4ba6-444d-acf0-78e1d8c2fe10",
        "colab": {
          "base_uri": "https://localhost:8080/"
        }
      },
      "execution_count": 228,
      "outputs": [
        {
          "output_type": "stream",
          "name": "stdout",
          "text": [
            "225        super soggy bread and the cheese choice was b...\n",
            "276        could probably spend at least a week eating h...\n",
            "518        asking me to move it to 5. I rearranged my sc...\n",
            "837        expecting a call but nothing. I called back a...\n",
            "924        I took her for a spin and it drove like a new...\n",
            "                                ...                        \n",
            "551665     because they have a Specials menu that is...w...\n",
            "551771                                     Xander and Tina.\n",
            "551842                there is no way not to give 5 stars.\"\n",
            "552280                                  good house fries...\n",
            "552521     and everything was small to accommodate all c...\n",
            "Name: time, Length: 5082, dtype: object\n",
            "\n",
            "Empty DataFrame\n",
            "Columns: [time]\n",
            "Index: []\n"
          ]
        }
      ]
    },
    {
      "cell_type": "code",
      "source": [
        "df[\"review_time\"] = df[\"review_time\"].dt.hour"
      ],
      "metadata": {
        "id": "u3_yxIGqBPlr"
      },
      "execution_count": 230,
      "outputs": []
    },
    {
      "cell_type": "code",
      "source": [
        "df[[\"time\", \"review_time\"]].head(10)"
      ],
      "metadata": {
        "id": "XOCOAHtNCfkY",
        "outputId": "c56629d2-631a-4fc5-dd49-e027a456a935",
        "colab": {
          "base_uri": "https://localhost:8080/",
          "height": 363
        }
      },
      "execution_count": 238,
      "outputs": [
        {
          "output_type": "execute_result",
          "data": {
            "text/plain": [
              "                                                time  review_time\n",
              "0                                      1525676908252          7.0\n",
              "1                                      1368006776281          9.0\n",
              "2                                      1569090797829         18.0\n",
              "3                                      1597542582178          1.0\n",
              "4                                      1598037847651         19.0\n",
              "5                                               None          NaN\n",
              "6                                      1549419589149          2.0\n",
              "7  \"{'time': 1598807097467, 'text': \"\"We all appr...         17.0\n",
              "8                                      1495309866441         19.0\n",
              "9                                      1562915528083          7.0"
            ],
            "text/html": [
              "\n",
              "  <div id=\"df-3d2af3bc-312f-41b5-97cd-b6cab02f3b13\" class=\"colab-df-container\">\n",
              "    <div>\n",
              "<style scoped>\n",
              "    .dataframe tbody tr th:only-of-type {\n",
              "        vertical-align: middle;\n",
              "    }\n",
              "\n",
              "    .dataframe tbody tr th {\n",
              "        vertical-align: top;\n",
              "    }\n",
              "\n",
              "    .dataframe thead th {\n",
              "        text-align: right;\n",
              "    }\n",
              "</style>\n",
              "<table border=\"1\" class=\"dataframe\">\n",
              "  <thead>\n",
              "    <tr style=\"text-align: right;\">\n",
              "      <th></th>\n",
              "      <th>time</th>\n",
              "      <th>review_time</th>\n",
              "    </tr>\n",
              "  </thead>\n",
              "  <tbody>\n",
              "    <tr>\n",
              "      <th>0</th>\n",
              "      <td>1525676908252</td>\n",
              "      <td>7.0</td>\n",
              "    </tr>\n",
              "    <tr>\n",
              "      <th>1</th>\n",
              "      <td>1368006776281</td>\n",
              "      <td>9.0</td>\n",
              "    </tr>\n",
              "    <tr>\n",
              "      <th>2</th>\n",
              "      <td>1569090797829</td>\n",
              "      <td>18.0</td>\n",
              "    </tr>\n",
              "    <tr>\n",
              "      <th>3</th>\n",
              "      <td>1597542582178</td>\n",
              "      <td>1.0</td>\n",
              "    </tr>\n",
              "    <tr>\n",
              "      <th>4</th>\n",
              "      <td>1598037847651</td>\n",
              "      <td>19.0</td>\n",
              "    </tr>\n",
              "    <tr>\n",
              "      <th>5</th>\n",
              "      <td>None</td>\n",
              "      <td>NaN</td>\n",
              "    </tr>\n",
              "    <tr>\n",
              "      <th>6</th>\n",
              "      <td>1549419589149</td>\n",
              "      <td>2.0</td>\n",
              "    </tr>\n",
              "    <tr>\n",
              "      <th>7</th>\n",
              "      <td>\"{'time': 1598807097467, 'text': \"\"We all appr...</td>\n",
              "      <td>17.0</td>\n",
              "    </tr>\n",
              "    <tr>\n",
              "      <th>8</th>\n",
              "      <td>1495309866441</td>\n",
              "      <td>19.0</td>\n",
              "    </tr>\n",
              "    <tr>\n",
              "      <th>9</th>\n",
              "      <td>1562915528083</td>\n",
              "      <td>7.0</td>\n",
              "    </tr>\n",
              "  </tbody>\n",
              "</table>\n",
              "</div>\n",
              "    <div class=\"colab-df-buttons\">\n",
              "\n",
              "  <div class=\"colab-df-container\">\n",
              "    <button class=\"colab-df-convert\" onclick=\"convertToInteractive('df-3d2af3bc-312f-41b5-97cd-b6cab02f3b13')\"\n",
              "            title=\"Convert this dataframe to an interactive table.\"\n",
              "            style=\"display:none;\">\n",
              "\n",
              "  <svg xmlns=\"http://www.w3.org/2000/svg\" height=\"24px\" viewBox=\"0 -960 960 960\">\n",
              "    <path d=\"M120-120v-720h720v720H120Zm60-500h600v-160H180v160Zm220 220h160v-160H400v160Zm0 220h160v-160H400v160ZM180-400h160v-160H180v160Zm440 0h160v-160H620v160ZM180-180h160v-160H180v160Zm440 0h160v-160H620v160Z\"/>\n",
              "  </svg>\n",
              "    </button>\n",
              "\n",
              "  <style>\n",
              "    .colab-df-container {\n",
              "      display:flex;\n",
              "      gap: 12px;\n",
              "    }\n",
              "\n",
              "    .colab-df-convert {\n",
              "      background-color: #E8F0FE;\n",
              "      border: none;\n",
              "      border-radius: 50%;\n",
              "      cursor: pointer;\n",
              "      display: none;\n",
              "      fill: #1967D2;\n",
              "      height: 32px;\n",
              "      padding: 0 0 0 0;\n",
              "      width: 32px;\n",
              "    }\n",
              "\n",
              "    .colab-df-convert:hover {\n",
              "      background-color: #E2EBFA;\n",
              "      box-shadow: 0px 1px 2px rgba(60, 64, 67, 0.3), 0px 1px 3px 1px rgba(60, 64, 67, 0.15);\n",
              "      fill: #174EA6;\n",
              "    }\n",
              "\n",
              "    .colab-df-buttons div {\n",
              "      margin-bottom: 4px;\n",
              "    }\n",
              "\n",
              "    [theme=dark] .colab-df-convert {\n",
              "      background-color: #3B4455;\n",
              "      fill: #D2E3FC;\n",
              "    }\n",
              "\n",
              "    [theme=dark] .colab-df-convert:hover {\n",
              "      background-color: #434B5C;\n",
              "      box-shadow: 0px 1px 3px 1px rgba(0, 0, 0, 0.15);\n",
              "      filter: drop-shadow(0px 1px 2px rgba(0, 0, 0, 0.3));\n",
              "      fill: #FFFFFF;\n",
              "    }\n",
              "  </style>\n",
              "\n",
              "    <script>\n",
              "      const buttonEl =\n",
              "        document.querySelector('#df-3d2af3bc-312f-41b5-97cd-b6cab02f3b13 button.colab-df-convert');\n",
              "      buttonEl.style.display =\n",
              "        google.colab.kernel.accessAllowed ? 'block' : 'none';\n",
              "\n",
              "      async function convertToInteractive(key) {\n",
              "        const element = document.querySelector('#df-3d2af3bc-312f-41b5-97cd-b6cab02f3b13');\n",
              "        const dataTable =\n",
              "          await google.colab.kernel.invokeFunction('convertToInteractive',\n",
              "                                                    [key], {});\n",
              "        if (!dataTable) return;\n",
              "\n",
              "        const docLinkHtml = 'Like what you see? Visit the ' +\n",
              "          '<a target=\"_blank\" href=https://colab.research.google.com/notebooks/data_table.ipynb>data table notebook</a>'\n",
              "          + ' to learn more about interactive tables.';\n",
              "        element.innerHTML = '';\n",
              "        dataTable['output_type'] = 'display_data';\n",
              "        await google.colab.output.renderOutput(dataTable, element);\n",
              "        const docLink = document.createElement('div');\n",
              "        docLink.innerHTML = docLinkHtml;\n",
              "        element.appendChild(docLink);\n",
              "      }\n",
              "    </script>\n",
              "  </div>\n",
              "\n",
              "\n",
              "    <div id=\"df-cf6e0704-3f43-4588-9afc-f174ca1e916e\">\n",
              "      <button class=\"colab-df-quickchart\" onclick=\"quickchart('df-cf6e0704-3f43-4588-9afc-f174ca1e916e')\"\n",
              "                title=\"Suggest charts\"\n",
              "                style=\"display:none;\">\n",
              "\n",
              "<svg xmlns=\"http://www.w3.org/2000/svg\" height=\"24px\"viewBox=\"0 0 24 24\"\n",
              "     width=\"24px\">\n",
              "    <g>\n",
              "        <path d=\"M19 3H5c-1.1 0-2 .9-2 2v14c0 1.1.9 2 2 2h14c1.1 0 2-.9 2-2V5c0-1.1-.9-2-2-2zM9 17H7v-7h2v7zm4 0h-2V7h2v10zm4 0h-2v-4h2v4z\"/>\n",
              "    </g>\n",
              "</svg>\n",
              "      </button>\n",
              "\n",
              "<style>\n",
              "  .colab-df-quickchart {\n",
              "      --bg-color: #E8F0FE;\n",
              "      --fill-color: #1967D2;\n",
              "      --hover-bg-color: #E2EBFA;\n",
              "      --hover-fill-color: #174EA6;\n",
              "      --disabled-fill-color: #AAA;\n",
              "      --disabled-bg-color: #DDD;\n",
              "  }\n",
              "\n",
              "  [theme=dark] .colab-df-quickchart {\n",
              "      --bg-color: #3B4455;\n",
              "      --fill-color: #D2E3FC;\n",
              "      --hover-bg-color: #434B5C;\n",
              "      --hover-fill-color: #FFFFFF;\n",
              "      --disabled-bg-color: #3B4455;\n",
              "      --disabled-fill-color: #666;\n",
              "  }\n",
              "\n",
              "  .colab-df-quickchart {\n",
              "    background-color: var(--bg-color);\n",
              "    border: none;\n",
              "    border-radius: 50%;\n",
              "    cursor: pointer;\n",
              "    display: none;\n",
              "    fill: var(--fill-color);\n",
              "    height: 32px;\n",
              "    padding: 0;\n",
              "    width: 32px;\n",
              "  }\n",
              "\n",
              "  .colab-df-quickchart:hover {\n",
              "    background-color: var(--hover-bg-color);\n",
              "    box-shadow: 0 1px 2px rgba(60, 64, 67, 0.3), 0 1px 3px 1px rgba(60, 64, 67, 0.15);\n",
              "    fill: var(--button-hover-fill-color);\n",
              "  }\n",
              "\n",
              "  .colab-df-quickchart-complete:disabled,\n",
              "  .colab-df-quickchart-complete:disabled:hover {\n",
              "    background-color: var(--disabled-bg-color);\n",
              "    fill: var(--disabled-fill-color);\n",
              "    box-shadow: none;\n",
              "  }\n",
              "\n",
              "  .colab-df-spinner {\n",
              "    border: 2px solid var(--fill-color);\n",
              "    border-color: transparent;\n",
              "    border-bottom-color: var(--fill-color);\n",
              "    animation:\n",
              "      spin 1s steps(1) infinite;\n",
              "  }\n",
              "\n",
              "  @keyframes spin {\n",
              "    0% {\n",
              "      border-color: transparent;\n",
              "      border-bottom-color: var(--fill-color);\n",
              "      border-left-color: var(--fill-color);\n",
              "    }\n",
              "    20% {\n",
              "      border-color: transparent;\n",
              "      border-left-color: var(--fill-color);\n",
              "      border-top-color: var(--fill-color);\n",
              "    }\n",
              "    30% {\n",
              "      border-color: transparent;\n",
              "      border-left-color: var(--fill-color);\n",
              "      border-top-color: var(--fill-color);\n",
              "      border-right-color: var(--fill-color);\n",
              "    }\n",
              "    40% {\n",
              "      border-color: transparent;\n",
              "      border-right-color: var(--fill-color);\n",
              "      border-top-color: var(--fill-color);\n",
              "    }\n",
              "    60% {\n",
              "      border-color: transparent;\n",
              "      border-right-color: var(--fill-color);\n",
              "    }\n",
              "    80% {\n",
              "      border-color: transparent;\n",
              "      border-right-color: var(--fill-color);\n",
              "      border-bottom-color: var(--fill-color);\n",
              "    }\n",
              "    90% {\n",
              "      border-color: transparent;\n",
              "      border-bottom-color: var(--fill-color);\n",
              "    }\n",
              "  }\n",
              "</style>\n",
              "\n",
              "      <script>\n",
              "        async function quickchart(key) {\n",
              "          const quickchartButtonEl =\n",
              "            document.querySelector('#' + key + ' button');\n",
              "          quickchartButtonEl.disabled = true;  // To prevent multiple clicks.\n",
              "          quickchartButtonEl.classList.add('colab-df-spinner');\n",
              "          try {\n",
              "            const charts = await google.colab.kernel.invokeFunction(\n",
              "                'suggestCharts', [key], {});\n",
              "          } catch (error) {\n",
              "            console.error('Error during call to suggestCharts:', error);\n",
              "          }\n",
              "          quickchartButtonEl.classList.remove('colab-df-spinner');\n",
              "          quickchartButtonEl.classList.add('colab-df-quickchart-complete');\n",
              "        }\n",
              "        (() => {\n",
              "          let quickchartButtonEl =\n",
              "            document.querySelector('#df-cf6e0704-3f43-4588-9afc-f174ca1e916e button');\n",
              "          quickchartButtonEl.style.display =\n",
              "            google.colab.kernel.accessAllowed ? 'block' : 'none';\n",
              "        })();\n",
              "      </script>\n",
              "    </div>\n",
              "\n",
              "    </div>\n",
              "  </div>\n"
            ],
            "application/vnd.google.colaboratory.intrinsic+json": {
              "type": "dataframe",
              "summary": "{\n  \"name\": \"df[[\\\"time\\\", \\\"review_time\\\"]]\",\n  \"rows\": 10,\n  \"fields\": [\n    {\n      \"column\": \"time\",\n      \"properties\": {\n        \"dtype\": \"string\",\n        \"num_unique_values\": 9,\n        \"samples\": [\n          \"1495309866441\",\n          \"1368006776281\",\n          \"1549419589149\"\n        ],\n        \"semantic_type\": \"\",\n        \"description\": \"\"\n      }\n    },\n    {\n      \"column\": \"review_time\",\n      \"properties\": {\n        \"dtype\": \"number\",\n        \"std\": 7.33143914930759,\n        \"min\": 1.0,\n        \"max\": 19.0,\n        \"num_unique_values\": 7,\n        \"samples\": [\n          7.0,\n          9.0,\n          2.0\n        ],\n        \"semantic_type\": \"\",\n        \"description\": \"\"\n      }\n    }\n  ]\n}"
            }
          },
          "metadata": {},
          "execution_count": 238
        }
      ]
    },
    {
      "cell_type": "markdown",
      "source": [
        "### Q1.2.3 Relationship between `gmap_id` and `review_time` [both discrete]\n",
        "* which time people usually review?\n",
        "* which time do they review the less amount?\n",
        "* How many business is reviewed in the morning? [6<= x <12 ; 06:00-11:59]"
      ],
      "metadata": {
        "id": "c5xZXiWryEIM"
      }
    },
    {
      "cell_type": "markdown",
      "source": [
        "## Q1.3 join `meta-business` with the current df on `gmap_id`"
      ],
      "metadata": {
        "id": "zfrHknZqyEGI"
      }
    },
    {
      "cell_type": "markdown",
      "source": [
        "### Q1.3.1 Find the `workday` with most reviews"
      ],
      "metadata": {
        "id": "B-jy-0wxyECO"
      }
    },
    {
      "cell_type": "markdown",
      "source": [
        "### Q1.3.2 Category of business name with most review in that day\n",
        "* in that day which business (the business `name`) has the highest avg rating [max(avg(most_review_day))]\n",
        "* Find the `category` of the business `name`"
      ],
      "metadata": {
        "id": "mhDYgXzIyEAW"
      }
    },
    {
      "cell_type": "markdown",
      "source": [
        "### Q1.3.3 Exploration on business `name`\n",
        "* peak hour of that catefory\n",
        "* Plot historam"
      ],
      "metadata": {
        "id": "PmQQhn7cyDwM"
      }
    },
    {
      "cell_type": "code",
      "source": [],
      "metadata": {
        "id": "EcZUaCknyDPn"
      },
      "execution_count": null,
      "outputs": []
    },
    {
      "cell_type": "markdown",
      "source": [
        "[write about the insight]"
      ],
      "metadata": {
        "id": "K0YfikTn3ZxP"
      }
    },
    {
      "cell_type": "markdown",
      "source": [
        "## Q1.4 Top 30 words by year\n",
        "* For the reviews on each of the submissions, work on all the review content and find out the `top 30`\n",
        "most common words;\n",
        "* Also generate separate `word cloud` visualizations for `different years`( by grouping\n",
        "the reviews by review year )\n",
        "* write down the insights in the markdown cell."
      ],
      "metadata": {
        "id": "OQmoTpwD3jxe"
      }
    },
    {
      "cell_type": "markdown",
      "source": [
        "## Q1.5 Analysis on business `name` and `review`\n",
        "* find the number of unique business `reviewers` and its `category` (find out the highest distinct count of reviewers on business / category level)\n",
        "* When `reviewers` submitted their review? [add visualization and write in markdown]"
      ],
      "metadata": {
        "id": "e0ynp3584XP1"
      }
    },
    {
      "cell_type": "markdown",
      "source": [
        "## Q1.6 Build recommendation for business\n",
        "(by using reviews, ratings, and its categories)"
      ],
      "metadata": {
        "id": "hpoAt6yX5TJ3"
      }
    },
    {
      "cell_type": "markdown",
      "source": [
        "### Q1.6.1 Write down the strategy to build Recommendation\n",
        "create own strategy or leverage KNN on collaborative filtering.\n",
        "* Write about the logic"
      ],
      "metadata": {
        "id": "TOjRqqNw5k1T"
      }
    },
    {
      "cell_type": "markdown",
      "source": [
        "### Q1.6.2 Implement the strategy\n",
        "add sufficient comments where required"
      ],
      "metadata": {
        "id": "TJ3zsZI56vBS"
      }
    },
    {
      "cell_type": "code",
      "source": [],
      "metadata": {
        "id": "oeq4afxb7SrK"
      },
      "execution_count": null,
      "outputs": []
    },
    {
      "cell_type": "markdown",
      "source": [
        "## Q1.7 Analysis on `Rating`s for each submission review"
      ],
      "metadata": {
        "id": "IgBODlIJ7WRH"
      }
    },
    {
      "cell_type": "markdown",
      "source": [
        "### Q1.7.1 Relationship of `rating` and `business categories`"
      ],
      "metadata": {
        "id": "32ciVQwW7mc0"
      }
    },
    {
      "cell_type": "code",
      "source": [],
      "metadata": {
        "id": "u02h8VtA71-S"
      },
      "execution_count": null,
      "outputs": []
    },
    {
      "cell_type": "markdown",
      "source": [
        "write down the insights"
      ],
      "metadata": {
        "id": "ZkgdagWl73Nt"
      }
    },
    {
      "cell_type": "markdown",
      "source": [
        "### Q1.7.2 Focus on lower ratings\n",
        "[Select a threshold to considered as lower]\n",
        "* Find the most common words\n",
        "* Whats the reason behind lower rating?"
      ],
      "metadata": {
        "id": "-FG583aS762I"
      }
    },
    {
      "cell_type": "code",
      "source": [],
      "metadata": {
        "id": "t0_qjrT875_a"
      },
      "execution_count": null,
      "outputs": []
    },
    {
      "cell_type": "markdown",
      "source": [
        "## Q1.8 Reviewer level with all the reviewed business history (submission of the review)"
      ],
      "metadata": {
        "id": "Guq5tCXo8a6F"
      }
    },
    {
      "cell_type": "markdown",
      "source": [
        "### Q1.8.1 Create a `user_business_list`\n",
        "* check reviewer level for reviewed business\n",
        "* sort the review based on review time (`new_time` column)\n",
        "* save the business name, for each reviewer into the `user_business_list`\n",
        "* for the list: print the `number of elements` / `number of business name` for each reviewers **[before removing]**"
      ],
      "metadata": {
        "id": "TIoKbFbY84WM"
      }
    },
    {
      "cell_type": "code",
      "source": [],
      "metadata": {
        "id": "BnXpG6bjBHj2"
      },
      "execution_count": null,
      "outputs": []
    },
    {
      "cell_type": "markdown",
      "source": [
        "### Q1.8.2 Repeated business names for the same user/reviewer?\n",
        "* remove those duplicated business names under same user (take unique business name)\n",
        "* print the `number of business name` for each reviewers **[after removing]**"
      ],
      "metadata": {
        "id": "M338fm_U_LmG"
      }
    },
    {
      "cell_type": "code",
      "source": [],
      "metadata": {
        "id": "rXYiIJQhBFif"
      },
      "execution_count": null,
      "outputs": []
    },
    {
      "cell_type": "markdown",
      "source": [
        "### Q1.8.3 user similarities in the past reviewed business\n",
        "* Write down the strategy for implementation with sufficient explanation\n",
        "* Check on the `user_business_list` and find the user similarities according to their past reviewed business.\n",
        "\n",
        "Hint: you might consider to use `encoding` for each of the business names and then calculate the difference of the users."
      ],
      "metadata": {
        "id": "jhOBWvfmBGWe"
      }
    },
    {
      "cell_type": "code",
      "source": [],
      "metadata": {
        "id": "XgM2cMGsLT9c"
      },
      "execution_count": null,
      "outputs": []
    },
    {
      "cell_type": "markdown",
      "source": [
        "# Part 2\n",
        "---"
      ],
      "metadata": {
        "id": "CmGLNvGwPS9h"
      }
    },
    {
      "cell_type": "markdown",
      "source": [
        "## Q2.1 Seasonality Pattern"
      ],
      "metadata": {
        "id": "nbiYkjj4PX5Q"
      }
    },
    {
      "cell_type": "code",
      "source": [],
      "metadata": {
        "id": "D-NGApYmPlPs"
      },
      "execution_count": null,
      "outputs": []
    },
    {
      "cell_type": "markdown",
      "source": [
        "## Q2.2 ARIMA Model"
      ],
      "metadata": {
        "id": "tG3kq2d4PmDg"
      }
    },
    {
      "cell_type": "code",
      "source": [],
      "metadata": {
        "id": "XLEm_b2ZPXFK"
      },
      "execution_count": null,
      "outputs": []
    },
    {
      "cell_type": "markdown",
      "source": [
        "## Q2.3 Analyze Annual Report of Indigenous Strategy\n",
        "link to the pdf"
      ],
      "metadata": {
        "id": "D3QwxLgpPwba"
      }
    },
    {
      "cell_type": "markdown",
      "source": [
        "### Data Extraction"
      ],
      "metadata": {
        "id": "cfheJL1mQs98"
      }
    },
    {
      "cell_type": "markdown",
      "source": [
        "### Data Analysis"
      ],
      "metadata": {
        "id": "yFyTdgufQwMe"
      }
    },
    {
      "cell_type": "markdown",
      "source": [
        "### Insights"
      ],
      "metadata": {
        "id": "2WFf2VFKQ1xD"
      }
    },
    {
      "cell_type": "code",
      "source": [],
      "metadata": {
        "id": "QwS45w1xQ3ZB"
      },
      "execution_count": null,
      "outputs": []
    }
  ]
}