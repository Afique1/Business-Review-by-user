{
  "nbformat": 4,
  "nbformat_minor": 0,
  "metadata": {
    "colab": {
      "provenance": [],
      "include_colab_link": true
    },
    "kernelspec": {
      "name": "python3",
      "display_name": "Python 3"
    },
    "language_info": {
      "name": "python"
    }
  },
  "cells": [
    {
      "cell_type": "markdown",
      "metadata": {
        "id": "view-in-github",
        "colab_type": "text"
      },
      "source": [
        "<a href=\"https://colab.research.google.com/github/Afique1/Business-Review-by-user/blob/Alan's-works/SIT742Task2_Group32.ipynb\" target=\"_parent\"><img src=\"https://colab.research.google.com/assets/colab-badge.svg\" alt=\"Open In Colab\"/></a>"
      ]
    },
    {
      "cell_type": "markdown",
      "source": [
        "# Questions selection\n",
        "Questions are selected based on the birthdate(day) of students [if it's even/odd then selected Q. are even/odd]"
      ],
      "metadata": {
        "id": "ZjYE_L8hBz-m"
      }
    },
    {
      "cell_type": "code",
      "source": [
        "students = {\"Afique\": 11,\"Alan\": 10}\n",
        "questions = list(range(1, 9))  # 8 questions for Part 1\n",
        "\n",
        "assignments = {}\n",
        "\n",
        "for student, birthdate in students.items():\n",
        "  assignments[student] = []\n",
        "  for question in questions:\n",
        "    if (birthdate % 2 == 0 and question % 2 == 0) or (birthdate % 2 != 0 and question % 2 != 0):\n",
        "      assignments[student].append(f\"Q{question}\")\n",
        "\n",
        "print(\"Assigned Questions for part 1:\\n\"+\"-\"*40)\n",
        "\n",
        "for student, assigned_questions in assignments.items():\n",
        "  print(f\"{student} (Birthdate: {students[student]}): {', '.join(assigned_questions)}\")"
      ],
      "metadata": {
        "colab": {
          "base_uri": "https://localhost:8080/"
        },
        "id": "aO5k96U1BzbR",
        "outputId": "46963c03-c77f-4d5d-d036-4477968c48d1"
      },
      "execution_count": null,
      "outputs": [
        {
          "output_type": "stream",
          "name": "stdout",
          "text": [
            "Assigned Questions for part 1:\n",
            "----------------------------------------\n",
            "Afique (Birthdate: 11): Q1, Q3, Q5, Q7\n",
            "Alan (Birthdate: 10): Q2, Q4, Q6, Q8\n"
          ]
        }
      ]
    },
    {
      "cell_type": "markdown",
      "source": [
        "# Part 0) Read the data using Pyspark"
      ],
      "metadata": {
        "id": "C7HR1Bc4FutN"
      }
    },
    {
      "cell_type": "markdown",
      "source": [
        "Update and Import packages"
      ],
      "metadata": {
        "id": "U9I9ATzTpEeG"
      }
    },
    {
      "cell_type": "code",
      "source": [
        "#update local version of the package catalog\n",
        "!apt-get update\n",
        "# install Java8\n",
        "!apt-get install openjdk-8-jdk-headless -qq > /dev/null\n",
        "\n",
        "# install findspark\n",
        "!pip install -q findspark\n",
        "\n",
        "import findspark\n",
        "findspark.init()"
      ],
      "metadata": {
        "colab": {
          "base_uri": "https://localhost:8080/"
        },
        "collapsed": true,
        "id": "6Wq_QaYqiglz",
        "outputId": "7822cc03-874d-4a00-dcf3-918d04e48de8"
      },
      "execution_count": null,
      "outputs": [
        {
          "output_type": "stream",
          "name": "stdout",
          "text": [
            "Get:1 https://cli.github.com/packages stable InRelease [3,917 B]\n",
            "Get:2 http://security.ubuntu.com/ubuntu jammy-security InRelease [129 kB]\n",
            "Get:3 https://cloud.r-project.org/bin/linux/ubuntu jammy-cran40/ InRelease [3,632 B]\n",
            "Get:4 https://developer.download.nvidia.com/compute/cuda/repos/ubuntu2204/x86_64  InRelease [1,581 B]\n",
            "Hit:5 http://archive.ubuntu.com/ubuntu jammy InRelease\n",
            "Get:6 https://r2u.stat.illinois.edu/ubuntu jammy InRelease [6,555 B]\n",
            "Get:7 http://archive.ubuntu.com/ubuntu jammy-updates InRelease [128 kB]\n",
            "Get:8 https://cli.github.com/packages stable/main amd64 Packages [346 B]\n",
            "Get:9 https://developer.download.nvidia.com/compute/cuda/repos/ubuntu2204/x86_64  Packages [2,006 kB]\n",
            "Hit:10 https://ppa.launchpadcontent.net/deadsnakes/ppa/ubuntu jammy InRelease\n",
            "Get:11 https://ppa.launchpadcontent.net/graphics-drivers/ppa/ubuntu jammy InRelease [24.3 kB]\n",
            "Get:12 http://archive.ubuntu.com/ubuntu jammy-backports InRelease [127 kB]\n",
            "Hit:13 https://ppa.launchpadcontent.net/ubuntugis/ppa/ubuntu jammy InRelease\n",
            "Get:14 https://r2u.stat.illinois.edu/ubuntu jammy/main amd64 Packages [2,795 kB]\n",
            "Get:15 http://security.ubuntu.com/ubuntu jammy-security/multiverse amd64 Packages [80.3 kB]\n",
            "Get:16 http://security.ubuntu.com/ubuntu jammy-security/main amd64 Packages [3,311 kB]\n",
            "Get:17 https://r2u.stat.illinois.edu/ubuntu jammy/main all Packages [9,267 kB]\n",
            "Get:18 http://security.ubuntu.com/ubuntu jammy-security/universe amd64 Packages [1,274 kB]\n",
            "Get:19 http://security.ubuntu.com/ubuntu jammy-security/restricted amd64 Packages [5,441 kB]\n",
            "Get:20 http://archive.ubuntu.com/ubuntu jammy-updates/multiverse amd64 Packages [88.8 kB]\n",
            "Get:21 http://archive.ubuntu.com/ubuntu jammy-updates/universe amd64 Packages [1,581 kB]\n",
            "Get:22 http://archive.ubuntu.com/ubuntu jammy-updates/main amd64 Packages [3,624 kB]\n",
            "Get:23 http://archive.ubuntu.com/ubuntu jammy-updates/restricted amd64 Packages [5,627 kB]\n",
            "Get:24 https://ppa.launchpadcontent.net/graphics-drivers/ppa/ubuntu jammy/main amd64 Packages [43.2 kB]\n",
            "Fetched 35.6 MB in 7s (4,859 kB/s)\n",
            "Reading package lists... Done\n",
            "W: Skipping acquire of configured file 'main/source/Sources' as repository 'https://r2u.stat.illinois.edu/ubuntu jammy InRelease' does not seem to provide it (sources.list entry misspelt?)\n"
          ]
        }
      ]
    },
    {
      "cell_type": "code",
      "source": [
        "import pandas as pd\n",
        "import matplotlib.pyplot as plt\n",
        "import seaborn as sns\n",
        "\n",
        "# from pyspark import SparkContext\n",
        "# from pyspark.sql import SQLContext"
      ],
      "metadata": {
        "id": "8Cfdp_tcqVkp"
      },
      "execution_count": 2,
      "outputs": []
    },
    {
      "cell_type": "markdown",
      "source": [
        "`SparkSession` is the combination of SparkContext and SQLContext. So, the updated package/ will be used instead of SparkContext and SQLContext.\n"
      ],
      "metadata": {
        "id": "Jqk4ozC1GMgL"
      }
    },
    {
      "cell_type": "code",
      "source": [
        "from pyspark.sql import SparkSession\n",
        "\n",
        "spark = SparkSession.builder \\\n",
        "    .master(\"local[*]\") \\\n",
        "    .appName(\"BusinessReviewAnalysis\") \\\n",
        "    .getOrCreate()\n",
        "\n",
        "print(\"Spark session created successfully!\")"
      ],
      "metadata": {
        "colab": {
          "base_uri": "https://localhost:8080/"
        },
        "id": "CSWzlkJADT_l",
        "outputId": "566f6af6-07dc-4e63-ed8a-7a9c844ef893"
      },
      "execution_count": 3,
      "outputs": [
        {
          "output_type": "stream",
          "name": "stdout",
          "text": [
            "Spark session created successfully!\n"
          ]
        }
      ]
    },
    {
      "cell_type": "markdown",
      "source": [
        "Download and save the csv file locally."
      ],
      "metadata": {
        "id": "ZsLEQej_pOca"
      }
    },
    {
      "cell_type": "code",
      "source": [
        "!pip install wget"
      ],
      "metadata": {
        "id": "L9f38d8WF68r",
        "colab": {
          "base_uri": "https://localhost:8080/"
        },
        "collapsed": true,
        "outputId": "9abe726e-517b-462d-9aff-cf22eef0bb19"
      },
      "execution_count": 6,
      "outputs": [
        {
          "output_type": "stream",
          "name": "stdout",
          "text": [
            "Collecting wget\n",
            "  Downloading wget-3.2.zip (10 kB)\n",
            "  Preparing metadata (setup.py) ... \u001b[?25l\u001b[?25hdone\n",
            "Building wheels for collected packages: wget\n",
            "  Building wheel for wget (setup.py) ... \u001b[?25l\u001b[?25hdone\n",
            "  Created wheel for wget: filename=wget-3.2-py3-none-any.whl size=9655 sha256=4ad8942648319396f8c4cbf178a3488cc3e5756b810d606b377c2edcae6107c3\n",
            "  Stored in directory: /root/.cache/pip/wheels/01/46/3b/e29ffbe4ebe614ff224bad40fc6a5773a67a163251585a13a9\n",
            "Successfully built wget\n",
            "Installing collected packages: wget\n",
            "Successfully installed wget-3.2\n"
          ]
        }
      ]
    },
    {
      "cell_type": "code",
      "source": [
        "import wget\n",
        "\n",
        "link_to_data1 = 'https://github.com/Afique1/Business-Review-by-user/raw/main/Dataset/meta-review-business.csv'\n",
        "link_to_data2 = 'https://github.com/Afique1/Business-Review-by-user/raw/main/Dataset/review.csv'\n",
        "\n",
        "MetaReview_Dataset = wget.download(link_to_data1)\n",
        "Review_Dataset = wget.download(link_to_data2)"
      ],
      "metadata": {
        "id": "ixaBb7LbiRRT"
      },
      "execution_count": 7,
      "outputs": []
    },
    {
      "cell_type": "code",
      "source": [
        "# Read the datasets into Spark DataFrames with 10 partitioning\n",
        "meta_review_sdf = spark.read.csv(MetaReview_Dataset, header=True, inferSchema=True).repartition(10)\n",
        "review_sdf = spark.read.csv(Review_Dataset, header=True, inferSchema=True).repartition(10)\n",
        "\n",
        "print(\"Meta Review Dataset Schema:\")\n",
        "meta_review_sdf.printSchema()\n",
        "# print(\"\\nMeta Review Dataset Head:\")\n",
        "# meta_review_sdf.show(5)\n",
        "\n",
        "print(\"\\nReview Dataset Schema:\")\n",
        "review_sdf.printSchema()\n",
        "# print(\"\\nReview Dataset Head:\")\n",
        "# review_sdf.show(5)"
      ],
      "metadata": {
        "colab": {
          "base_uri": "https://localhost:8080/"
        },
        "id": "UMdPuQOEitw8",
        "outputId": "fdb52a2d-ab19-4239-ab37-61bb78ff5b3e"
      },
      "execution_count": 9,
      "outputs": [
        {
          "output_type": "stream",
          "name": "stdout",
          "text": [
            "Meta Review Dataset Schema:\n",
            "root\n",
            " |-- name: string (nullable = true)\n",
            " |-- address: string (nullable = true)\n",
            " |-- gmap_id: string (nullable = true)\n",
            " |-- description: string (nullable = true)\n",
            " |-- latitude: string (nullable = true)\n",
            " |-- longitude: string (nullable = true)\n",
            " |-- category: string (nullable = true)\n",
            " |-- avg_rating: string (nullable = true)\n",
            " |-- num_of_reviews: string (nullable = true)\n",
            " |-- price: string (nullable = true)\n",
            " |-- hours: string (nullable = true)\n",
            " |-- MISC: string (nullable = true)\n",
            " |-- state: string (nullable = true)\n",
            " |-- relative_results: string (nullable = true)\n",
            " |-- url: string (nullable = true)\n",
            "\n",
            "\n",
            "Review Dataset Schema:\n",
            "root\n",
            " |-- user_id: string (nullable = true)\n",
            " |-- name: string (nullable = true)\n",
            " |-- time: string (nullable = true)\n",
            " |-- rating: string (nullable = true)\n",
            " |-- text: string (nullable = true)\n",
            " |-- pics: string (nullable = true)\n",
            " |-- resp: string (nullable = true)\n",
            " |-- gmap_id: string (nullable = true)\n",
            "\n"
          ]
        }
      ]
    },
    {
      "cell_type": "markdown",
      "source": [
        "Investigate the datasets"
      ],
      "metadata": {
        "id": "qmSGsWZUMwTd"
      }
    },
    {
      "cell_type": "code",
      "source": [
        "print(\"Investigating Meta Review Dataset:\")\n",
        "print(\"Number of rows:\", meta_review_sdf.count())\n",
        "print(\"Columns:\", meta_review_sdf.columns)\n",
        "print(\"Summary Statistics:\")\n",
        "meta_review_sdf.describe().show()\n",
        "\n",
        "print(\"\\nInvestigating Review Dataset:\")\n",
        "print(\"Number of rows:\", review_sdf.count())\n",
        "print(\"Columns:\", review_sdf.columns)\n",
        "print(\"Summary Statistics:\")\n",
        "review_sdf.describe().show()"
      ],
      "metadata": {
        "id": "NM7jKVPKMz8Y",
        "colab": {
          "base_uri": "https://localhost:8080/"
        },
        "outputId": "ca54684c-8957-463f-8fd5-f3146031ee91"
      },
      "execution_count": 10,
      "outputs": [
        {
          "output_type": "stream",
          "name": "stdout",
          "text": [
            "Investigating Meta Review Dataset:\n",
            "Number of rows: 12774\n",
            "Columns: ['name', 'address', 'gmap_id', 'description', 'latitude', 'longitude', 'category', 'avg_rating', 'num_of_reviews', 'price', 'hours', 'MISC', 'state', 'relative_results', 'url']\n",
            "Summary Statistics:\n",
            "+-------+--------------------+--------------------+--------------------+--------------------+------------------+-------------------+--------------------+--------------------+--------------------+--------------------+--------------------+--------------------+--------------------+--------------------+--------------------+\n",
            "|summary|                name|             address|             gmap_id|         description|          latitude|          longitude|            category|          avg_rating|      num_of_reviews|               price|               hours|                MISC|               state|    relative_results|                 url|\n",
            "+-------+--------------------+--------------------+--------------------+--------------------+------------------+-------------------+--------------------+--------------------+--------------------+--------------------+--------------------+--------------------+--------------------+--------------------+--------------------+\n",
            "|  count|               12774|               12606|               12774|                1524|             12774|              12771|               12707|               12774|               12774|                1634|                8681|                9379|                8238|               10968|               12763|\n",
            "|   mean|                NULL|                NULL|                NULL|                NULL| 61.18225828028984|-147.36042359994508|  62.598831866666664|   4.350674254473206|   81.79944012627358|   47.35483870967741|   64.95277777777777|   94.83461538461539|   19.37333333333333|  128.11764705882354|  159.33333333333334|\n",
            "| stddev|                NULL|                NULL|                NULL|                NULL|2.5299390096294587| 14.479620086490202|   1.895741506407224|   2.732010696852193|     215.93255745369|   97.56806799600533|  205.09393316389182|   189.3304918755723|  19.472892024800114|  189.73105055345488|  239.80565047554654|\n",
            "|    min|\"\"\"FORMERLY\"\" WIG...|\"\"\"FORMERLY\"\" WIG...|      1700 Willow St|           AK 99508\"|         AK 99502\"|-130.01990139999998|\"[\"\"Bahá'í house ...| \"\"Children's clo...| \"\"Children's par...| \"\"Men's clothing...| \"\"Children's fur...| \"\"Women's clothi...|     \"\"Men's shoes\"\"|  \"\"Women's shoes\"\"]| 'Amenities': ['B...|\n",
            "|    max|🚚Eagle Towing An...|🚚Eagle Towing An...|0x89c2804a7a0f7fd...|Zoo exhibiting a ...|           71.3875|              180.0|             ['Zoo']|          64.8611078|['Tourist attract...|                  ₩₩|[['Wednesday', 'O...|{'Service options...|{'Service options...|{'Service options...|{'Service options...|\n",
            "+-------+--------------------+--------------------+--------------------+--------------------+------------------+-------------------+--------------------+--------------------+--------------------+--------------------+--------------------+--------------------+--------------------+--------------------+--------------------+\n",
            "\n",
            "\n",
            "Investigating Review Dataset:\n",
            "Number of rows: 552624\n",
            "Columns: ['user_id', 'name', 'time', 'rating', 'text', 'pics', 'resp', 'gmap_id']\n",
            "Summary Statistics:\n",
            "+-------+--------------------+--------------------+--------------------+--------------------+--------------------+--------------------+--------------------+--------------------+\n",
            "|summary|             user_id|                name|                time|              rating|                text|                pics|                resp|             gmap_id|\n",
            "+-------+--------------------+--------------------+--------------------+--------------------+--------------------+--------------------+--------------------+--------------------+\n",
            "|  count|              552622|              532753|              527809|              534740|              302693|               22145|               44156|              506315|\n",
            "|   mean|1.091261853872944E20|      5.4847467125E7|1.550287060733735E12|   4.283758726944663|               505.2|              2019.0|                 6.0|                 8.0|\n",
            "| stddev|5.308169483536623...|  7.69216760046275E7|3.870308226597181E10|   1.035651914036174|   996.5398269345119|                NULL|                NULL|                NULL|\n",
            "|    min|!! I'm not going ...|  \"\"campground\"\" ...|                    |  \"\" I'm sorry ab...|  1.0 oz. Russian...|  (It's not). 2. ...|   \"\"Nachos\"\". 🤦‍♀️|   \"\"rock bottom\"...|\n",
            "|    max|🥕 Carrot cake ma...|             👍👍😎\"|              수영장|                스파|              🦋🍃🦅|😉 I can get it f...|{'time': 16309533...|{'time': 16216526...|\n",
            "+-------+--------------------+--------------------+--------------------+--------------------+--------------------+--------------------+--------------------+--------------------+\n",
            "\n"
          ]
        }
      ]
    },
    {
      "cell_type": "code",
      "source": [
        "print(\"Number of partitions for meta_review_sdf:\", meta_review_sdf.rdd.getNumPartitions())\n",
        "print(\"Number of partitions for review_sdf:\", review_sdf.rdd.getNumPartitions())"
      ],
      "metadata": {
        "colab": {
          "base_uri": "https://localhost:8080/"
        },
        "id": "0mRfYRqGG87K",
        "outputId": "e9dbb5a8-27e2-464c-a912-7208ff7ff901"
      },
      "execution_count": null,
      "outputs": [
        {
          "output_type": "stream",
          "name": "stdout",
          "text": [
            "Number of partitions for meta_review_sdf: 10\n",
            "Number of partitions for review_sdf: 10\n"
          ]
        }
      ]
    },
    {
      "cell_type": "code",
      "source": [
        "# Get the SparkContext from the SparkSession\n",
        "sc = spark.sparkContext\n",
        "\n",
        "# Get the number of active cores\n",
        "# In local mode, this typically corresponds to the number of threads being used\n",
        "num_cores = sc.defaultParallelism\n",
        "\n",
        "print(f\"Number of cores being used by Spark: {num_cores}\")"
      ],
      "metadata": {
        "colab": {
          "base_uri": "https://localhost:8080/"
        },
        "id": "b7cL42k9R09b",
        "outputId": "211b9052-c19a-4c57-dd18-d7b9c1aabfdc"
      },
      "execution_count": 11,
      "outputs": [
        {
          "output_type": "stream",
          "name": "stdout",
          "text": [
            "Number of cores being used by Spark: 2\n"
          ]
        }
      ]
    },
    {
      "cell_type": "markdown",
      "source": [
        "Is it wise to join both sdfs?"
      ],
      "metadata": {
        "id": "JaCzT-oINnaH"
      }
    },
    {
      "cell_type": "code",
      "source": [
        "# Count and print the number of unique gmap_id values in each DataFrame\n",
        "unique_meta_review_count = meta_review_sdf.select(\"gmap_id\").distinct().count()\n",
        "unique_review_count = review_sdf.select(\"gmap_id\").distinct().count()\n",
        "\n",
        "print(\"\\nNumber of unique gmap_id in meta_review_sdf:\", unique_meta_review_count)\n",
        "print(\"Number of unique gmap_id in review_sdf:\", unique_review_count)"
      ],
      "metadata": {
        "colab": {
          "base_uri": "https://localhost:8080/"
        },
        "id": "xE80W0M0Juwt",
        "outputId": "26cf99ad-6a32-4394-f6ab-9de8382cfac0"
      },
      "execution_count": 12,
      "outputs": [
        {
          "output_type": "stream",
          "name": "stdout",
          "text": [
            "\n",
            "Number of unique gmap_id in meta_review_sdf: 12688\n",
            "Number of unique gmap_id in review_sdf: 12468\n"
          ]
        }
      ]
    },
    {
      "cell_type": "markdown",
      "source": [
        "## Join based on `gmap_id`"
      ],
      "metadata": {
        "id": "Ac-36WrLJv0y"
      }
    },
    {
      "cell_type": "code",
      "source": [
        "# Perform an inner join on the 'gmap_id' column\n",
        "sdf = meta_review_sdf.join(review_sdf, on=\"gmap_id\", how=\"inner\")\n",
        "\n",
        "# Show the schema and a few rows of the joined DataFrame to verify\n",
        "print(\"Joined DataFrame Schema:\")\n",
        "sdf.printSchema()\n",
        "sdf.count()"
      ],
      "metadata": {
        "colab": {
          "base_uri": "https://localhost:8080/"
        },
        "id": "RON0CX4-KLT4",
        "outputId": "9870a1aa-4830-4c66-be61-c6630e8af707"
      },
      "execution_count": 13,
      "outputs": [
        {
          "output_type": "stream",
          "name": "stdout",
          "text": [
            "Joined DataFrame Schema:\n",
            "root\n",
            " |-- gmap_id: string (nullable = true)\n",
            " |-- name: string (nullable = true)\n",
            " |-- address: string (nullable = true)\n",
            " |-- description: string (nullable = true)\n",
            " |-- latitude: string (nullable = true)\n",
            " |-- longitude: string (nullable = true)\n",
            " |-- category: string (nullable = true)\n",
            " |-- avg_rating: string (nullable = true)\n",
            " |-- num_of_reviews: string (nullable = true)\n",
            " |-- price: string (nullable = true)\n",
            " |-- hours: string (nullable = true)\n",
            " |-- MISC: string (nullable = true)\n",
            " |-- state: string (nullable = true)\n",
            " |-- relative_results: string (nullable = true)\n",
            " |-- url: string (nullable = true)\n",
            " |-- user_id: string (nullable = true)\n",
            " |-- name: string (nullable = true)\n",
            " |-- time: string (nullable = true)\n",
            " |-- rating: string (nullable = true)\n",
            " |-- text: string (nullable = true)\n",
            " |-- pics: string (nullable = true)\n",
            " |-- resp: string (nullable = true)\n",
            "\n"
          ]
        },
        {
          "output_type": "execute_result",
          "data": {
            "text/plain": [
              "498903"
            ]
          },
          "metadata": {},
          "execution_count": 13
        }
      ]
    },
    {
      "cell_type": "code",
      "source": [
        "from pyspark.sql.functions import col\n",
        "\n",
        "# Sort meta_review_sdf by gmap_id and show the top 5\n",
        "print(\"Top 5 gmap_id in meta_review_sdf:\")\n",
        "meta_review_sdf.select(\"gmap_id\").orderBy(col(\"gmap_id\")).show(5)\n",
        "\n",
        "# Sort review_sdf by gmap_id and show the top 5\n",
        "print(\"\\nTop 5 gmap_id in review_sdf:\")\n",
        "review_sdf.select(\"gmap_id\").orderBy(col(\"gmap_id\")).show(5)"
      ],
      "metadata": {
        "colab": {
          "base_uri": "https://localhost:8080/"
        },
        "id": "t3WcfcADS5Hk",
        "outputId": "85e0659b-99b0-45b1-d885-e63625704456"
      },
      "execution_count": 14,
      "outputs": [
        {
          "output_type": "stream",
          "name": "stdout",
          "text": [
            "Top 5 gmap_id in meta_review_sdf:\n",
            "+--------------------+\n",
            "|             gmap_id|\n",
            "+--------------------+\n",
            "|      1700 Willow St|\n",
            "|              2nd St|\n",
            "| 8225 Old Seward ...|\n",
            "|        8600 King St|\n",
            "|        8600 King St|\n",
            "+--------------------+\n",
            "only showing top 5 rows\n",
            "\n",
            "\n",
            "Top 5 gmap_id in review_sdf:\n",
            "+-------+\n",
            "|gmap_id|\n",
            "+-------+\n",
            "|   NULL|\n",
            "|   NULL|\n",
            "|   NULL|\n",
            "|   NULL|\n",
            "|   NULL|\n",
            "+-------+\n",
            "only showing top 5 rows\n",
            "\n"
          ]
        }
      ]
    },
    {
      "cell_type": "markdown",
      "source": [
        "# Part 1\n",
        "---\n",
        "\n"
      ],
      "metadata": {
        "id": "DolIZIW3waJv"
      }
    },
    {
      "cell_type": "markdown",
      "source": [
        "## Q1.1 Some Data Wrangling"
      ],
      "metadata": {
        "id": "YghR6nG_we_q"
      }
    },
    {
      "cell_type": "markdown",
      "source": [
        "### Q1.1.1 none, null in `text` column to \"no review\""
      ],
      "metadata": {
        "id": "Fw1j342kxWS4"
      }
    },
    {
      "cell_type": "code",
      "source": [],
      "metadata": {
        "id": "bAU-Bgb4xT85"
      },
      "execution_count": null,
      "outputs": []
    },
    {
      "cell_type": "markdown",
      "source": [
        "### Q1.1.2 Change the format of time\n",
        "in the `time` column, convert the strings from time to `yyyy-mm-dd` format\n",
        "in the new column as `newtime` and show the first 5 rows."
      ],
      "metadata": {
        "id": "HbDN8D4Vw1_F"
      }
    },
    {
      "cell_type": "code",
      "source": [],
      "metadata": {
        "id": "Q7hf7T1yw24k"
      },
      "execution_count": null,
      "outputs": []
    },
    {
      "cell_type": "markdown",
      "source": [
        "## Q1.2 Info for `gmap_id` on the `review`"
      ],
      "metadata": {
        "id": "B2Dgz9WkxdhP"
      }
    },
    {
      "cell_type": "markdown",
      "source": [
        "### Q1.2.1 using pyspark, calculate the number of reviews for each unique `gmap_id`"
      ],
      "metadata": {
        "id": "-5RbMJtyxx65"
      }
    },
    {
      "cell_type": "code",
      "source": [
        "from pyspark.sql.functions import col"
      ],
      "metadata": {
        "id": "TGWt3EFG7U-f"
      },
      "execution_count": null,
      "outputs": []
    },
    {
      "cell_type": "code",
      "source": [
        "sdf_counts_spark = sdf.groupBy(\"gmap_id\").count().withColumn(\"count\", col(\"count\").cast(\"float\"))"
      ],
      "metadata": {
        "id": "I_dsombtfpwR"
      },
      "execution_count": null,
      "outputs": []
    },
    {
      "cell_type": "code",
      "source": [],
      "metadata": {
        "id": "nBCINLXdkuls",
        "outputId": "c42f38e8-42cd-41db-fdc5-aaef56a2a1df",
        "colab": {
          "base_uri": "https://localhost:8080/"
        }
      },
      "execution_count": 44,
      "outputs": [
        {
          "output_type": "stream",
          "name": "stdout",
          "text": [
            "+--------------------+------+\n",
            "|             gmap_id| count|\n",
            "+--------------------+------+\n",
            "|0x56c897b9ce6000d...|2737.0|\n",
            "|0x56c899d05892048...|2555.0|\n",
            "|0x56c897c63697ee3...|2220.0|\n",
            "|0x56c8965ee2fb87a...|2202.0|\n",
            "|0x56c89629bde7481...|2156.0|\n",
            "+--------------------+------+\n",
            "only showing top 5 rows\n",
            "\n"
          ]
        }
      ]
    },
    {
      "cell_type": "code",
      "source": [
        "from pyspark.sql.functions import sum as spark_sum\n",
        "sdf_counts_spark.agg(spark_sum(\"count\")).collect()[0][0]"
      ],
      "metadata": {
        "id": "ec-a4sY7gp-q",
        "outputId": "891bfe88-10a2-4250-ee4d-de7f7d31b718",
        "colab": {
          "base_uri": "https://localhost:8080/"
        }
      },
      "execution_count": 32,
      "outputs": [
        {
          "output_type": "execute_result",
          "data": {
            "text/plain": [
              "498903.0"
            ]
          },
          "metadata": {},
          "execution_count": 32
        }
      ]
    },
    {
      "cell_type": "code",
      "source": [
        "# A suspected phantom row indicated by 1 counted in gmap_id of \"Anchorage\"\n",
        "sdf_counts_spark.orderBy(col(\"count\")).show(5)"
      ],
      "metadata": {
        "id": "uP8Y76lXlEvZ",
        "outputId": "8ce6f7b3-7b9b-4b08-e78c-3bedaae5acc4",
        "colab": {
          "base_uri": "https://localhost:8080/"
        }
      },
      "execution_count": 49,
      "outputs": [
        {
          "output_type": "stream",
          "name": "stdout",
          "text": [
            "+--------------------+-----+\n",
            "|             gmap_id|count|\n",
            "+--------------------+-----+\n",
            "|           Anchorage|  1.0|\n",
            "|0x56c897c88b2e4b7...|  4.0|\n",
            "|0x56c8962f33efc3b...|  5.0|\n",
            "|0x56c8eb715388aae...|  5.0|\n",
            "|0x5400df8600be380...|  5.0|\n",
            "+--------------------+-----+\n",
            "only showing top 5 rows\n",
            "\n"
          ]
        }
      ]
    },
    {
      "cell_type": "code",
      "source": [
        "# The phantom row has been identified yet has no impact\n",
        "sdf.filter(col(\"gmap_id\") == \"Anchorage\").show()\n",
        "\n",
        "sdf_cleaned = sdf.filter(col(\"gmap_id\") != \"Anchorage\")\n",
        "sdf_cleaned_counts_spark = sdf_cleaned.groupBy(\"gmap_id\").count().withColumn(\"count\", col(\"count\").cast(\"float\"))\n",
        "sdf_cleaned_counts_spark.agg(spark_sum(\"count\")).collect()[0][0]"
      ],
      "metadata": {
        "id": "Rgl3Gu7diBDc",
        "outputId": "2b0fbd16-cbb7-48f5-a9f8-ac8e5de4a5ef",
        "colab": {
          "base_uri": "https://localhost:8080/"
        }
      },
      "execution_count": 51,
      "outputs": [
        {
          "output_type": "stream",
          "name": "stdout",
          "text": [
            "+-------+----+-------+-----------+--------+---------+--------+----------+--------------+-----+-----+----+-----+----------------+---+-------+----+----+------+----+----+----+\n",
            "|gmap_id|name|address|description|latitude|longitude|category|avg_rating|num_of_reviews|price|hours|MISC|state|relative_results|url|user_id|name|time|rating|text|pics|resp|\n",
            "+-------+----+-------+-----------+--------+---------+--------+----------+--------------+-----+-----+----+-----+----------------+---+-------+----+----+------+----+----+----+\n",
            "+-------+----+-------+-----------+--------+---------+--------+----------+--------------+-----+-----+----+-----+----------------+---+-------+----+----+------+----+----+----+\n",
            "\n"
          ]
        },
        {
          "output_type": "execute_result",
          "data": {
            "text/plain": [
              "498903.0"
            ]
          },
          "metadata": {},
          "execution_count": 51
        }
      ]
    },
    {
      "cell_type": "markdown",
      "source": [
        "### Q1.2.2 convert the pyspark df to pandas df\n",
        "* create a new column `review_time` with the info of review time on hours level, add in the pandas df.\n",
        "* show 5 rows"
      ],
      "metadata": {
        "id": "DmHIIN3EyELy"
      }
    },
    {
      "cell_type": "markdown",
      "source": [
        "### Q1.2.3 Relationship between `gmap_id` and `review_time` [both discrete]\n",
        "* which time people usually review?\n",
        "* which time do they review the less amount?\n",
        "* How many business is reviewed in the morning? [6<= x <12 ; 06:00-11:59]"
      ],
      "metadata": {
        "id": "c5xZXiWryEIM"
      }
    },
    {
      "cell_type": "markdown",
      "source": [
        "## Q1.3 join `meta-business` with the current df on `gmap_id`"
      ],
      "metadata": {
        "id": "zfrHknZqyEGI"
      }
    },
    {
      "cell_type": "markdown",
      "source": [
        "### Q1.3.1 Find the `workday` with most reviews"
      ],
      "metadata": {
        "id": "B-jy-0wxyECO"
      }
    },
    {
      "cell_type": "markdown",
      "source": [
        "### Q1.3.2 Category of business name with most review in that day\n",
        "* in that day which business (the business `name`) has the highest avg rating [max(avg(most_review_day))]\n",
        "* Find the `category` of the business `name`"
      ],
      "metadata": {
        "id": "mhDYgXzIyEAW"
      }
    },
    {
      "cell_type": "markdown",
      "source": [
        "### Q1.3.3 Exploration on business `name`\n",
        "* peak hour of that catefory\n",
        "* Plot historam"
      ],
      "metadata": {
        "id": "PmQQhn7cyDwM"
      }
    },
    {
      "cell_type": "code",
      "source": [],
      "metadata": {
        "id": "EcZUaCknyDPn"
      },
      "execution_count": null,
      "outputs": []
    },
    {
      "cell_type": "markdown",
      "source": [
        "[write about the insight]"
      ],
      "metadata": {
        "id": "K0YfikTn3ZxP"
      }
    },
    {
      "cell_type": "markdown",
      "source": [
        "## Q1.4 Top 30 words by year\n",
        "* For the reviews on each of the submissions, work on all the review content and find out the `top 30`\n",
        "most common words;\n",
        "* Also generate separate `word cloud` visualizations for `different years`( by grouping\n",
        "the reviews by review year )\n",
        "* write down the insights in the markdown cell."
      ],
      "metadata": {
        "id": "OQmoTpwD3jxe"
      }
    },
    {
      "cell_type": "markdown",
      "source": [
        "## Q1.5 Analysis on business `name` and `review`\n",
        "* find the number of unique business `reviewers` and its `category` (find out the highest distinct count of reviewers on business / category level)\n",
        "* When `reviewers` submitted their review? [add visualization and write in markdown]"
      ],
      "metadata": {
        "id": "e0ynp3584XP1"
      }
    },
    {
      "cell_type": "markdown",
      "source": [
        "## Q1.6 Build recommendation for business\n",
        "(by using reviews, ratings, and its categories)"
      ],
      "metadata": {
        "id": "hpoAt6yX5TJ3"
      }
    },
    {
      "cell_type": "markdown",
      "source": [
        "### Q1.6.1 Write down the strategy to build Recommendation\n",
        "create own strategy or leverage KNN on collaborative filtering.\n",
        "* Write about the logic"
      ],
      "metadata": {
        "id": "TOjRqqNw5k1T"
      }
    },
    {
      "cell_type": "markdown",
      "source": [
        "### Q1.6.2 Implement the strategy\n",
        "add sufficient comments where required"
      ],
      "metadata": {
        "id": "TJ3zsZI56vBS"
      }
    },
    {
      "cell_type": "code",
      "source": [],
      "metadata": {
        "id": "oeq4afxb7SrK"
      },
      "execution_count": null,
      "outputs": []
    },
    {
      "cell_type": "markdown",
      "source": [
        "## Q1.7 Analysis on `Rating`s for each submission review"
      ],
      "metadata": {
        "id": "IgBODlIJ7WRH"
      }
    },
    {
      "cell_type": "markdown",
      "source": [
        "### Q1.7.1 Relationship of `rating` and `business categories`"
      ],
      "metadata": {
        "id": "32ciVQwW7mc0"
      }
    },
    {
      "cell_type": "code",
      "source": [],
      "metadata": {
        "id": "u02h8VtA71-S"
      },
      "execution_count": null,
      "outputs": []
    },
    {
      "cell_type": "markdown",
      "source": [
        "write down the insights"
      ],
      "metadata": {
        "id": "ZkgdagWl73Nt"
      }
    },
    {
      "cell_type": "markdown",
      "source": [
        "### Q1.7.2 Focus on lower ratings\n",
        "[Select a threshold to considered as lower]\n",
        "* Find the most common words\n",
        "* Whats the reason behind lower rating?"
      ],
      "metadata": {
        "id": "-FG583aS762I"
      }
    },
    {
      "cell_type": "code",
      "source": [],
      "metadata": {
        "id": "t0_qjrT875_a"
      },
      "execution_count": null,
      "outputs": []
    },
    {
      "cell_type": "markdown",
      "source": [
        "## Q1.8 Reviewer level with all the reviewed business history (submission of the review)"
      ],
      "metadata": {
        "id": "Guq5tCXo8a6F"
      }
    },
    {
      "cell_type": "markdown",
      "source": [
        "### Q1.8.1 Create a `user_business_list`\n",
        "* check reviewer level for reviewed business\n",
        "* sort the review based on review time (`new_time` column)\n",
        "* save the business name, for each reviewer into the `user_business_list`\n",
        "* for the list: print the `number of elements` / `number of business name` for each reviewers **[before removing]**"
      ],
      "metadata": {
        "id": "TIoKbFbY84WM"
      }
    },
    {
      "cell_type": "code",
      "source": [],
      "metadata": {
        "id": "BnXpG6bjBHj2"
      },
      "execution_count": null,
      "outputs": []
    },
    {
      "cell_type": "markdown",
      "source": [
        "### Q1.8.2 Repeated business names for the same user/reviewer?\n",
        "* remove those duplicated business names under same user (take unique business name)\n",
        "* print the `number of business name` for each reviewers **[after removing]**"
      ],
      "metadata": {
        "id": "M338fm_U_LmG"
      }
    },
    {
      "cell_type": "code",
      "source": [],
      "metadata": {
        "id": "rXYiIJQhBFif"
      },
      "execution_count": null,
      "outputs": []
    },
    {
      "cell_type": "markdown",
      "source": [
        "### Q1.8.3 user similarities in the past reviewed business\n",
        "* Write down the strategy for implementation with sufficient explanation\n",
        "* Check on the `user_business_list` and find the user similarities according to their past reviewed business.\n",
        "\n",
        "Hint: you might consider to use `encoding` for each of the business names and then calculate the difference of the users."
      ],
      "metadata": {
        "id": "jhOBWvfmBGWe"
      }
    },
    {
      "cell_type": "code",
      "source": [],
      "metadata": {
        "id": "XgM2cMGsLT9c"
      },
      "execution_count": null,
      "outputs": []
    },
    {
      "cell_type": "markdown",
      "source": [
        "# Part 2\n",
        "---"
      ],
      "metadata": {
        "id": "CmGLNvGwPS9h"
      }
    },
    {
      "cell_type": "markdown",
      "source": [
        "## Q2.1 Seasonality Pattern"
      ],
      "metadata": {
        "id": "nbiYkjj4PX5Q"
      }
    },
    {
      "cell_type": "code",
      "source": [],
      "metadata": {
        "id": "D-NGApYmPlPs"
      },
      "execution_count": null,
      "outputs": []
    },
    {
      "cell_type": "markdown",
      "source": [
        "## Q2.2 ARIMA Model"
      ],
      "metadata": {
        "id": "tG3kq2d4PmDg"
      }
    },
    {
      "cell_type": "code",
      "source": [],
      "metadata": {
        "id": "XLEm_b2ZPXFK"
      },
      "execution_count": null,
      "outputs": []
    },
    {
      "cell_type": "markdown",
      "source": [
        "## Q2.3 Analyze Annual Report of Indigenous Strategy\n",
        "link to the pdf"
      ],
      "metadata": {
        "id": "D3QwxLgpPwba"
      }
    },
    {
      "cell_type": "markdown",
      "source": [
        "### Data Extraction"
      ],
      "metadata": {
        "id": "cfheJL1mQs98"
      }
    },
    {
      "cell_type": "markdown",
      "source": [
        "### Data Analysis"
      ],
      "metadata": {
        "id": "yFyTdgufQwMe"
      }
    },
    {
      "cell_type": "markdown",
      "source": [
        "### Insights"
      ],
      "metadata": {
        "id": "2WFf2VFKQ1xD"
      }
    },
    {
      "cell_type": "code",
      "source": [],
      "metadata": {
        "id": "QwS45w1xQ3ZB"
      },
      "execution_count": null,
      "outputs": []
    }
  ]
}