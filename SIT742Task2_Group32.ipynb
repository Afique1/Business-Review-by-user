{
  "nbformat": 4,
  "nbformat_minor": 0,
  "metadata": {
    "colab": {
      "provenance": [],
      "include_colab_link": true
    },
    "kernelspec": {
      "name": "python3",
      "display_name": "Python 3"
    },
    "language_info": {
      "name": "python"
    }
  },
  "cells": [
    {
      "cell_type": "markdown",
      "metadata": {
        "id": "view-in-github",
        "colab_type": "text"
      },
      "source": [
        "<a href=\"https://colab.research.google.com/github/Afique1/Business-Review-by-user/blob/Alan's-works/SIT742Task2_Group32.ipynb\" target=\"_parent\"><img src=\"https://colab.research.google.com/assets/colab-badge.svg\" alt=\"Open In Colab\"/></a>"
      ]
    },
    {
      "cell_type": "markdown",
      "source": [
        "# Questions selection\n",
        "Questions are selected based on the birthdate(day) of students [if it's even/odd then selected Q. are even/odd]"
      ],
      "metadata": {
        "id": "ZjYE_L8hBz-m"
      }
    },
    {
      "cell_type": "code",
      "source": [
        "students = {\"Afique\": 11,\"Alan\": 10}\n",
        "questions = list(range(1, 9))  # 8 questions for Part 1\n",
        "\n",
        "assignments = {}\n",
        "\n",
        "for student, birthdate in students.items():\n",
        "  assignments[student] = []\n",
        "  for question in questions:\n",
        "    if (birthdate % 2 == 0 and question % 2 == 0) or (birthdate % 2 != 0 and question % 2 != 0):\n",
        "      assignments[student].append(f\"Q{question}\")\n",
        "\n",
        "print(\"Assigned Questions for part 1:\\n\"+\"-\"*40)\n",
        "\n",
        "for student, assigned_questions in assignments.items():\n",
        "  print(f\"{student} (Birthdate: {students[student]}): {', '.join(assigned_questions)}\")"
      ],
      "metadata": {
        "colab": {
          "base_uri": "https://localhost:8080/"
        },
        "id": "aO5k96U1BzbR",
        "outputId": "aa974294-5e4c-4141-955b-cec9d198390b"
      },
      "execution_count": 40,
      "outputs": [
        {
          "output_type": "stream",
          "name": "stdout",
          "text": [
            "Assigned Questions for part 1:\n",
            "----------------------------------------\n",
            "Afique (Birthdate: 11): Q1, Q3, Q5, Q7\n",
            "Alan (Birthdate: 10): Q2, Q4, Q6, Q8\n"
          ]
        }
      ]
    },
    {
      "cell_type": "markdown",
      "source": [
        "# Part 0) Read the data using Pyspark"
      ],
      "metadata": {
        "id": "C7HR1Bc4FutN"
      }
    },
    {
      "cell_type": "markdown",
      "source": [
        "Update and Import packages"
      ],
      "metadata": {
        "id": "U9I9ATzTpEeG"
      }
    },
    {
      "cell_type": "code",
      "source": [
        "#update local version of the package catalog\n",
        "!apt-get update\n",
        "# install Java8\n",
        "!apt-get install openjdk-8-jdk-headless -qq > /dev/null\n",
        "\n",
        "# install findspark\n",
        "!pip install -q findspark\n",
        "\n",
        "import findspark\n",
        "findspark.init()"
      ],
      "metadata": {
        "colab": {
          "base_uri": "https://localhost:8080/"
        },
        "collapsed": true,
        "id": "6Wq_QaYqiglz",
        "outputId": "e7b2cb76-1b06-4042-a193-c5d69e39d91f"
      },
      "execution_count": 41,
      "outputs": [
        {
          "output_type": "stream",
          "name": "stdout",
          "text": [
            "\r0% [Working]\r            \rHit:1 https://cloud.r-project.org/bin/linux/ubuntu jammy-cran40/ InRelease\n",
            "\r0% [Connecting to archive.ubuntu.com] [Connecting to security.ubuntu.com (185.1\r                                                                               \rHit:2 https://cli.github.com/packages stable InRelease\n",
            "Hit:3 https://developer.download.nvidia.com/compute/cuda/repos/ubuntu2204/x86_64  InRelease\n",
            "Hit:4 http://security.ubuntu.com/ubuntu jammy-security InRelease\n",
            "Hit:5 https://r2u.stat.illinois.edu/ubuntu jammy InRelease\n",
            "Hit:6 http://archive.ubuntu.com/ubuntu jammy InRelease\n",
            "Hit:7 http://archive.ubuntu.com/ubuntu jammy-updates InRelease\n",
            "Hit:8 https://ppa.launchpadcontent.net/deadsnakes/ppa/ubuntu jammy InRelease\n",
            "Hit:9 http://archive.ubuntu.com/ubuntu jammy-backports InRelease\n",
            "Hit:10 https://ppa.launchpadcontent.net/graphics-drivers/ppa/ubuntu jammy InRelease\n",
            "Hit:11 https://ppa.launchpadcontent.net/ubuntugis/ppa/ubuntu jammy InRelease\n",
            "Reading package lists... Done\n",
            "W: Skipping acquire of configured file 'main/source/Sources' as repository 'https://r2u.stat.illinois.edu/ubuntu jammy InRelease' does not seem to provide it (sources.list entry misspelt?)\n"
          ]
        }
      ]
    },
    {
      "cell_type": "code",
      "source": [
        "import pandas as pd\n",
        "import matplotlib.pyplot as plt\n",
        "import seaborn as sns\n",
        "\n",
        "# from pyspark import SparkContext\n",
        "# from pyspark.sql import SQLContext"
      ],
      "metadata": {
        "id": "8Cfdp_tcqVkp"
      },
      "execution_count": 42,
      "outputs": []
    },
    {
      "cell_type": "markdown",
      "source": [
        "`SparkSession` is the combination of SparkContext and SQLContext. So, the updated package/ will be used instead of SparkContext and SQLContext.\n"
      ],
      "metadata": {
        "id": "Jqk4ozC1GMgL"
      }
    },
    {
      "cell_type": "code",
      "source": [
        "from pyspark.sql import SparkSession\n",
        "\n",
        "spark = SparkSession.builder \\\n",
        "    .master(\"local[*]\") \\\n",
        "    .appName(\"BusinessReviewAnalysis\") \\\n",
        "    .getOrCreate()\n",
        "\n",
        "print(\"Spark session created successfully!\")"
      ],
      "metadata": {
        "colab": {
          "base_uri": "https://localhost:8080/"
        },
        "id": "CSWzlkJADT_l",
        "outputId": "d3acd986-e5b4-43a1-9e39-dfe999f7c5bf"
      },
      "execution_count": 43,
      "outputs": [
        {
          "output_type": "stream",
          "name": "stdout",
          "text": [
            "Spark session created successfully!\n"
          ]
        }
      ]
    },
    {
      "cell_type": "markdown",
      "source": [
        "Download and save the csv file locally."
      ],
      "metadata": {
        "id": "ZsLEQej_pOca"
      }
    },
    {
      "cell_type": "code",
      "source": [
        "!pip install wget"
      ],
      "metadata": {
        "id": "L9f38d8WF68r",
        "colab": {
          "base_uri": "https://localhost:8080/"
        },
        "collapsed": true,
        "outputId": "d9a3cb62-29b0-4369-e7ad-7f52a5d8204e"
      },
      "execution_count": 44,
      "outputs": [
        {
          "output_type": "stream",
          "name": "stdout",
          "text": [
            "Requirement already satisfied: wget in /usr/local/lib/python3.12/dist-packages (3.2)\n"
          ]
        }
      ]
    },
    {
      "cell_type": "code",
      "source": [
        "import wget\n",
        "\n",
        "link_to_data1 = 'https://github.com/Afique1/Business-Review-by-user/raw/main/Dataset/meta-review-business.csv'\n",
        "link_to_data2 = 'https://github.com/Afique1/Business-Review-by-user/raw/main/Dataset/review.csv'\n",
        "\n",
        "MetaReview_Dataset = wget.download(link_to_data1)\n",
        "Review_Dataset = wget.download(link_to_data2)"
      ],
      "metadata": {
        "id": "ixaBb7LbiRRT"
      },
      "execution_count": 45,
      "outputs": []
    },
    {
      "cell_type": "code",
      "source": [
        "# Read the datasets into Spark DataFrames with 10 partitioning\n",
        "meta_review_sdf = spark.read.csv(MetaReview_Dataset, header=True, inferSchema=True).repartition(10)\n",
        "review_sdf = spark.read.csv(Review_Dataset, header=True, inferSchema=True).repartition(10)\n",
        "\n",
        "print(\"Meta Review Dataset Schema:\")\n",
        "meta_review_sdf.printSchema()\n",
        "# print(\"\\nMeta Review Dataset Head:\")\n",
        "# meta_review_sdf.show(5)\n",
        "\n",
        "print(\"\\nReview Dataset Schema:\")\n",
        "review_sdf.printSchema()\n",
        "# print(\"\\nReview Dataset Head:\")\n",
        "# review_sdf.show(5)"
      ],
      "metadata": {
        "colab": {
          "base_uri": "https://localhost:8080/"
        },
        "id": "UMdPuQOEitw8",
        "outputId": "3b69997e-28a0-4fa1-ac45-96ec3b608641"
      },
      "execution_count": 46,
      "outputs": [
        {
          "output_type": "stream",
          "name": "stdout",
          "text": [
            "Meta Review Dataset Schema:\n",
            "root\n",
            " |-- name: string (nullable = true)\n",
            " |-- address: string (nullable = true)\n",
            " |-- gmap_id: string (nullable = true)\n",
            " |-- description: string (nullable = true)\n",
            " |-- latitude: string (nullable = true)\n",
            " |-- longitude: string (nullable = true)\n",
            " |-- category: string (nullable = true)\n",
            " |-- avg_rating: string (nullable = true)\n",
            " |-- num_of_reviews: string (nullable = true)\n",
            " |-- price: string (nullable = true)\n",
            " |-- hours: string (nullable = true)\n",
            " |-- MISC: string (nullable = true)\n",
            " |-- state: string (nullable = true)\n",
            " |-- relative_results: string (nullable = true)\n",
            " |-- url: string (nullable = true)\n",
            "\n",
            "\n",
            "Review Dataset Schema:\n",
            "root\n",
            " |-- user_id: string (nullable = true)\n",
            " |-- name: string (nullable = true)\n",
            " |-- time: string (nullable = true)\n",
            " |-- rating: string (nullable = true)\n",
            " |-- text: string (nullable = true)\n",
            " |-- pics: string (nullable = true)\n",
            " |-- resp: string (nullable = true)\n",
            " |-- gmap_id: string (nullable = true)\n",
            "\n"
          ]
        }
      ]
    },
    {
      "cell_type": "markdown",
      "source": [
        "Investigate the datasets"
      ],
      "metadata": {
        "id": "qmSGsWZUMwTd"
      }
    },
    {
      "cell_type": "code",
      "source": [
        "print(\"Investigating Meta Review Dataset:\")\n",
        "print(\"Number of rows:\", meta_review_sdf.count())\n",
        "print(\"Columns:\", meta_review_sdf.columns)\n",
        "print(\"Summary Statistics:\")\n",
        "meta_review_sdf.describe().show()\n",
        "\n",
        "print(\"\\nInvestigating Review Dataset:\")\n",
        "print(\"Number of rows:\", review_sdf.count())\n",
        "print(\"Columns:\", review_sdf.columns)\n",
        "print(\"Summary Statistics:\")\n",
        "review_sdf.describe().show()"
      ],
      "metadata": {
        "id": "NM7jKVPKMz8Y",
        "colab": {
          "base_uri": "https://localhost:8080/"
        },
        "outputId": "6f1a1c04-9dd0-4fd6-c942-aaf824d5d2c9"
      },
      "execution_count": 47,
      "outputs": [
        {
          "output_type": "stream",
          "name": "stdout",
          "text": [
            "Investigating Meta Review Dataset:\n",
            "Number of rows: 12774\n",
            "Columns: ['name', 'address', 'gmap_id', 'description', 'latitude', 'longitude', 'category', 'avg_rating', 'num_of_reviews', 'price', 'hours', 'MISC', 'state', 'relative_results', 'url']\n",
            "Summary Statistics:\n",
            "+-------+--------------------+--------------------+--------------------+--------------------+------------------+-------------------+--------------------+--------------------+--------------------+--------------------+--------------------+--------------------+--------------------+--------------------+--------------------+\n",
            "|summary|                name|             address|             gmap_id|         description|          latitude|          longitude|            category|          avg_rating|      num_of_reviews|               price|               hours|                MISC|               state|    relative_results|                 url|\n",
            "+-------+--------------------+--------------------+--------------------+--------------------+------------------+-------------------+--------------------+--------------------+--------------------+--------------------+--------------------+--------------------+--------------------+--------------------+--------------------+\n",
            "|  count|               12774|               12606|               12774|                1524|             12774|              12771|               12707|               12774|               12774|                1634|                8681|                9379|                8238|               10968|               12763|\n",
            "|   mean|                NULL|                NULL|                NULL|                NULL| 61.18225828028984|-147.36042359994508|  62.598831866666664|   4.350674254473206|   81.79944012627358|   47.35483870967741|   64.95277777777777|   94.83461538461539|   19.37333333333333|  128.11764705882354|  159.33333333333334|\n",
            "| stddev|                NULL|                NULL|                NULL|                NULL|2.5299390096294587| 14.479620086490202|   1.895741506407224|   2.732010696852193|     215.93255745369|   97.56806799600533|  205.09393316389182|   189.3304918755723|  19.472892024800114|  189.73105055345488|  239.80565047554654|\n",
            "|    min|\"\"\"FORMERLY\"\" WIG...|\"\"\"FORMERLY\"\" WIG...|      1700 Willow St|           AK 99508\"|         AK 99502\"|-130.01990139999998|\"[\"\"Bahá'í house ...| \"\"Children's clo...| \"\"Children's par...| \"\"Men's clothing...| \"\"Children's fur...| \"\"Women's clothi...|     \"\"Men's shoes\"\"|  \"\"Women's shoes\"\"]| 'Amenities': ['B...|\n",
            "|    max|🚚Eagle Towing An...|🚚Eagle Towing An...|0x89c2804a7a0f7fd...|Zoo exhibiting a ...|           71.3875|              180.0|             ['Zoo']|          64.8611078|['Tourist attract...|                  ₩₩|[['Wednesday', 'O...|{'Service options...|{'Service options...|{'Service options...|{'Service options...|\n",
            "+-------+--------------------+--------------------+--------------------+--------------------+------------------+-------------------+--------------------+--------------------+--------------------+--------------------+--------------------+--------------------+--------------------+--------------------+--------------------+\n",
            "\n",
            "\n",
            "Investigating Review Dataset:\n",
            "Number of rows: 552624\n",
            "Columns: ['user_id', 'name', 'time', 'rating', 'text', 'pics', 'resp', 'gmap_id']\n",
            "Summary Statistics:\n",
            "+-------+--------------------+--------------------+--------------------+--------------------+--------------------+--------------------+--------------------+--------------------+\n",
            "|summary|             user_id|                name|                time|              rating|                text|                pics|                resp|             gmap_id|\n",
            "+-------+--------------------+--------------------+--------------------+--------------------+--------------------+--------------------+--------------------+--------------------+\n",
            "|  count|              552622|              532753|              527809|              534740|              302693|               22145|               44156|              506315|\n",
            "|   mean|1.091261853872944E20|      5.4847467125E7|1.550287060733735E12|   4.283758726944663|               505.2|              2019.0|                 6.0|                 8.0|\n",
            "| stddev|5.308169483536623...|  7.69216760046275E7|3.870308226597181E10|   1.035651914036174|   996.5398269345119|                NULL|                NULL|                NULL|\n",
            "|    min|!! I'm not going ...|  \"\"campground\"\" ...|                    |  \"\" I'm sorry ab...|  1.0 oz. Russian...|  (It's not). 2. ...|   \"\"Nachos\"\". 🤦‍♀️|   \"\"rock bottom\"...|\n",
            "|    max|🥕 Carrot cake ma...|             👍👍😎\"|              수영장|                스파|              🦋🍃🦅|😉 I can get it f...|{'time': 16309533...|{'time': 16216526...|\n",
            "+-------+--------------------+--------------------+--------------------+--------------------+--------------------+--------------------+--------------------+--------------------+\n",
            "\n"
          ]
        }
      ]
    },
    {
      "cell_type": "code",
      "source": [
        "print(\"Number of partitions for meta_review_sdf:\", meta_review_sdf.rdd.getNumPartitions())\n",
        "print(\"Number of partitions for review_sdf:\", review_sdf.rdd.getNumPartitions())"
      ],
      "metadata": {
        "colab": {
          "base_uri": "https://localhost:8080/"
        },
        "id": "0mRfYRqGG87K",
        "outputId": "25d4ca40-27e1-4cec-81fa-be2fe3fe9189"
      },
      "execution_count": 48,
      "outputs": [
        {
          "output_type": "stream",
          "name": "stdout",
          "text": [
            "Number of partitions for meta_review_sdf: 10\n",
            "Number of partitions for review_sdf: 10\n"
          ]
        }
      ]
    },
    {
      "cell_type": "code",
      "source": [
        "# Get the SparkContext from the SparkSession\n",
        "sc = spark.sparkContext\n",
        "\n",
        "# Get the number of active cores\n",
        "# In local mode, this typically corresponds to the number of threads being used\n",
        "num_cores = sc.defaultParallelism\n",
        "\n",
        "print(f\"Number of cores being used by Spark: {num_cores}\")"
      ],
      "metadata": {
        "colab": {
          "base_uri": "https://localhost:8080/"
        },
        "id": "b7cL42k9R09b",
        "outputId": "eba2870f-0f3c-4731-87c4-0382170816af"
      },
      "execution_count": 49,
      "outputs": [
        {
          "output_type": "stream",
          "name": "stdout",
          "text": [
            "Number of cores being used by Spark: 2\n"
          ]
        }
      ]
    },
    {
      "cell_type": "markdown",
      "source": [
        "Is it wise to join both sdfs?"
      ],
      "metadata": {
        "id": "JaCzT-oINnaH"
      }
    },
    {
      "cell_type": "code",
      "source": [
        "# Count and print the number of unique gmap_id values in each DataFrame\n",
        "unique_meta_review_count = meta_review_sdf.select(\"gmap_id\").distinct().count()\n",
        "unique_review_count = review_sdf.select(\"gmap_id\").distinct().count()\n",
        "\n",
        "print(\"\\nNumber of unique gmap_id in meta_review_sdf:\", unique_meta_review_count)\n",
        "print(\"Number of unique gmap_id in review_sdf:\", unique_review_count)"
      ],
      "metadata": {
        "colab": {
          "base_uri": "https://localhost:8080/"
        },
        "id": "xE80W0M0Juwt",
        "outputId": "02d5447c-3f37-47ac-ebf3-eebffbee884f"
      },
      "execution_count": 50,
      "outputs": [
        {
          "output_type": "stream",
          "name": "stdout",
          "text": [
            "\n",
            "Number of unique gmap_id in meta_review_sdf: 12688\n",
            "Number of unique gmap_id in review_sdf: 12468\n"
          ]
        }
      ]
    },
    {
      "cell_type": "markdown",
      "source": [
        "## Join based on `gmap_id`"
      ],
      "metadata": {
        "id": "Ac-36WrLJv0y"
      }
    },
    {
      "cell_type": "code",
      "source": [
        "# Perform an inner join on the 'gmap_id' column\n",
        "sdf = meta_review_sdf.join(review_sdf, on=\"gmap_id\", how=\"inner\")\n",
        "\n",
        "# Show the schema and a few rows of the joined DataFrame to verify\n",
        "print(\"Joined DataFrame Schema:\")\n",
        "sdf.printSchema()\n",
        "sdf.count()"
      ],
      "metadata": {
        "colab": {
          "base_uri": "https://localhost:8080/"
        },
        "id": "RON0CX4-KLT4",
        "outputId": "a636ab40-c15a-4191-90a8-8d70b25547c7"
      },
      "execution_count": 51,
      "outputs": [
        {
          "output_type": "stream",
          "name": "stdout",
          "text": [
            "Joined DataFrame Schema:\n",
            "root\n",
            " |-- gmap_id: string (nullable = true)\n",
            " |-- name: string (nullable = true)\n",
            " |-- address: string (nullable = true)\n",
            " |-- description: string (nullable = true)\n",
            " |-- latitude: string (nullable = true)\n",
            " |-- longitude: string (nullable = true)\n",
            " |-- category: string (nullable = true)\n",
            " |-- avg_rating: string (nullable = true)\n",
            " |-- num_of_reviews: string (nullable = true)\n",
            " |-- price: string (nullable = true)\n",
            " |-- hours: string (nullable = true)\n",
            " |-- MISC: string (nullable = true)\n",
            " |-- state: string (nullable = true)\n",
            " |-- relative_results: string (nullable = true)\n",
            " |-- url: string (nullable = true)\n",
            " |-- user_id: string (nullable = true)\n",
            " |-- name: string (nullable = true)\n",
            " |-- time: string (nullable = true)\n",
            " |-- rating: string (nullable = true)\n",
            " |-- text: string (nullable = true)\n",
            " |-- pics: string (nullable = true)\n",
            " |-- resp: string (nullable = true)\n",
            "\n"
          ]
        },
        {
          "output_type": "execute_result",
          "data": {
            "text/plain": [
              "498903"
            ]
          },
          "metadata": {},
          "execution_count": 51
        }
      ]
    },
    {
      "cell_type": "code",
      "source": [
        "from pyspark.sql.functions import col\n",
        "\n",
        "# Sort meta_review_sdf by gmap_id and show the top 5\n",
        "print(\"Top 5 gmap_id in meta_review_sdf:\")\n",
        "meta_review_sdf.select(\"gmap_id\").orderBy(col(\"gmap_id\")).show(5)\n",
        "\n",
        "# Sort review_sdf by gmap_id and show the top 5\n",
        "print(\"\\nTop 5 gmap_id in review_sdf:\")\n",
        "review_sdf.select(\"gmap_id\").orderBy(col(\"gmap_id\")).show(5)"
      ],
      "metadata": {
        "colab": {
          "base_uri": "https://localhost:8080/"
        },
        "id": "t3WcfcADS5Hk",
        "outputId": "12d057d9-59cc-48fd-8c03-dd742cbe7089"
      },
      "execution_count": 52,
      "outputs": [
        {
          "output_type": "stream",
          "name": "stdout",
          "text": [
            "Top 5 gmap_id in meta_review_sdf:\n",
            "+--------------------+\n",
            "|             gmap_id|\n",
            "+--------------------+\n",
            "|      1700 Willow St|\n",
            "|              2nd St|\n",
            "| 8225 Old Seward ...|\n",
            "|        8600 King St|\n",
            "|        8600 King St|\n",
            "+--------------------+\n",
            "only showing top 5 rows\n",
            "\n",
            "\n",
            "Top 5 gmap_id in review_sdf:\n",
            "+-------+\n",
            "|gmap_id|\n",
            "+-------+\n",
            "|   NULL|\n",
            "|   NULL|\n",
            "|   NULL|\n",
            "|   NULL|\n",
            "|   NULL|\n",
            "+-------+\n",
            "only showing top 5 rows\n",
            "\n"
          ]
        }
      ]
    },
    {
      "cell_type": "markdown",
      "source": [
        "# Part 1\n",
        "---\n",
        "\n"
      ],
      "metadata": {
        "id": "DolIZIW3waJv"
      }
    },
    {
      "cell_type": "markdown",
      "source": [
        "## Q1.1 Some Data Wrangling"
      ],
      "metadata": {
        "id": "YghR6nG_we_q"
      }
    },
    {
      "cell_type": "markdown",
      "source": [
        "### Q1.1.1 none, null in `text` column to \"no review\""
      ],
      "metadata": {
        "id": "Fw1j342kxWS4"
      }
    },
    {
      "cell_type": "code",
      "source": [],
      "metadata": {
        "id": "bAU-Bgb4xT85"
      },
      "execution_count": 52,
      "outputs": []
    },
    {
      "cell_type": "markdown",
      "source": [
        "### Q1.1.2 Change the format of time\n",
        "in the `time` column, convert the strings from time to `yyyy-mm-dd` format\n",
        "in the new column as `newtime` and show the first 5 rows."
      ],
      "metadata": {
        "id": "HbDN8D4Vw1_F"
      }
    },
    {
      "cell_type": "code",
      "source": [],
      "metadata": {
        "id": "Q7hf7T1yw24k"
      },
      "execution_count": 52,
      "outputs": []
    },
    {
      "cell_type": "markdown",
      "source": [
        "## Q1.2 Info for `gmap_id` on the `review`"
      ],
      "metadata": {
        "id": "B2Dgz9WkxdhP"
      }
    },
    {
      "cell_type": "markdown",
      "source": [
        "### Q1.2.1 using pyspark, calculate the number of reviews for each unique `gmap_id`\n",
        "(save as float format in pyspark dataframe to show the top 5 rows)"
      ],
      "metadata": {
        "id": "-5RbMJtyxx65"
      }
    },
    {
      "cell_type": "code",
      "source": [
        "from pyspark.sql.functions import sum as spark_sum\n",
        "from pyspark.sql.functions import col"
      ],
      "metadata": {
        "id": "TGWt3EFG7U-f"
      },
      "execution_count": 53,
      "outputs": []
    },
    {
      "cell_type": "markdown",
      "source": [
        "Calculation based on the Review Dataset review_sdf"
      ],
      "metadata": {
        "id": "hsiJ2uQsolv_"
      }
    },
    {
      "cell_type": "code",
      "source": [
        "review_sdf_counts_spark = review_sdf.groupBy(\"gmap_id\").count().withColumn(\"count\", col(\"count\").cast(\"float\"))"
      ],
      "metadata": {
        "id": "NUALCs-YomXk"
      },
      "execution_count": 54,
      "outputs": []
    },
    {
      "cell_type": "code",
      "source": [
        "review_sdf_counts_spark.orderBy(col(\"count\").desc()).show(5)"
      ],
      "metadata": {
        "colab": {
          "base_uri": "https://localhost:8080/"
        },
        "id": "TidctPUvpA6s",
        "outputId": "47908ed0-fadc-4643-bbfd-546657d47aab"
      },
      "execution_count": 55,
      "outputs": [
        {
          "output_type": "stream",
          "name": "stdout",
          "text": [
            "+--------------------+-------+\n",
            "|             gmap_id|  count|\n",
            "+--------------------+-------+\n",
            "|                NULL|46309.0|\n",
            "|0x56c897b9ce6000d...| 2737.0|\n",
            "|0x56c899d05892048...| 2555.0|\n",
            "|0x56c897c63697ee3...| 2220.0|\n",
            "|0x56c8965ee2fb87a...| 2202.0|\n",
            "+--------------------+-------+\n",
            "only showing top 5 rows\n",
            "\n"
          ]
        }
      ]
    },
    {
      "cell_type": "code",
      "source": [
        "# Cross-checking the counting results\n",
        "review_sdf_counts_spark.agg(spark_sum(\"count\")).collect()[0][0] # expected to match the no. of rows as 552624"
      ],
      "metadata": {
        "colab": {
          "base_uri": "https://localhost:8080/"
        },
        "id": "9fkOxUFupD9F",
        "outputId": "d9537578-e5b9-44ce-a9b4-ae71cb04db66"
      },
      "execution_count": 56,
      "outputs": [
        {
          "output_type": "execute_result",
          "data": {
            "text/plain": [
              "552624.0"
            ]
          },
          "metadata": {},
          "execution_count": 56
        }
      ]
    },
    {
      "cell_type": "markdown",
      "source": [
        "Calculation based on the joined datafram sdf"
      ],
      "metadata": {
        "id": "_A7o1PFloZJe"
      }
    },
    {
      "cell_type": "code",
      "source": [
        "sdf_counts_spark = sdf.groupBy(\"gmap_id\").count().withColumn(\"count\", col(\"count\").cast(\"float\"))"
      ],
      "metadata": {
        "id": "I_dsombtfpwR"
      },
      "execution_count": 57,
      "outputs": []
    },
    {
      "cell_type": "code",
      "source": [
        "sdf_counts_spark.orderBy(col(\"count\").desc()).show(5)"
      ],
      "metadata": {
        "colab": {
          "base_uri": "https://localhost:8080/"
        },
        "id": "nBCINLXdkuls",
        "outputId": "042b7fc7-1f01-438b-aeb6-8b2907b96c15"
      },
      "execution_count": 58,
      "outputs": [
        {
          "output_type": "stream",
          "name": "stdout",
          "text": [
            "+--------------------+------+\n",
            "|             gmap_id| count|\n",
            "+--------------------+------+\n",
            "|0x56c897b9ce6000d...|2737.0|\n",
            "|0x56c899d05892048...|2555.0|\n",
            "|0x56c897c63697ee3...|2220.0|\n",
            "|0x56c8965ee2fb87a...|2202.0|\n",
            "|0x56c89629bde7481...|2156.0|\n",
            "+--------------------+------+\n",
            "only showing top 5 rows\n",
            "\n"
          ]
        }
      ]
    },
    {
      "cell_type": "code",
      "source": [
        "sdf_counts_spark.agg(spark_sum(\"count\")).collect()[0][0]"
      ],
      "metadata": {
        "colab": {
          "base_uri": "https://localhost:8080/"
        },
        "id": "ec-a4sY7gp-q",
        "outputId": "a919e15c-f51c-4a54-c6ab-e98d4b0b7d08"
      },
      "execution_count": 59,
      "outputs": [
        {
          "output_type": "execute_result",
          "data": {
            "text/plain": [
              "498903.0"
            ]
          },
          "metadata": {},
          "execution_count": 59
        }
      ]
    },
    {
      "cell_type": "code",
      "source": [
        "# A suspected phantom row indicated by 1 counted in gmap_id of \"Anchorage\"\n",
        "sdf_counts_spark.orderBy(col(\"count\")).show(5)"
      ],
      "metadata": {
        "colab": {
          "base_uri": "https://localhost:8080/"
        },
        "id": "uP8Y76lXlEvZ",
        "outputId": "62e18bb6-e772-4483-f139-cc7d189ae5d6"
      },
      "execution_count": 60,
      "outputs": [
        {
          "output_type": "stream",
          "name": "stdout",
          "text": [
            "+--------------------+-----+\n",
            "|             gmap_id|count|\n",
            "+--------------------+-----+\n",
            "|           Anchorage|  1.0|\n",
            "|0x56c897c88b2e4b7...|  4.0|\n",
            "|0x56c8962f33efc3b...|  5.0|\n",
            "|0x56c8eb715388aae...|  5.0|\n",
            "|0x5400df8600be380...|  5.0|\n",
            "+--------------------+-----+\n",
            "only showing top 5 rows\n",
            "\n"
          ]
        }
      ]
    },
    {
      "cell_type": "code",
      "source": [
        "# The phantom row has been identified yet has no impact\n",
        "sdf.filter(col(\"gmap_id\") == \"Anchorage\").show()\n",
        "\n",
        "sdf_phantom_cleaned = sdf.filter(col(\"gmap_id\") != \"Anchorage\")\n",
        "sdf_phantom_cleaned_counts_spark = sdf_phantom_cleaned.groupBy(\"gmap_id\").count().withColumn(\"count\", col(\"count\").cast(\"float\"))\n",
        "sdf_phantom_cleaned_counts_spark.agg(spark_sum(\"count\")).collect()[0][0]"
      ],
      "metadata": {
        "colab": {
          "base_uri": "https://localhost:8080/"
        },
        "id": "Rgl3Gu7diBDc",
        "outputId": "b6b22ed3-1b42-413b-de3d-503e3aaae7b5"
      },
      "execution_count": 61,
      "outputs": [
        {
          "output_type": "stream",
          "name": "stdout",
          "text": [
            "+-------+----+-------+-----------+--------+---------+--------+----------+--------------+-----+-----+----+-----+----------------+---+-------+----+----+------+----+----+----+\n",
            "|gmap_id|name|address|description|latitude|longitude|category|avg_rating|num_of_reviews|price|hours|MISC|state|relative_results|url|user_id|name|time|rating|text|pics|resp|\n",
            "+-------+----+-------+-----------+--------+---------+--------+----------+--------------+-----+-----+----+-----+----------------+---+-------+----+----+------+----+----+----+\n",
            "+-------+----+-------+-----------+--------+---------+--------+----------+--------------+-----+-----+----+-----+----------------+---+-------+----+----+------+----+----+----+\n",
            "\n"
          ]
        },
        {
          "output_type": "execute_result",
          "data": {
            "text/plain": [
              "498903.0"
            ]
          },
          "metadata": {},
          "execution_count": 61
        }
      ]
    },
    {
      "cell_type": "markdown",
      "source": [
        "### Q1.2.2 convert the pyspark df to pandas df\n",
        "* create a new column `review_time` with the info of review time on hours level, add in the pandas df.\n",
        "* show top 5 rows"
      ],
      "metadata": {
        "id": "DmHIIN3EyELy"
      }
    },
    {
      "cell_type": "code",
      "source": [
        "df = review_sdf.toPandas() # transform the current pyspark dataframe to pandas dataframe"
      ],
      "metadata": {
        "id": "g4kZbARHsNqL"
      },
      "execution_count": 62,
      "outputs": []
    },
    {
      "cell_type": "code",
      "source": [
        "df[\"time\"].head(10)"
      ],
      "metadata": {
        "colab": {
          "base_uri": "https://localhost:8080/",
          "height": 398
        },
        "id": "nEMPm-ngxxef",
        "outputId": "0d376491-1387-4af0-cab7-b28db39351e7"
      },
      "execution_count": 63,
      "outputs": [
        {
          "output_type": "execute_result",
          "data": {
            "text/plain": [
              "0                                        1525676908252\n",
              "1                                        1368006776281\n",
              "2                                        1569090797829\n",
              "3                                        1597542582178\n",
              "4                                        1598037847651\n",
              "5                                                 None\n",
              "6                                        1549419589149\n",
              "7    \"{'time': 1598807097467, 'text': \"\"We all appr...\n",
              "8                                        1495309866441\n",
              "9                                        1562915528083\n",
              "Name: time, dtype: object"
            ],
            "text/html": [
              "<div>\n",
              "<style scoped>\n",
              "    .dataframe tbody tr th:only-of-type {\n",
              "        vertical-align: middle;\n",
              "    }\n",
              "\n",
              "    .dataframe tbody tr th {\n",
              "        vertical-align: top;\n",
              "    }\n",
              "\n",
              "    .dataframe thead th {\n",
              "        text-align: right;\n",
              "    }\n",
              "</style>\n",
              "<table border=\"1\" class=\"dataframe\">\n",
              "  <thead>\n",
              "    <tr style=\"text-align: right;\">\n",
              "      <th></th>\n",
              "      <th>time</th>\n",
              "    </tr>\n",
              "  </thead>\n",
              "  <tbody>\n",
              "    <tr>\n",
              "      <th>0</th>\n",
              "      <td>1525676908252</td>\n",
              "    </tr>\n",
              "    <tr>\n",
              "      <th>1</th>\n",
              "      <td>1368006776281</td>\n",
              "    </tr>\n",
              "    <tr>\n",
              "      <th>2</th>\n",
              "      <td>1569090797829</td>\n",
              "    </tr>\n",
              "    <tr>\n",
              "      <th>3</th>\n",
              "      <td>1597542582178</td>\n",
              "    </tr>\n",
              "    <tr>\n",
              "      <th>4</th>\n",
              "      <td>1598037847651</td>\n",
              "    </tr>\n",
              "    <tr>\n",
              "      <th>5</th>\n",
              "      <td>None</td>\n",
              "    </tr>\n",
              "    <tr>\n",
              "      <th>6</th>\n",
              "      <td>1549419589149</td>\n",
              "    </tr>\n",
              "    <tr>\n",
              "      <th>7</th>\n",
              "      <td>\"{'time': 1598807097467, 'text': \"\"We all appr...</td>\n",
              "    </tr>\n",
              "    <tr>\n",
              "      <th>8</th>\n",
              "      <td>1495309866441</td>\n",
              "    </tr>\n",
              "    <tr>\n",
              "      <th>9</th>\n",
              "      <td>1562915528083</td>\n",
              "    </tr>\n",
              "  </tbody>\n",
              "</table>\n",
              "</div><br><label><b>dtype:</b> object</label>"
            ]
          },
          "metadata": {},
          "execution_count": 63
        }
      ]
    },
    {
      "cell_type": "code",
      "source": [
        "import re\n",
        "\n",
        "def clean_and_convert(val):\n",
        "    try:\n",
        "        if pd.isnull(val):\n",
        "            return pd.NaT\n",
        "\n",
        "        # Directly handle numeric values\n",
        "        if isinstance(val, (int, float)):\n",
        "            return pd.to_datetime(int(val), unit=\"ms\")\n",
        "\n",
        "        # Handle dictionary-like objects\n",
        "        if isinstance(val, dict) and \"time\" in val:\n",
        "            return pd.to_datetime(int(val[\"time\"]), unit=\"ms\")\n",
        "\n",
        "        # Convert to string and strip whitespace\n",
        "        val_str = str(val).strip()\n",
        "\n",
        "        # Try to extract timestamp from dictionary-like string\n",
        "        match = re.search(r\"[\\\"']?time[\\\"']?\\s*:\\s*(\\d{13})\", val_str)\n",
        "        if match:\n",
        "            return pd.to_datetime(int(match.group(1)), unit=\"ms\")\n",
        "\n",
        "        # Fallback: check if the string itself is a 13-digit number\n",
        "        if re.fullmatch(r\"\\d{13}\", val_str):\n",
        "            return pd.to_datetime(int(val_str), unit=\"ms\")\n",
        "\n",
        "    except Exception:\n",
        "        pass\n",
        "\n",
        "    return pd.NaT"
      ],
      "metadata": {
        "id": "Ot_mBcChuXYi"
      },
      "execution_count": 64,
      "outputs": []
    },
    {
      "cell_type": "code",
      "source": [
        "df[\"review_time\"] = df[\"time\"].apply(clean_and_convert) # create the column reivew_time with the information of review time"
      ],
      "metadata": {
        "id": "ZjuyL8mSvXxS"
      },
      "execution_count": 27,
      "outputs": []
    },
    {
      "cell_type": "code",
      "source": [
        "df[[\"time\", \"review_time\"]].sample(20)"
      ],
      "metadata": {
        "colab": {
          "base_uri": "https://localhost:8080/",
          "height": 677
        },
        "id": "GVGgtp3z2xBM",
        "outputId": "e9c9afc7-f85c-414b-8674-5492cc0892b9"
      },
      "execution_count": 28,
      "outputs": [
        {
          "output_type": "execute_result",
          "data": {
            "text/plain": [
              "                                                     time  \\\n",
              "532902                                      1565557057523   \n",
              "29802                                       1566817509629   \n",
              "452125                                      1552625513544   \n",
              "218444                                      1604889363209   \n",
              "109808                                      1572730946101   \n",
              "186831                                      1515120643553   \n",
              "281078                                      1521612639962   \n",
              "328813                                      1558029502524   \n",
              "448712                                      1561953803115   \n",
              "212153                                      1489298894568   \n",
              "411388                                      1539213166384   \n",
              "158813                                      1560048840624   \n",
              "105796                                      1536004971772   \n",
              "328781                                      1533352685455   \n",
              "119433                                      1523932364778   \n",
              "265829                                      1534689487773   \n",
              "389731                                      1592366699675   \n",
              "99454                                       1529905676125   \n",
              "411811                                      1538371822258   \n",
              "58233    it's well worth the visit to learn a bit abou...   \n",
              "\n",
              "                   review_time  \n",
              "532902 2019-08-11 20:57:37.523  \n",
              "29802  2019-08-26 11:05:09.629  \n",
              "452125 2019-03-15 04:51:53.544  \n",
              "218444 2020-11-09 02:36:03.209  \n",
              "109808 2019-11-02 21:42:26.101  \n",
              "186831 2018-01-05 02:50:43.553  \n",
              "281078 2018-03-21 06:10:39.962  \n",
              "328813 2019-05-16 17:58:22.524  \n",
              "448712 2019-07-01 04:03:23.115  \n",
              "212153 2017-03-12 06:08:14.568  \n",
              "411388 2018-10-10 23:12:46.384  \n",
              "158813 2019-06-09 02:54:00.624  \n",
              "105796 2018-09-03 20:02:51.772  \n",
              "328781 2018-08-04 03:18:05.455  \n",
              "119433 2018-04-17 02:32:44.778  \n",
              "265829 2018-08-19 14:38:07.773  \n",
              "389731 2020-06-17 04:04:59.675  \n",
              "99454  2018-06-25 05:47:56.125  \n",
              "411811 2018-10-01 05:30:22.258  \n",
              "58233                      NaT  "
            ],
            "text/html": [
              "\n",
              "  <div id=\"df-184ff108-bf7c-49b5-aeac-53d2340a987a\" class=\"colab-df-container\">\n",
              "    <div>\n",
              "<style scoped>\n",
              "    .dataframe tbody tr th:only-of-type {\n",
              "        vertical-align: middle;\n",
              "    }\n",
              "\n",
              "    .dataframe tbody tr th {\n",
              "        vertical-align: top;\n",
              "    }\n",
              "\n",
              "    .dataframe thead th {\n",
              "        text-align: right;\n",
              "    }\n",
              "</style>\n",
              "<table border=\"1\" class=\"dataframe\">\n",
              "  <thead>\n",
              "    <tr style=\"text-align: right;\">\n",
              "      <th></th>\n",
              "      <th>time</th>\n",
              "      <th>review_time</th>\n",
              "    </tr>\n",
              "  </thead>\n",
              "  <tbody>\n",
              "    <tr>\n",
              "      <th>532902</th>\n",
              "      <td>1565557057523</td>\n",
              "      <td>2019-08-11 20:57:37.523</td>\n",
              "    </tr>\n",
              "    <tr>\n",
              "      <th>29802</th>\n",
              "      <td>1566817509629</td>\n",
              "      <td>2019-08-26 11:05:09.629</td>\n",
              "    </tr>\n",
              "    <tr>\n",
              "      <th>452125</th>\n",
              "      <td>1552625513544</td>\n",
              "      <td>2019-03-15 04:51:53.544</td>\n",
              "    </tr>\n",
              "    <tr>\n",
              "      <th>218444</th>\n",
              "      <td>1604889363209</td>\n",
              "      <td>2020-11-09 02:36:03.209</td>\n",
              "    </tr>\n",
              "    <tr>\n",
              "      <th>109808</th>\n",
              "      <td>1572730946101</td>\n",
              "      <td>2019-11-02 21:42:26.101</td>\n",
              "    </tr>\n",
              "    <tr>\n",
              "      <th>186831</th>\n",
              "      <td>1515120643553</td>\n",
              "      <td>2018-01-05 02:50:43.553</td>\n",
              "    </tr>\n",
              "    <tr>\n",
              "      <th>281078</th>\n",
              "      <td>1521612639962</td>\n",
              "      <td>2018-03-21 06:10:39.962</td>\n",
              "    </tr>\n",
              "    <tr>\n",
              "      <th>328813</th>\n",
              "      <td>1558029502524</td>\n",
              "      <td>2019-05-16 17:58:22.524</td>\n",
              "    </tr>\n",
              "    <tr>\n",
              "      <th>448712</th>\n",
              "      <td>1561953803115</td>\n",
              "      <td>2019-07-01 04:03:23.115</td>\n",
              "    </tr>\n",
              "    <tr>\n",
              "      <th>212153</th>\n",
              "      <td>1489298894568</td>\n",
              "      <td>2017-03-12 06:08:14.568</td>\n",
              "    </tr>\n",
              "    <tr>\n",
              "      <th>411388</th>\n",
              "      <td>1539213166384</td>\n",
              "      <td>2018-10-10 23:12:46.384</td>\n",
              "    </tr>\n",
              "    <tr>\n",
              "      <th>158813</th>\n",
              "      <td>1560048840624</td>\n",
              "      <td>2019-06-09 02:54:00.624</td>\n",
              "    </tr>\n",
              "    <tr>\n",
              "      <th>105796</th>\n",
              "      <td>1536004971772</td>\n",
              "      <td>2018-09-03 20:02:51.772</td>\n",
              "    </tr>\n",
              "    <tr>\n",
              "      <th>328781</th>\n",
              "      <td>1533352685455</td>\n",
              "      <td>2018-08-04 03:18:05.455</td>\n",
              "    </tr>\n",
              "    <tr>\n",
              "      <th>119433</th>\n",
              "      <td>1523932364778</td>\n",
              "      <td>2018-04-17 02:32:44.778</td>\n",
              "    </tr>\n",
              "    <tr>\n",
              "      <th>265829</th>\n",
              "      <td>1534689487773</td>\n",
              "      <td>2018-08-19 14:38:07.773</td>\n",
              "    </tr>\n",
              "    <tr>\n",
              "      <th>389731</th>\n",
              "      <td>1592366699675</td>\n",
              "      <td>2020-06-17 04:04:59.675</td>\n",
              "    </tr>\n",
              "    <tr>\n",
              "      <th>99454</th>\n",
              "      <td>1529905676125</td>\n",
              "      <td>2018-06-25 05:47:56.125</td>\n",
              "    </tr>\n",
              "    <tr>\n",
              "      <th>411811</th>\n",
              "      <td>1538371822258</td>\n",
              "      <td>2018-10-01 05:30:22.258</td>\n",
              "    </tr>\n",
              "    <tr>\n",
              "      <th>58233</th>\n",
              "      <td>it's well worth the visit to learn a bit abou...</td>\n",
              "      <td>NaT</td>\n",
              "    </tr>\n",
              "  </tbody>\n",
              "</table>\n",
              "</div>\n",
              "    <div class=\"colab-df-buttons\">\n",
              "\n",
              "  <div class=\"colab-df-container\">\n",
              "    <button class=\"colab-df-convert\" onclick=\"convertToInteractive('df-184ff108-bf7c-49b5-aeac-53d2340a987a')\"\n",
              "            title=\"Convert this dataframe to an interactive table.\"\n",
              "            style=\"display:none;\">\n",
              "\n",
              "  <svg xmlns=\"http://www.w3.org/2000/svg\" height=\"24px\" viewBox=\"0 -960 960 960\">\n",
              "    <path d=\"M120-120v-720h720v720H120Zm60-500h600v-160H180v160Zm220 220h160v-160H400v160Zm0 220h160v-160H400v160ZM180-400h160v-160H180v160Zm440 0h160v-160H620v160ZM180-180h160v-160H180v160Zm440 0h160v-160H620v160Z\"/>\n",
              "  </svg>\n",
              "    </button>\n",
              "\n",
              "  <style>\n",
              "    .colab-df-container {\n",
              "      display:flex;\n",
              "      gap: 12px;\n",
              "    }\n",
              "\n",
              "    .colab-df-convert {\n",
              "      background-color: #E8F0FE;\n",
              "      border: none;\n",
              "      border-radius: 50%;\n",
              "      cursor: pointer;\n",
              "      display: none;\n",
              "      fill: #1967D2;\n",
              "      height: 32px;\n",
              "      padding: 0 0 0 0;\n",
              "      width: 32px;\n",
              "    }\n",
              "\n",
              "    .colab-df-convert:hover {\n",
              "      background-color: #E2EBFA;\n",
              "      box-shadow: 0px 1px 2px rgba(60, 64, 67, 0.3), 0px 1px 3px 1px rgba(60, 64, 67, 0.15);\n",
              "      fill: #174EA6;\n",
              "    }\n",
              "\n",
              "    .colab-df-buttons div {\n",
              "      margin-bottom: 4px;\n",
              "    }\n",
              "\n",
              "    [theme=dark] .colab-df-convert {\n",
              "      background-color: #3B4455;\n",
              "      fill: #D2E3FC;\n",
              "    }\n",
              "\n",
              "    [theme=dark] .colab-df-convert:hover {\n",
              "      background-color: #434B5C;\n",
              "      box-shadow: 0px 1px 3px 1px rgba(0, 0, 0, 0.15);\n",
              "      filter: drop-shadow(0px 1px 2px rgba(0, 0, 0, 0.3));\n",
              "      fill: #FFFFFF;\n",
              "    }\n",
              "  </style>\n",
              "\n",
              "    <script>\n",
              "      const buttonEl =\n",
              "        document.querySelector('#df-184ff108-bf7c-49b5-aeac-53d2340a987a button.colab-df-convert');\n",
              "      buttonEl.style.display =\n",
              "        google.colab.kernel.accessAllowed ? 'block' : 'none';\n",
              "\n",
              "      async function convertToInteractive(key) {\n",
              "        const element = document.querySelector('#df-184ff108-bf7c-49b5-aeac-53d2340a987a');\n",
              "        const dataTable =\n",
              "          await google.colab.kernel.invokeFunction('convertToInteractive',\n",
              "                                                    [key], {});\n",
              "        if (!dataTable) return;\n",
              "\n",
              "        const docLinkHtml = 'Like what you see? Visit the ' +\n",
              "          '<a target=\"_blank\" href=https://colab.research.google.com/notebooks/data_table.ipynb>data table notebook</a>'\n",
              "          + ' to learn more about interactive tables.';\n",
              "        element.innerHTML = '';\n",
              "        dataTable['output_type'] = 'display_data';\n",
              "        await google.colab.output.renderOutput(dataTable, element);\n",
              "        const docLink = document.createElement('div');\n",
              "        docLink.innerHTML = docLinkHtml;\n",
              "        element.appendChild(docLink);\n",
              "      }\n",
              "    </script>\n",
              "  </div>\n",
              "\n",
              "\n",
              "    <div id=\"df-a13c2f89-6b6f-42ae-b24f-53465853784e\">\n",
              "      <button class=\"colab-df-quickchart\" onclick=\"quickchart('df-a13c2f89-6b6f-42ae-b24f-53465853784e')\"\n",
              "                title=\"Suggest charts\"\n",
              "                style=\"display:none;\">\n",
              "\n",
              "<svg xmlns=\"http://www.w3.org/2000/svg\" height=\"24px\"viewBox=\"0 0 24 24\"\n",
              "     width=\"24px\">\n",
              "    <g>\n",
              "        <path d=\"M19 3H5c-1.1 0-2 .9-2 2v14c0 1.1.9 2 2 2h14c1.1 0 2-.9 2-2V5c0-1.1-.9-2-2-2zM9 17H7v-7h2v7zm4 0h-2V7h2v10zm4 0h-2v-4h2v4z\"/>\n",
              "    </g>\n",
              "</svg>\n",
              "      </button>\n",
              "\n",
              "<style>\n",
              "  .colab-df-quickchart {\n",
              "      --bg-color: #E8F0FE;\n",
              "      --fill-color: #1967D2;\n",
              "      --hover-bg-color: #E2EBFA;\n",
              "      --hover-fill-color: #174EA6;\n",
              "      --disabled-fill-color: #AAA;\n",
              "      --disabled-bg-color: #DDD;\n",
              "  }\n",
              "\n",
              "  [theme=dark] .colab-df-quickchart {\n",
              "      --bg-color: #3B4455;\n",
              "      --fill-color: #D2E3FC;\n",
              "      --hover-bg-color: #434B5C;\n",
              "      --hover-fill-color: #FFFFFF;\n",
              "      --disabled-bg-color: #3B4455;\n",
              "      --disabled-fill-color: #666;\n",
              "  }\n",
              "\n",
              "  .colab-df-quickchart {\n",
              "    background-color: var(--bg-color);\n",
              "    border: none;\n",
              "    border-radius: 50%;\n",
              "    cursor: pointer;\n",
              "    display: none;\n",
              "    fill: var(--fill-color);\n",
              "    height: 32px;\n",
              "    padding: 0;\n",
              "    width: 32px;\n",
              "  }\n",
              "\n",
              "  .colab-df-quickchart:hover {\n",
              "    background-color: var(--hover-bg-color);\n",
              "    box-shadow: 0 1px 2px rgba(60, 64, 67, 0.3), 0 1px 3px 1px rgba(60, 64, 67, 0.15);\n",
              "    fill: var(--button-hover-fill-color);\n",
              "  }\n",
              "\n",
              "  .colab-df-quickchart-complete:disabled,\n",
              "  .colab-df-quickchart-complete:disabled:hover {\n",
              "    background-color: var(--disabled-bg-color);\n",
              "    fill: var(--disabled-fill-color);\n",
              "    box-shadow: none;\n",
              "  }\n",
              "\n",
              "  .colab-df-spinner {\n",
              "    border: 2px solid var(--fill-color);\n",
              "    border-color: transparent;\n",
              "    border-bottom-color: var(--fill-color);\n",
              "    animation:\n",
              "      spin 1s steps(1) infinite;\n",
              "  }\n",
              "\n",
              "  @keyframes spin {\n",
              "    0% {\n",
              "      border-color: transparent;\n",
              "      border-bottom-color: var(--fill-color);\n",
              "      border-left-color: var(--fill-color);\n",
              "    }\n",
              "    20% {\n",
              "      border-color: transparent;\n",
              "      border-left-color: var(--fill-color);\n",
              "      border-top-color: var(--fill-color);\n",
              "    }\n",
              "    30% {\n",
              "      border-color: transparent;\n",
              "      border-left-color: var(--fill-color);\n",
              "      border-top-color: var(--fill-color);\n",
              "      border-right-color: var(--fill-color);\n",
              "    }\n",
              "    40% {\n",
              "      border-color: transparent;\n",
              "      border-right-color: var(--fill-color);\n",
              "      border-top-color: var(--fill-color);\n",
              "    }\n",
              "    60% {\n",
              "      border-color: transparent;\n",
              "      border-right-color: var(--fill-color);\n",
              "    }\n",
              "    80% {\n",
              "      border-color: transparent;\n",
              "      border-right-color: var(--fill-color);\n",
              "      border-bottom-color: var(--fill-color);\n",
              "    }\n",
              "    90% {\n",
              "      border-color: transparent;\n",
              "      border-bottom-color: var(--fill-color);\n",
              "    }\n",
              "  }\n",
              "</style>\n",
              "\n",
              "      <script>\n",
              "        async function quickchart(key) {\n",
              "          const quickchartButtonEl =\n",
              "            document.querySelector('#' + key + ' button');\n",
              "          quickchartButtonEl.disabled = true;  // To prevent multiple clicks.\n",
              "          quickchartButtonEl.classList.add('colab-df-spinner');\n",
              "          try {\n",
              "            const charts = await google.colab.kernel.invokeFunction(\n",
              "                'suggestCharts', [key], {});\n",
              "          } catch (error) {\n",
              "            console.error('Error during call to suggestCharts:', error);\n",
              "          }\n",
              "          quickchartButtonEl.classList.remove('colab-df-spinner');\n",
              "          quickchartButtonEl.classList.add('colab-df-quickchart-complete');\n",
              "        }\n",
              "        (() => {\n",
              "          let quickchartButtonEl =\n",
              "            document.querySelector('#df-a13c2f89-6b6f-42ae-b24f-53465853784e button');\n",
              "          quickchartButtonEl.style.display =\n",
              "            google.colab.kernel.accessAllowed ? 'block' : 'none';\n",
              "        })();\n",
              "      </script>\n",
              "    </div>\n",
              "\n",
              "    </div>\n",
              "  </div>\n"
            ],
            "application/vnd.google.colaboratory.intrinsic+json": {
              "type": "dataframe",
              "summary": "{\n  \"name\": \"df[[\\\"time\\\", \\\"review_time\\\"]]\",\n  \"rows\": 20,\n  \"fields\": [\n    {\n      \"column\": \"time\",\n      \"properties\": {\n        \"dtype\": \"string\",\n        \"num_unique_values\": 20,\n        \"samples\": [\n          \"1565557057523\",\n          \"1529905676125\",\n          \"1534689487773\"\n        ],\n        \"semantic_type\": \"\",\n        \"description\": \"\"\n      }\n    },\n    {\n      \"column\": \"review_time\",\n      \"properties\": {\n        \"dtype\": \"date\",\n        \"min\": \"2017-03-12 06:08:14.568000\",\n        \"max\": \"2020-11-09 02:36:03.209000\",\n        \"num_unique_values\": 19,\n        \"samples\": [\n          \"2019-08-11 20:57:37.523000\",\n          \"2018-01-05 02:50:43.553000\",\n          \"2019-06-09 02:54:00.624000\"\n        ],\n        \"semantic_type\": \"\",\n        \"description\": \"\"\n      }\n    }\n  ]\n}"
            }
          },
          "metadata": {},
          "execution_count": 28
        }
      ]
    },
    {
      "cell_type": "code",
      "source": [
        "df[\"review_hour\"] = df[\"review_time\"].apply(lambda x: int(x.hour) if pd.notnull(x) else None)\n",
        "df[[\"time\", \"review_time\", \"review_hour\"]].sample(20)"
      ],
      "metadata": {
        "id": "JnG1xvR9IoeS",
        "outputId": "d272973d-233c-40e4-9c12-d1559d59f2e4",
        "colab": {
          "base_uri": "https://localhost:8080/",
          "height": 677
        }
      },
      "execution_count": 29,
      "outputs": [
        {
          "output_type": "execute_result",
          "data": {
            "text/plain": [
              "                 time             review_time  review_hour\n",
              "373642           None                     NaT          NaN\n",
              "275638  1593787804856 2020-07-03 14:50:04.856         14.0\n",
              "147098  1524109798116 2018-04-19 03:49:58.116          3.0\n",
              "379127  1619415928535 2021-04-26 05:45:28.535          5.0\n",
              "274348  1598300408991 2020-08-24 20:20:08.991         20.0\n",
              "221588  1563079933481 2019-07-14 04:52:13.481          4.0\n",
              "392250  1595699898721 2020-07-25 17:58:18.721         17.0\n",
              "497909  1500601692817 2017-07-21 01:48:12.817          1.0\n",
              "86824            None                     NaT          NaN\n",
              "293281  1465088566379 2016-06-05 01:02:46.379          1.0\n",
              "345845  1531327270105 2018-07-11 16:41:10.105         16.0\n",
              "413330  1527487728151 2018-05-28 06:08:48.151          6.0\n",
              "322549  1554954751174 2019-04-11 03:52:31.174          3.0\n",
              "262954           None                     NaT          NaN\n",
              "353143  1522015798935 2018-03-25 22:09:58.935         22.0\n",
              "186950  1531472897302 2018-07-13 09:08:17.302          9.0\n",
              "439746  1519863934949 2018-03-01 00:25:34.949          0.0\n",
              "26760   1582655325006 2020-02-25 18:28:45.006         18.0\n",
              "423644  1524182816562 2018-04-20 00:06:56.562          0.0\n",
              "486715  1553234706669 2019-03-22 06:05:06.669          6.0"
            ],
            "text/html": [
              "\n",
              "  <div id=\"df-6c5c21ab-72e4-45e4-ac45-b7f64d9d626b\" class=\"colab-df-container\">\n",
              "    <div>\n",
              "<style scoped>\n",
              "    .dataframe tbody tr th:only-of-type {\n",
              "        vertical-align: middle;\n",
              "    }\n",
              "\n",
              "    .dataframe tbody tr th {\n",
              "        vertical-align: top;\n",
              "    }\n",
              "\n",
              "    .dataframe thead th {\n",
              "        text-align: right;\n",
              "    }\n",
              "</style>\n",
              "<table border=\"1\" class=\"dataframe\">\n",
              "  <thead>\n",
              "    <tr style=\"text-align: right;\">\n",
              "      <th></th>\n",
              "      <th>time</th>\n",
              "      <th>review_time</th>\n",
              "      <th>review_hour</th>\n",
              "    </tr>\n",
              "  </thead>\n",
              "  <tbody>\n",
              "    <tr>\n",
              "      <th>373642</th>\n",
              "      <td>None</td>\n",
              "      <td>NaT</td>\n",
              "      <td>NaN</td>\n",
              "    </tr>\n",
              "    <tr>\n",
              "      <th>275638</th>\n",
              "      <td>1593787804856</td>\n",
              "      <td>2020-07-03 14:50:04.856</td>\n",
              "      <td>14.0</td>\n",
              "    </tr>\n",
              "    <tr>\n",
              "      <th>147098</th>\n",
              "      <td>1524109798116</td>\n",
              "      <td>2018-04-19 03:49:58.116</td>\n",
              "      <td>3.0</td>\n",
              "    </tr>\n",
              "    <tr>\n",
              "      <th>379127</th>\n",
              "      <td>1619415928535</td>\n",
              "      <td>2021-04-26 05:45:28.535</td>\n",
              "      <td>5.0</td>\n",
              "    </tr>\n",
              "    <tr>\n",
              "      <th>274348</th>\n",
              "      <td>1598300408991</td>\n",
              "      <td>2020-08-24 20:20:08.991</td>\n",
              "      <td>20.0</td>\n",
              "    </tr>\n",
              "    <tr>\n",
              "      <th>221588</th>\n",
              "      <td>1563079933481</td>\n",
              "      <td>2019-07-14 04:52:13.481</td>\n",
              "      <td>4.0</td>\n",
              "    </tr>\n",
              "    <tr>\n",
              "      <th>392250</th>\n",
              "      <td>1595699898721</td>\n",
              "      <td>2020-07-25 17:58:18.721</td>\n",
              "      <td>17.0</td>\n",
              "    </tr>\n",
              "    <tr>\n",
              "      <th>497909</th>\n",
              "      <td>1500601692817</td>\n",
              "      <td>2017-07-21 01:48:12.817</td>\n",
              "      <td>1.0</td>\n",
              "    </tr>\n",
              "    <tr>\n",
              "      <th>86824</th>\n",
              "      <td>None</td>\n",
              "      <td>NaT</td>\n",
              "      <td>NaN</td>\n",
              "    </tr>\n",
              "    <tr>\n",
              "      <th>293281</th>\n",
              "      <td>1465088566379</td>\n",
              "      <td>2016-06-05 01:02:46.379</td>\n",
              "      <td>1.0</td>\n",
              "    </tr>\n",
              "    <tr>\n",
              "      <th>345845</th>\n",
              "      <td>1531327270105</td>\n",
              "      <td>2018-07-11 16:41:10.105</td>\n",
              "      <td>16.0</td>\n",
              "    </tr>\n",
              "    <tr>\n",
              "      <th>413330</th>\n",
              "      <td>1527487728151</td>\n",
              "      <td>2018-05-28 06:08:48.151</td>\n",
              "      <td>6.0</td>\n",
              "    </tr>\n",
              "    <tr>\n",
              "      <th>322549</th>\n",
              "      <td>1554954751174</td>\n",
              "      <td>2019-04-11 03:52:31.174</td>\n",
              "      <td>3.0</td>\n",
              "    </tr>\n",
              "    <tr>\n",
              "      <th>262954</th>\n",
              "      <td>None</td>\n",
              "      <td>NaT</td>\n",
              "      <td>NaN</td>\n",
              "    </tr>\n",
              "    <tr>\n",
              "      <th>353143</th>\n",
              "      <td>1522015798935</td>\n",
              "      <td>2018-03-25 22:09:58.935</td>\n",
              "      <td>22.0</td>\n",
              "    </tr>\n",
              "    <tr>\n",
              "      <th>186950</th>\n",
              "      <td>1531472897302</td>\n",
              "      <td>2018-07-13 09:08:17.302</td>\n",
              "      <td>9.0</td>\n",
              "    </tr>\n",
              "    <tr>\n",
              "      <th>439746</th>\n",
              "      <td>1519863934949</td>\n",
              "      <td>2018-03-01 00:25:34.949</td>\n",
              "      <td>0.0</td>\n",
              "    </tr>\n",
              "    <tr>\n",
              "      <th>26760</th>\n",
              "      <td>1582655325006</td>\n",
              "      <td>2020-02-25 18:28:45.006</td>\n",
              "      <td>18.0</td>\n",
              "    </tr>\n",
              "    <tr>\n",
              "      <th>423644</th>\n",
              "      <td>1524182816562</td>\n",
              "      <td>2018-04-20 00:06:56.562</td>\n",
              "      <td>0.0</td>\n",
              "    </tr>\n",
              "    <tr>\n",
              "      <th>486715</th>\n",
              "      <td>1553234706669</td>\n",
              "      <td>2019-03-22 06:05:06.669</td>\n",
              "      <td>6.0</td>\n",
              "    </tr>\n",
              "  </tbody>\n",
              "</table>\n",
              "</div>\n",
              "    <div class=\"colab-df-buttons\">\n",
              "\n",
              "  <div class=\"colab-df-container\">\n",
              "    <button class=\"colab-df-convert\" onclick=\"convertToInteractive('df-6c5c21ab-72e4-45e4-ac45-b7f64d9d626b')\"\n",
              "            title=\"Convert this dataframe to an interactive table.\"\n",
              "            style=\"display:none;\">\n",
              "\n",
              "  <svg xmlns=\"http://www.w3.org/2000/svg\" height=\"24px\" viewBox=\"0 -960 960 960\">\n",
              "    <path d=\"M120-120v-720h720v720H120Zm60-500h600v-160H180v160Zm220 220h160v-160H400v160Zm0 220h160v-160H400v160ZM180-400h160v-160H180v160Zm440 0h160v-160H620v160ZM180-180h160v-160H180v160Zm440 0h160v-160H620v160Z\"/>\n",
              "  </svg>\n",
              "    </button>\n",
              "\n",
              "  <style>\n",
              "    .colab-df-container {\n",
              "      display:flex;\n",
              "      gap: 12px;\n",
              "    }\n",
              "\n",
              "    .colab-df-convert {\n",
              "      background-color: #E8F0FE;\n",
              "      border: none;\n",
              "      border-radius: 50%;\n",
              "      cursor: pointer;\n",
              "      display: none;\n",
              "      fill: #1967D2;\n",
              "      height: 32px;\n",
              "      padding: 0 0 0 0;\n",
              "      width: 32px;\n",
              "    }\n",
              "\n",
              "    .colab-df-convert:hover {\n",
              "      background-color: #E2EBFA;\n",
              "      box-shadow: 0px 1px 2px rgba(60, 64, 67, 0.3), 0px 1px 3px 1px rgba(60, 64, 67, 0.15);\n",
              "      fill: #174EA6;\n",
              "    }\n",
              "\n",
              "    .colab-df-buttons div {\n",
              "      margin-bottom: 4px;\n",
              "    }\n",
              "\n",
              "    [theme=dark] .colab-df-convert {\n",
              "      background-color: #3B4455;\n",
              "      fill: #D2E3FC;\n",
              "    }\n",
              "\n",
              "    [theme=dark] .colab-df-convert:hover {\n",
              "      background-color: #434B5C;\n",
              "      box-shadow: 0px 1px 3px 1px rgba(0, 0, 0, 0.15);\n",
              "      filter: drop-shadow(0px 1px 2px rgba(0, 0, 0, 0.3));\n",
              "      fill: #FFFFFF;\n",
              "    }\n",
              "  </style>\n",
              "\n",
              "    <script>\n",
              "      const buttonEl =\n",
              "        document.querySelector('#df-6c5c21ab-72e4-45e4-ac45-b7f64d9d626b button.colab-df-convert');\n",
              "      buttonEl.style.display =\n",
              "        google.colab.kernel.accessAllowed ? 'block' : 'none';\n",
              "\n",
              "      async function convertToInteractive(key) {\n",
              "        const element = document.querySelector('#df-6c5c21ab-72e4-45e4-ac45-b7f64d9d626b');\n",
              "        const dataTable =\n",
              "          await google.colab.kernel.invokeFunction('convertToInteractive',\n",
              "                                                    [key], {});\n",
              "        if (!dataTable) return;\n",
              "\n",
              "        const docLinkHtml = 'Like what you see? Visit the ' +\n",
              "          '<a target=\"_blank\" href=https://colab.research.google.com/notebooks/data_table.ipynb>data table notebook</a>'\n",
              "          + ' to learn more about interactive tables.';\n",
              "        element.innerHTML = '';\n",
              "        dataTable['output_type'] = 'display_data';\n",
              "        await google.colab.output.renderOutput(dataTable, element);\n",
              "        const docLink = document.createElement('div');\n",
              "        docLink.innerHTML = docLinkHtml;\n",
              "        element.appendChild(docLink);\n",
              "      }\n",
              "    </script>\n",
              "  </div>\n",
              "\n",
              "\n",
              "    <div id=\"df-54705a7b-b8cb-4699-b790-d66fb0c7afb4\">\n",
              "      <button class=\"colab-df-quickchart\" onclick=\"quickchart('df-54705a7b-b8cb-4699-b790-d66fb0c7afb4')\"\n",
              "                title=\"Suggest charts\"\n",
              "                style=\"display:none;\">\n",
              "\n",
              "<svg xmlns=\"http://www.w3.org/2000/svg\" height=\"24px\"viewBox=\"0 0 24 24\"\n",
              "     width=\"24px\">\n",
              "    <g>\n",
              "        <path d=\"M19 3H5c-1.1 0-2 .9-2 2v14c0 1.1.9 2 2 2h14c1.1 0 2-.9 2-2V5c0-1.1-.9-2-2-2zM9 17H7v-7h2v7zm4 0h-2V7h2v10zm4 0h-2v-4h2v4z\"/>\n",
              "    </g>\n",
              "</svg>\n",
              "      </button>\n",
              "\n",
              "<style>\n",
              "  .colab-df-quickchart {\n",
              "      --bg-color: #E8F0FE;\n",
              "      --fill-color: #1967D2;\n",
              "      --hover-bg-color: #E2EBFA;\n",
              "      --hover-fill-color: #174EA6;\n",
              "      --disabled-fill-color: #AAA;\n",
              "      --disabled-bg-color: #DDD;\n",
              "  }\n",
              "\n",
              "  [theme=dark] .colab-df-quickchart {\n",
              "      --bg-color: #3B4455;\n",
              "      --fill-color: #D2E3FC;\n",
              "      --hover-bg-color: #434B5C;\n",
              "      --hover-fill-color: #FFFFFF;\n",
              "      --disabled-bg-color: #3B4455;\n",
              "      --disabled-fill-color: #666;\n",
              "  }\n",
              "\n",
              "  .colab-df-quickchart {\n",
              "    background-color: var(--bg-color);\n",
              "    border: none;\n",
              "    border-radius: 50%;\n",
              "    cursor: pointer;\n",
              "    display: none;\n",
              "    fill: var(--fill-color);\n",
              "    height: 32px;\n",
              "    padding: 0;\n",
              "    width: 32px;\n",
              "  }\n",
              "\n",
              "  .colab-df-quickchart:hover {\n",
              "    background-color: var(--hover-bg-color);\n",
              "    box-shadow: 0 1px 2px rgba(60, 64, 67, 0.3), 0 1px 3px 1px rgba(60, 64, 67, 0.15);\n",
              "    fill: var(--button-hover-fill-color);\n",
              "  }\n",
              "\n",
              "  .colab-df-quickchart-complete:disabled,\n",
              "  .colab-df-quickchart-complete:disabled:hover {\n",
              "    background-color: var(--disabled-bg-color);\n",
              "    fill: var(--disabled-fill-color);\n",
              "    box-shadow: none;\n",
              "  }\n",
              "\n",
              "  .colab-df-spinner {\n",
              "    border: 2px solid var(--fill-color);\n",
              "    border-color: transparent;\n",
              "    border-bottom-color: var(--fill-color);\n",
              "    animation:\n",
              "      spin 1s steps(1) infinite;\n",
              "  }\n",
              "\n",
              "  @keyframes spin {\n",
              "    0% {\n",
              "      border-color: transparent;\n",
              "      border-bottom-color: var(--fill-color);\n",
              "      border-left-color: var(--fill-color);\n",
              "    }\n",
              "    20% {\n",
              "      border-color: transparent;\n",
              "      border-left-color: var(--fill-color);\n",
              "      border-top-color: var(--fill-color);\n",
              "    }\n",
              "    30% {\n",
              "      border-color: transparent;\n",
              "      border-left-color: var(--fill-color);\n",
              "      border-top-color: var(--fill-color);\n",
              "      border-right-color: var(--fill-color);\n",
              "    }\n",
              "    40% {\n",
              "      border-color: transparent;\n",
              "      border-right-color: var(--fill-color);\n",
              "      border-top-color: var(--fill-color);\n",
              "    }\n",
              "    60% {\n",
              "      border-color: transparent;\n",
              "      border-right-color: var(--fill-color);\n",
              "    }\n",
              "    80% {\n",
              "      border-color: transparent;\n",
              "      border-right-color: var(--fill-color);\n",
              "      border-bottom-color: var(--fill-color);\n",
              "    }\n",
              "    90% {\n",
              "      border-color: transparent;\n",
              "      border-bottom-color: var(--fill-color);\n",
              "    }\n",
              "  }\n",
              "</style>\n",
              "\n",
              "      <script>\n",
              "        async function quickchart(key) {\n",
              "          const quickchartButtonEl =\n",
              "            document.querySelector('#' + key + ' button');\n",
              "          quickchartButtonEl.disabled = true;  // To prevent multiple clicks.\n",
              "          quickchartButtonEl.classList.add('colab-df-spinner');\n",
              "          try {\n",
              "            const charts = await google.colab.kernel.invokeFunction(\n",
              "                'suggestCharts', [key], {});\n",
              "          } catch (error) {\n",
              "            console.error('Error during call to suggestCharts:', error);\n",
              "          }\n",
              "          quickchartButtonEl.classList.remove('colab-df-spinner');\n",
              "          quickchartButtonEl.classList.add('colab-df-quickchart-complete');\n",
              "        }\n",
              "        (() => {\n",
              "          let quickchartButtonEl =\n",
              "            document.querySelector('#df-54705a7b-b8cb-4699-b790-d66fb0c7afb4 button');\n",
              "          quickchartButtonEl.style.display =\n",
              "            google.colab.kernel.accessAllowed ? 'block' : 'none';\n",
              "        })();\n",
              "      </script>\n",
              "    </div>\n",
              "\n",
              "    </div>\n",
              "  </div>\n"
            ],
            "application/vnd.google.colaboratory.intrinsic+json": {
              "type": "dataframe",
              "summary": "{\n  \"name\": \"df[[\\\"time\\\", \\\"review_time\\\", \\\"review_hour\\\"]]\",\n  \"rows\": 20,\n  \"fields\": [\n    {\n      \"column\": \"time\",\n      \"properties\": {\n        \"dtype\": \"string\",\n        \"num_unique_values\": 17,\n        \"samples\": [\n          \"1593787804856\",\n          \"1524109798116\",\n          \"1595699898721\"\n        ],\n        \"semantic_type\": \"\",\n        \"description\": \"\"\n      }\n    },\n    {\n      \"column\": \"review_time\",\n      \"properties\": {\n        \"dtype\": \"date\",\n        \"min\": \"2016-06-05 01:02:46.379000\",\n        \"max\": \"2021-04-26 05:45:28.535000\",\n        \"num_unique_values\": 17,\n        \"samples\": [\n          \"2020-07-03 14:50:04.856000\",\n          \"2018-04-19 03:49:58.116000\",\n          \"2020-07-25 17:58:18.721000\"\n        ],\n        \"semantic_type\": \"\",\n        \"description\": \"\"\n      }\n    },\n    {\n      \"column\": \"review_hour\",\n      \"properties\": {\n        \"dtype\": \"number\",\n        \"std\": 7.608528496519741,\n        \"min\": 0.0,\n        \"max\": 22.0,\n        \"num_unique_values\": 13,\n        \"samples\": [\n          0.0,\n          22.0,\n          14.0\n        ],\n        \"semantic_type\": \"\",\n        \"description\": \"\"\n      }\n    }\n  ]\n}"
            }
          },
          "metadata": {},
          "execution_count": 29
        }
      ]
    },
    {
      "cell_type": "code",
      "source": [
        "df[\"review_hour\"] = df[\"review_hour\"].astype(\"Int64\")\n",
        "df[\"review_time\"] = df[\"review_hour\"]\n",
        "df = df.drop(\"review_hour\", axis=1)\n",
        "df.head(20)"
      ],
      "metadata": {
        "id": "7dEsf884JnfT",
        "outputId": "73d6d2fd-aa67-4817-f3ef-54dae4566d37",
        "colab": {
          "base_uri": "https://localhost:8080/",
          "height": 1000
        }
      },
      "execution_count": 30,
      "outputs": [
        {
          "output_type": "execute_result",
          "data": {
            "text/plain": [
              "                                              user_id                  name  \\\n",
              "0                              1.1199583254827408e+20            rudd plate   \n",
              "1                              1.0478867993645928e+20         tabusoro 2018   \n",
              "2                              1.0931108707710702e+20             Max Berry   \n",
              "3                              1.0752206066654141e+20        bryan leggieri   \n",
              "4                              1.0043345819386066e+20         Robert Walker   \n",
              "5   Marco T's has officially earned my a spot on m...                  None   \n",
              "6                              1.1434038596819003e+20         Derrick Spain   \n",
              "7                                  course in Alaska.\"                  None   \n",
              "8                              1.0845867497873875e+20            Pinkie Pie   \n",
              "9                              1.0711897751685569e+20          Jaimee Buzga   \n",
              "10                              1.132489944064984e+20           Nikisha Cox   \n",
              "11                             1.0488522221233306e+20          Casey Moritz   \n",
              "12                             1.0439458252184941e+20          Lizz Stewart   \n",
              "13                             1.0509822130456941e+20  Christopher Karslake   \n",
              "14                             1.1405410076619162e+20              Austin L   \n",
              "15                             1.0652787322914911e+20         Andrew Barnes   \n",
              "16                             1.0550944649647342e+20           Daniel Gray   \n",
              "17                             1.1411446301246828e+20             Josh King   \n",
              "18                             1.0910157164438086e+20          Sunrise Girl   \n",
              "19                             1.0089772662768882e+20       Philip Unsworth   \n",
              "\n",
              "                                                 time  \\\n",
              "0                                       1525676908252   \n",
              "1                                       1368006776281   \n",
              "2                                       1569090797829   \n",
              "3                                       1597542582178   \n",
              "4                                       1598037847651   \n",
              "5                                                None   \n",
              "6                                       1549419589149   \n",
              "7   \"{'time': 1598807097467, 'text': \"\"We all appr...   \n",
              "8                                       1495309866441   \n",
              "9                                       1562915528083   \n",
              "10                                      1512109978426   \n",
              "11                                      1525666031511   \n",
              "12                                      1556763599502   \n",
              "13                                      1619443004763   \n",
              "14                                      1541739623264   \n",
              "15                                      1603861609451   \n",
              "16                                      1590248431642   \n",
              "17                                      1604610684340   \n",
              "18                                      1611373916067   \n",
              "19                                      1599229114437   \n",
              "\n",
              "                                               rating  \\\n",
              "0                                                   5   \n",
              "1                                                   5   \n",
              "2                                                   5   \n",
              "3                                                   5   \n",
              "4                                                   5   \n",
              "5                                                None   \n",
              "6                                                   5   \n",
              "7    I believe we have the best course in Alaska a...   \n",
              "8                                                   5   \n",
              "9                                                   3   \n",
              "10                                                  5   \n",
              "11                                                  5   \n",
              "12                                                  5   \n",
              "13                                                  5   \n",
              "14                                                  5   \n",
              "15                                                  5   \n",
              "16                                                  5   \n",
              "17                                                  5   \n",
              "18                                                  5   \n",
              "19                                                  5   \n",
              "\n",
              "                                                 text  \\\n",
              "0   One of my favorite spots in girdwood, food is ...   \n",
              "1   My wife and I went down to check out some prop...   \n",
              "2   A haven for spoiled dogs.  The absolute best k...   \n",
              "3                                                None   \n",
              "4        Excellent prices and very professional staff   \n",
              "5                                                None   \n",
              "6   the Knik pizza was awesome. lots of options an...   \n",
              "7               0x56c91d88841c3625:0x2ecd4d1a74fecbae   \n",
              "8                                                None   \n",
              "9                                                None   \n",
              "10                                         Great view   \n",
              "11                                               None   \n",
              "12  A great place to bring visiters. A beautiful r...   \n",
              "13  I had a great experience going through the tun...   \n",
              "14                                               None   \n",
              "15  Sara's Too , Is also UPS drop. My  parcel was ...   \n",
              "16                                               None   \n",
              "17  The staff is very friendly, also have a great ...   \n",
              "18  A great place with great people :) they have a...   \n",
              "19  Pleasant surprise. We were coming back from so...   \n",
              "\n",
              "                                                 pics  \\\n",
              "0                                                None   \n",
              "1                                                None   \n",
              "2                                                None   \n",
              "3                                                None   \n",
              "4                                                None   \n",
              "5                                                None   \n",
              "6                                                None   \n",
              "7                                                None   \n",
              "8                                                None   \n",
              "9                                                None   \n",
              "10                                               None   \n",
              "11                                               None   \n",
              "12                                               None   \n",
              "13                                               None   \n",
              "14                                               None   \n",
              "15  [{'url': ['https://lh5.googleusercontent.com/p...   \n",
              "16                                               None   \n",
              "17                                               None   \n",
              "18                                               None   \n",
              "19                                               None   \n",
              "\n",
              "                                                 resp  \\\n",
              "0                                                None   \n",
              "1                                                None   \n",
              "2   {'time': 1573931035889, 'text': 'Hi Max,\\nThan...   \n",
              "3                                                None   \n",
              "4                                                None   \n",
              "5                                                None   \n",
              "6                                                None   \n",
              "7                                                None   \n",
              "8                                                None   \n",
              "9                                                None   \n",
              "10                                               None   \n",
              "11                                               None   \n",
              "12                                               None   \n",
              "13                                               None   \n",
              "14                                               None   \n",
              "15                                               None   \n",
              "16                                               None   \n",
              "17         \"{'time': 1604702936096, 'text': \"\"Hi Josh   \n",
              "18                                               None   \n",
              "19  {'time': 1599774486412, 'text': 'Thank you Phi...   \n",
              "\n",
              "                                              gmap_id  review_time  \n",
              "0               0x56c87b49c26f5107:0xec4056657ef54014            7  \n",
              "1               0x56c8de19a2d52fb9:0xd4de9f782a9ea8d0            9  \n",
              "2               0x56c899d4b406a22f:0x17bbaf5c2b5d5e6d           18  \n",
              "3               0x51325ab55e36bf49:0x2d274b98cb425902            1  \n",
              "4               0x56c8de139d65cb69:0xf0491769409e7959           19  \n",
              "5                                                None         <NA>  \n",
              "6               0x56c8e0bd31c76473:0xdea4696a0c45fd8d            2  \n",
              "7                                                None           17  \n",
              "8                 0x513244cdbc58b5ab:0x4e07ddb288998e           19  \n",
              "9               0x56c1320b8fe2e389:0xb356c28fe92eca6b            7  \n",
              "10              0x56eac69f61d0db75:0x446eb337bb8b8ccf            6  \n",
              "11              0x56c897c5975c6f9b:0x96f267f43ca13196            4  \n",
              "12               0x56c864cfb0346d6f:0xe35c3ec53fb5ae0            2  \n",
              "13              0x56c80ca4cf84947d:0x291a1ce6025ed741           13  \n",
              "14              0x56c89995c5a37213:0x440cc584132be224            5  \n",
              "15              0x56c896ef45563d23:0x2423d2698673c912            5  \n",
              "16              0x56c8e8d888182235:0x9911f9efad4bdb3e           15  \n",
              "17  \\nThank you for posting such a wonderful revie...           21  \n",
              "18              0x5400e1fcbe92efc7:0x24163e0b998d17cd            3  \n",
              "19              0x51324523386efea3:0x4a3e71921b302335           14  "
            ],
            "text/html": [
              "\n",
              "  <div id=\"df-dc860274-f001-4a13-a4ce-ee8aa595edb8\" class=\"colab-df-container\">\n",
              "    <div>\n",
              "<style scoped>\n",
              "    .dataframe tbody tr th:only-of-type {\n",
              "        vertical-align: middle;\n",
              "    }\n",
              "\n",
              "    .dataframe tbody tr th {\n",
              "        vertical-align: top;\n",
              "    }\n",
              "\n",
              "    .dataframe thead th {\n",
              "        text-align: right;\n",
              "    }\n",
              "</style>\n",
              "<table border=\"1\" class=\"dataframe\">\n",
              "  <thead>\n",
              "    <tr style=\"text-align: right;\">\n",
              "      <th></th>\n",
              "      <th>user_id</th>\n",
              "      <th>name</th>\n",
              "      <th>time</th>\n",
              "      <th>rating</th>\n",
              "      <th>text</th>\n",
              "      <th>pics</th>\n",
              "      <th>resp</th>\n",
              "      <th>gmap_id</th>\n",
              "      <th>review_time</th>\n",
              "    </tr>\n",
              "  </thead>\n",
              "  <tbody>\n",
              "    <tr>\n",
              "      <th>0</th>\n",
              "      <td>1.1199583254827408e+20</td>\n",
              "      <td>rudd plate</td>\n",
              "      <td>1525676908252</td>\n",
              "      <td>5</td>\n",
              "      <td>One of my favorite spots in girdwood, food is ...</td>\n",
              "      <td>None</td>\n",
              "      <td>None</td>\n",
              "      <td>0x56c87b49c26f5107:0xec4056657ef54014</td>\n",
              "      <td>7</td>\n",
              "    </tr>\n",
              "    <tr>\n",
              "      <th>1</th>\n",
              "      <td>1.0478867993645928e+20</td>\n",
              "      <td>tabusoro 2018</td>\n",
              "      <td>1368006776281</td>\n",
              "      <td>5</td>\n",
              "      <td>My wife and I went down to check out some prop...</td>\n",
              "      <td>None</td>\n",
              "      <td>None</td>\n",
              "      <td>0x56c8de19a2d52fb9:0xd4de9f782a9ea8d0</td>\n",
              "      <td>9</td>\n",
              "    </tr>\n",
              "    <tr>\n",
              "      <th>2</th>\n",
              "      <td>1.0931108707710702e+20</td>\n",
              "      <td>Max Berry</td>\n",
              "      <td>1569090797829</td>\n",
              "      <td>5</td>\n",
              "      <td>A haven for spoiled dogs.  The absolute best k...</td>\n",
              "      <td>None</td>\n",
              "      <td>{'time': 1573931035889, 'text': 'Hi Max,\\nThan...</td>\n",
              "      <td>0x56c899d4b406a22f:0x17bbaf5c2b5d5e6d</td>\n",
              "      <td>18</td>\n",
              "    </tr>\n",
              "    <tr>\n",
              "      <th>3</th>\n",
              "      <td>1.0752206066654141e+20</td>\n",
              "      <td>bryan leggieri</td>\n",
              "      <td>1597542582178</td>\n",
              "      <td>5</td>\n",
              "      <td>None</td>\n",
              "      <td>None</td>\n",
              "      <td>None</td>\n",
              "      <td>0x51325ab55e36bf49:0x2d274b98cb425902</td>\n",
              "      <td>1</td>\n",
              "    </tr>\n",
              "    <tr>\n",
              "      <th>4</th>\n",
              "      <td>1.0043345819386066e+20</td>\n",
              "      <td>Robert Walker</td>\n",
              "      <td>1598037847651</td>\n",
              "      <td>5</td>\n",
              "      <td>Excellent prices and very professional staff</td>\n",
              "      <td>None</td>\n",
              "      <td>None</td>\n",
              "      <td>0x56c8de139d65cb69:0xf0491769409e7959</td>\n",
              "      <td>19</td>\n",
              "    </tr>\n",
              "    <tr>\n",
              "      <th>5</th>\n",
              "      <td>Marco T's has officially earned my a spot on m...</td>\n",
              "      <td>None</td>\n",
              "      <td>None</td>\n",
              "      <td>None</td>\n",
              "      <td>None</td>\n",
              "      <td>None</td>\n",
              "      <td>None</td>\n",
              "      <td>None</td>\n",
              "      <td>&lt;NA&gt;</td>\n",
              "    </tr>\n",
              "    <tr>\n",
              "      <th>6</th>\n",
              "      <td>1.1434038596819003e+20</td>\n",
              "      <td>Derrick Spain</td>\n",
              "      <td>1549419589149</td>\n",
              "      <td>5</td>\n",
              "      <td>the Knik pizza was awesome. lots of options an...</td>\n",
              "      <td>None</td>\n",
              "      <td>None</td>\n",
              "      <td>0x56c8e0bd31c76473:0xdea4696a0c45fd8d</td>\n",
              "      <td>2</td>\n",
              "    </tr>\n",
              "    <tr>\n",
              "      <th>7</th>\n",
              "      <td>course in Alaska.\"</td>\n",
              "      <td>None</td>\n",
              "      <td>\"{'time': 1598807097467, 'text': \"\"We all appr...</td>\n",
              "      <td>I believe we have the best course in Alaska a...</td>\n",
              "      <td>0x56c91d88841c3625:0x2ecd4d1a74fecbae</td>\n",
              "      <td>None</td>\n",
              "      <td>None</td>\n",
              "      <td>None</td>\n",
              "      <td>17</td>\n",
              "    </tr>\n",
              "    <tr>\n",
              "      <th>8</th>\n",
              "      <td>1.0845867497873875e+20</td>\n",
              "      <td>Pinkie Pie</td>\n",
              "      <td>1495309866441</td>\n",
              "      <td>5</td>\n",
              "      <td>None</td>\n",
              "      <td>None</td>\n",
              "      <td>None</td>\n",
              "      <td>0x513244cdbc58b5ab:0x4e07ddb288998e</td>\n",
              "      <td>19</td>\n",
              "    </tr>\n",
              "    <tr>\n",
              "      <th>9</th>\n",
              "      <td>1.0711897751685569e+20</td>\n",
              "      <td>Jaimee Buzga</td>\n",
              "      <td>1562915528083</td>\n",
              "      <td>3</td>\n",
              "      <td>None</td>\n",
              "      <td>None</td>\n",
              "      <td>None</td>\n",
              "      <td>0x56c1320b8fe2e389:0xb356c28fe92eca6b</td>\n",
              "      <td>7</td>\n",
              "    </tr>\n",
              "    <tr>\n",
              "      <th>10</th>\n",
              "      <td>1.132489944064984e+20</td>\n",
              "      <td>Nikisha Cox</td>\n",
              "      <td>1512109978426</td>\n",
              "      <td>5</td>\n",
              "      <td>Great view</td>\n",
              "      <td>None</td>\n",
              "      <td>None</td>\n",
              "      <td>0x56eac69f61d0db75:0x446eb337bb8b8ccf</td>\n",
              "      <td>6</td>\n",
              "    </tr>\n",
              "    <tr>\n",
              "      <th>11</th>\n",
              "      <td>1.0488522221233306e+20</td>\n",
              "      <td>Casey Moritz</td>\n",
              "      <td>1525666031511</td>\n",
              "      <td>5</td>\n",
              "      <td>None</td>\n",
              "      <td>None</td>\n",
              "      <td>None</td>\n",
              "      <td>0x56c897c5975c6f9b:0x96f267f43ca13196</td>\n",
              "      <td>4</td>\n",
              "    </tr>\n",
              "    <tr>\n",
              "      <th>12</th>\n",
              "      <td>1.0439458252184941e+20</td>\n",
              "      <td>Lizz Stewart</td>\n",
              "      <td>1556763599502</td>\n",
              "      <td>5</td>\n",
              "      <td>A great place to bring visiters. A beautiful r...</td>\n",
              "      <td>None</td>\n",
              "      <td>None</td>\n",
              "      <td>0x56c864cfb0346d6f:0xe35c3ec53fb5ae0</td>\n",
              "      <td>2</td>\n",
              "    </tr>\n",
              "    <tr>\n",
              "      <th>13</th>\n",
              "      <td>1.0509822130456941e+20</td>\n",
              "      <td>Christopher Karslake</td>\n",
              "      <td>1619443004763</td>\n",
              "      <td>5</td>\n",
              "      <td>I had a great experience going through the tun...</td>\n",
              "      <td>None</td>\n",
              "      <td>None</td>\n",
              "      <td>0x56c80ca4cf84947d:0x291a1ce6025ed741</td>\n",
              "      <td>13</td>\n",
              "    </tr>\n",
              "    <tr>\n",
              "      <th>14</th>\n",
              "      <td>1.1405410076619162e+20</td>\n",
              "      <td>Austin L</td>\n",
              "      <td>1541739623264</td>\n",
              "      <td>5</td>\n",
              "      <td>None</td>\n",
              "      <td>None</td>\n",
              "      <td>None</td>\n",
              "      <td>0x56c89995c5a37213:0x440cc584132be224</td>\n",
              "      <td>5</td>\n",
              "    </tr>\n",
              "    <tr>\n",
              "      <th>15</th>\n",
              "      <td>1.0652787322914911e+20</td>\n",
              "      <td>Andrew Barnes</td>\n",
              "      <td>1603861609451</td>\n",
              "      <td>5</td>\n",
              "      <td>Sara's Too , Is also UPS drop. My  parcel was ...</td>\n",
              "      <td>[{'url': ['https://lh5.googleusercontent.com/p...</td>\n",
              "      <td>None</td>\n",
              "      <td>0x56c896ef45563d23:0x2423d2698673c912</td>\n",
              "      <td>5</td>\n",
              "    </tr>\n",
              "    <tr>\n",
              "      <th>16</th>\n",
              "      <td>1.0550944649647342e+20</td>\n",
              "      <td>Daniel Gray</td>\n",
              "      <td>1590248431642</td>\n",
              "      <td>5</td>\n",
              "      <td>None</td>\n",
              "      <td>None</td>\n",
              "      <td>None</td>\n",
              "      <td>0x56c8e8d888182235:0x9911f9efad4bdb3e</td>\n",
              "      <td>15</td>\n",
              "    </tr>\n",
              "    <tr>\n",
              "      <th>17</th>\n",
              "      <td>1.1411446301246828e+20</td>\n",
              "      <td>Josh King</td>\n",
              "      <td>1604610684340</td>\n",
              "      <td>5</td>\n",
              "      <td>The staff is very friendly, also have a great ...</td>\n",
              "      <td>None</td>\n",
              "      <td>\"{'time': 1604702936096, 'text': \"\"Hi Josh</td>\n",
              "      <td>\\nThank you for posting such a wonderful revie...</td>\n",
              "      <td>21</td>\n",
              "    </tr>\n",
              "    <tr>\n",
              "      <th>18</th>\n",
              "      <td>1.0910157164438086e+20</td>\n",
              "      <td>Sunrise Girl</td>\n",
              "      <td>1611373916067</td>\n",
              "      <td>5</td>\n",
              "      <td>A great place with great people :) they have a...</td>\n",
              "      <td>None</td>\n",
              "      <td>None</td>\n",
              "      <td>0x5400e1fcbe92efc7:0x24163e0b998d17cd</td>\n",
              "      <td>3</td>\n",
              "    </tr>\n",
              "    <tr>\n",
              "      <th>19</th>\n",
              "      <td>1.0089772662768882e+20</td>\n",
              "      <td>Philip Unsworth</td>\n",
              "      <td>1599229114437</td>\n",
              "      <td>5</td>\n",
              "      <td>Pleasant surprise. We were coming back from so...</td>\n",
              "      <td>None</td>\n",
              "      <td>{'time': 1599774486412, 'text': 'Thank you Phi...</td>\n",
              "      <td>0x51324523386efea3:0x4a3e71921b302335</td>\n",
              "      <td>14</td>\n",
              "    </tr>\n",
              "  </tbody>\n",
              "</table>\n",
              "</div>\n",
              "    <div class=\"colab-df-buttons\">\n",
              "\n",
              "  <div class=\"colab-df-container\">\n",
              "    <button class=\"colab-df-convert\" onclick=\"convertToInteractive('df-dc860274-f001-4a13-a4ce-ee8aa595edb8')\"\n",
              "            title=\"Convert this dataframe to an interactive table.\"\n",
              "            style=\"display:none;\">\n",
              "\n",
              "  <svg xmlns=\"http://www.w3.org/2000/svg\" height=\"24px\" viewBox=\"0 -960 960 960\">\n",
              "    <path d=\"M120-120v-720h720v720H120Zm60-500h600v-160H180v160Zm220 220h160v-160H400v160Zm0 220h160v-160H400v160ZM180-400h160v-160H180v160Zm440 0h160v-160H620v160ZM180-180h160v-160H180v160Zm440 0h160v-160H620v160Z\"/>\n",
              "  </svg>\n",
              "    </button>\n",
              "\n",
              "  <style>\n",
              "    .colab-df-container {\n",
              "      display:flex;\n",
              "      gap: 12px;\n",
              "    }\n",
              "\n",
              "    .colab-df-convert {\n",
              "      background-color: #E8F0FE;\n",
              "      border: none;\n",
              "      border-radius: 50%;\n",
              "      cursor: pointer;\n",
              "      display: none;\n",
              "      fill: #1967D2;\n",
              "      height: 32px;\n",
              "      padding: 0 0 0 0;\n",
              "      width: 32px;\n",
              "    }\n",
              "\n",
              "    .colab-df-convert:hover {\n",
              "      background-color: #E2EBFA;\n",
              "      box-shadow: 0px 1px 2px rgba(60, 64, 67, 0.3), 0px 1px 3px 1px rgba(60, 64, 67, 0.15);\n",
              "      fill: #174EA6;\n",
              "    }\n",
              "\n",
              "    .colab-df-buttons div {\n",
              "      margin-bottom: 4px;\n",
              "    }\n",
              "\n",
              "    [theme=dark] .colab-df-convert {\n",
              "      background-color: #3B4455;\n",
              "      fill: #D2E3FC;\n",
              "    }\n",
              "\n",
              "    [theme=dark] .colab-df-convert:hover {\n",
              "      background-color: #434B5C;\n",
              "      box-shadow: 0px 1px 3px 1px rgba(0, 0, 0, 0.15);\n",
              "      filter: drop-shadow(0px 1px 2px rgba(0, 0, 0, 0.3));\n",
              "      fill: #FFFFFF;\n",
              "    }\n",
              "  </style>\n",
              "\n",
              "    <script>\n",
              "      const buttonEl =\n",
              "        document.querySelector('#df-dc860274-f001-4a13-a4ce-ee8aa595edb8 button.colab-df-convert');\n",
              "      buttonEl.style.display =\n",
              "        google.colab.kernel.accessAllowed ? 'block' : 'none';\n",
              "\n",
              "      async function convertToInteractive(key) {\n",
              "        const element = document.querySelector('#df-dc860274-f001-4a13-a4ce-ee8aa595edb8');\n",
              "        const dataTable =\n",
              "          await google.colab.kernel.invokeFunction('convertToInteractive',\n",
              "                                                    [key], {});\n",
              "        if (!dataTable) return;\n",
              "\n",
              "        const docLinkHtml = 'Like what you see? Visit the ' +\n",
              "          '<a target=\"_blank\" href=https://colab.research.google.com/notebooks/data_table.ipynb>data table notebook</a>'\n",
              "          + ' to learn more about interactive tables.';\n",
              "        element.innerHTML = '';\n",
              "        dataTable['output_type'] = 'display_data';\n",
              "        await google.colab.output.renderOutput(dataTable, element);\n",
              "        const docLink = document.createElement('div');\n",
              "        docLink.innerHTML = docLinkHtml;\n",
              "        element.appendChild(docLink);\n",
              "      }\n",
              "    </script>\n",
              "  </div>\n",
              "\n",
              "\n",
              "    <div id=\"df-63c397d4-3954-471d-b4ba-ba047cec13db\">\n",
              "      <button class=\"colab-df-quickchart\" onclick=\"quickchart('df-63c397d4-3954-471d-b4ba-ba047cec13db')\"\n",
              "                title=\"Suggest charts\"\n",
              "                style=\"display:none;\">\n",
              "\n",
              "<svg xmlns=\"http://www.w3.org/2000/svg\" height=\"24px\"viewBox=\"0 0 24 24\"\n",
              "     width=\"24px\">\n",
              "    <g>\n",
              "        <path d=\"M19 3H5c-1.1 0-2 .9-2 2v14c0 1.1.9 2 2 2h14c1.1 0 2-.9 2-2V5c0-1.1-.9-2-2-2zM9 17H7v-7h2v7zm4 0h-2V7h2v10zm4 0h-2v-4h2v4z\"/>\n",
              "    </g>\n",
              "</svg>\n",
              "      </button>\n",
              "\n",
              "<style>\n",
              "  .colab-df-quickchart {\n",
              "      --bg-color: #E8F0FE;\n",
              "      --fill-color: #1967D2;\n",
              "      --hover-bg-color: #E2EBFA;\n",
              "      --hover-fill-color: #174EA6;\n",
              "      --disabled-fill-color: #AAA;\n",
              "      --disabled-bg-color: #DDD;\n",
              "  }\n",
              "\n",
              "  [theme=dark] .colab-df-quickchart {\n",
              "      --bg-color: #3B4455;\n",
              "      --fill-color: #D2E3FC;\n",
              "      --hover-bg-color: #434B5C;\n",
              "      --hover-fill-color: #FFFFFF;\n",
              "      --disabled-bg-color: #3B4455;\n",
              "      --disabled-fill-color: #666;\n",
              "  }\n",
              "\n",
              "  .colab-df-quickchart {\n",
              "    background-color: var(--bg-color);\n",
              "    border: none;\n",
              "    border-radius: 50%;\n",
              "    cursor: pointer;\n",
              "    display: none;\n",
              "    fill: var(--fill-color);\n",
              "    height: 32px;\n",
              "    padding: 0;\n",
              "    width: 32px;\n",
              "  }\n",
              "\n",
              "  .colab-df-quickchart:hover {\n",
              "    background-color: var(--hover-bg-color);\n",
              "    box-shadow: 0 1px 2px rgba(60, 64, 67, 0.3), 0 1px 3px 1px rgba(60, 64, 67, 0.15);\n",
              "    fill: var(--button-hover-fill-color);\n",
              "  }\n",
              "\n",
              "  .colab-df-quickchart-complete:disabled,\n",
              "  .colab-df-quickchart-complete:disabled:hover {\n",
              "    background-color: var(--disabled-bg-color);\n",
              "    fill: var(--disabled-fill-color);\n",
              "    box-shadow: none;\n",
              "  }\n",
              "\n",
              "  .colab-df-spinner {\n",
              "    border: 2px solid var(--fill-color);\n",
              "    border-color: transparent;\n",
              "    border-bottom-color: var(--fill-color);\n",
              "    animation:\n",
              "      spin 1s steps(1) infinite;\n",
              "  }\n",
              "\n",
              "  @keyframes spin {\n",
              "    0% {\n",
              "      border-color: transparent;\n",
              "      border-bottom-color: var(--fill-color);\n",
              "      border-left-color: var(--fill-color);\n",
              "    }\n",
              "    20% {\n",
              "      border-color: transparent;\n",
              "      border-left-color: var(--fill-color);\n",
              "      border-top-color: var(--fill-color);\n",
              "    }\n",
              "    30% {\n",
              "      border-color: transparent;\n",
              "      border-left-color: var(--fill-color);\n",
              "      border-top-color: var(--fill-color);\n",
              "      border-right-color: var(--fill-color);\n",
              "    }\n",
              "    40% {\n",
              "      border-color: transparent;\n",
              "      border-right-color: var(--fill-color);\n",
              "      border-top-color: var(--fill-color);\n",
              "    }\n",
              "    60% {\n",
              "      border-color: transparent;\n",
              "      border-right-color: var(--fill-color);\n",
              "    }\n",
              "    80% {\n",
              "      border-color: transparent;\n",
              "      border-right-color: var(--fill-color);\n",
              "      border-bottom-color: var(--fill-color);\n",
              "    }\n",
              "    90% {\n",
              "      border-color: transparent;\n",
              "      border-bottom-color: var(--fill-color);\n",
              "    }\n",
              "  }\n",
              "</style>\n",
              "\n",
              "      <script>\n",
              "        async function quickchart(key) {\n",
              "          const quickchartButtonEl =\n",
              "            document.querySelector('#' + key + ' button');\n",
              "          quickchartButtonEl.disabled = true;  // To prevent multiple clicks.\n",
              "          quickchartButtonEl.classList.add('colab-df-spinner');\n",
              "          try {\n",
              "            const charts = await google.colab.kernel.invokeFunction(\n",
              "                'suggestCharts', [key], {});\n",
              "          } catch (error) {\n",
              "            console.error('Error during call to suggestCharts:', error);\n",
              "          }\n",
              "          quickchartButtonEl.classList.remove('colab-df-spinner');\n",
              "          quickchartButtonEl.classList.add('colab-df-quickchart-complete');\n",
              "        }\n",
              "        (() => {\n",
              "          let quickchartButtonEl =\n",
              "            document.querySelector('#df-63c397d4-3954-471d-b4ba-ba047cec13db button');\n",
              "          quickchartButtonEl.style.display =\n",
              "            google.colab.kernel.accessAllowed ? 'block' : 'none';\n",
              "        })();\n",
              "      </script>\n",
              "    </div>\n",
              "\n",
              "    </div>\n",
              "  </div>\n"
            ],
            "application/vnd.google.colaboratory.intrinsic+json": {
              "type": "dataframe",
              "variable_name": "df"
            }
          },
          "metadata": {},
          "execution_count": 30
        }
      ]
    },
    {
      "cell_type": "code",
      "source": [
        "invalid_rows = df[df[\"review_time\"].isna()]\n",
        "print(invalid_rows[[\"time\", \"review_time\"]])"
      ],
      "metadata": {
        "colab": {
          "base_uri": "https://localhost:8080/"
        },
        "id": "kEo54d9Mw97d",
        "outputId": "e3096f61-fd3e-4431-e33f-eea1703441b8"
      },
      "execution_count": 31,
      "outputs": [
        {
          "output_type": "stream",
          "name": "stdout",
          "text": [
            "        time  review_time\n",
            "5       None         <NA>\n",
            "22      None         <NA>\n",
            "46      None         <NA>\n",
            "49      None         <NA>\n",
            "63      None         <NA>\n",
            "...      ...          ...\n",
            "552562  None         <NA>\n",
            "552580  None         <NA>\n",
            "552598  None         <NA>\n",
            "552605  None         <NA>\n",
            "552623  None         <NA>\n",
            "\n",
            "[29897 rows x 2 columns]\n"
          ]
        }
      ]
    },
    {
      "cell_type": "code",
      "source": [
        "def contains_timestamp(val):\n",
        "    if isinstance(val, str):\n",
        "        match = re.search(r\"\\b\\d{13}\\b\", val)\n",
        "        return bool(match)\n",
        "    return False"
      ],
      "metadata": {
        "id": "wJ0ZMhAa7ifr"
      },
      "execution_count": 32,
      "outputs": []
    },
    {
      "cell_type": "code",
      "source": [
        "print(invalid_rows[~invalid_rows[\"time\"].isna()][\"time\"])\n",
        "print()\n",
        "\n",
        "mask = invalid_rows[\"time\"].notnull() & invalid_rows[\"time\"].apply(contains_timestamp)\n",
        "shortlist = invalid_rows[mask]\n",
        "\n",
        "print(shortlist[[\"time\"]]) # emptiness means no more entries with extractable 13-digit timestamps"
      ],
      "metadata": {
        "colab": {
          "base_uri": "https://localhost:8080/"
        },
        "id": "qO89J6371MIK",
        "outputId": "e7c9cf9e-9a26-47a9-afc4-71cd976eb6ef"
      },
      "execution_count": 33,
      "outputs": [
        {
          "output_type": "stream",
          "name": "stdout",
          "text": [
            "225        super soggy bread and the cheese choice was b...\n",
            "276        could probably spend at least a week eating h...\n",
            "518        asking me to move it to 5. I rearranged my sc...\n",
            "837        expecting a call but nothing. I called back a...\n",
            "924        I took her for a spin and it drove like a new...\n",
            "                                ...                        \n",
            "551665     because they have a Specials menu that is...w...\n",
            "551771                                     Xander and Tina.\n",
            "551842                there is no way not to give 5 stars.\"\n",
            "552280                                  good house fries...\n",
            "552521     and everything was small to accommodate all c...\n",
            "Name: time, Length: 5082, dtype: object\n",
            "\n",
            "Empty DataFrame\n",
            "Columns: [time]\n",
            "Index: []\n"
          ]
        }
      ]
    },
    {
      "cell_type": "code",
      "source": [
        "df[[\"time\", \"review_time\"]].head(10)"
      ],
      "metadata": {
        "colab": {
          "base_uri": "https://localhost:8080/",
          "height": 363
        },
        "id": "XOCOAHtNCfkY",
        "outputId": "08eb2076-4806-4f67-fb2a-4e6c54ae0b12"
      },
      "execution_count": 34,
      "outputs": [
        {
          "output_type": "execute_result",
          "data": {
            "text/plain": [
              "                                                time  review_time\n",
              "0                                      1525676908252            7\n",
              "1                                      1368006776281            9\n",
              "2                                      1569090797829           18\n",
              "3                                      1597542582178            1\n",
              "4                                      1598037847651           19\n",
              "5                                               None         <NA>\n",
              "6                                      1549419589149            2\n",
              "7  \"{'time': 1598807097467, 'text': \"\"We all appr...           17\n",
              "8                                      1495309866441           19\n",
              "9                                      1562915528083            7"
            ],
            "text/html": [
              "\n",
              "  <div id=\"df-5fc29246-09e2-4132-82bf-b5136578f5d6\" class=\"colab-df-container\">\n",
              "    <div>\n",
              "<style scoped>\n",
              "    .dataframe tbody tr th:only-of-type {\n",
              "        vertical-align: middle;\n",
              "    }\n",
              "\n",
              "    .dataframe tbody tr th {\n",
              "        vertical-align: top;\n",
              "    }\n",
              "\n",
              "    .dataframe thead th {\n",
              "        text-align: right;\n",
              "    }\n",
              "</style>\n",
              "<table border=\"1\" class=\"dataframe\">\n",
              "  <thead>\n",
              "    <tr style=\"text-align: right;\">\n",
              "      <th></th>\n",
              "      <th>time</th>\n",
              "      <th>review_time</th>\n",
              "    </tr>\n",
              "  </thead>\n",
              "  <tbody>\n",
              "    <tr>\n",
              "      <th>0</th>\n",
              "      <td>1525676908252</td>\n",
              "      <td>7</td>\n",
              "    </tr>\n",
              "    <tr>\n",
              "      <th>1</th>\n",
              "      <td>1368006776281</td>\n",
              "      <td>9</td>\n",
              "    </tr>\n",
              "    <tr>\n",
              "      <th>2</th>\n",
              "      <td>1569090797829</td>\n",
              "      <td>18</td>\n",
              "    </tr>\n",
              "    <tr>\n",
              "      <th>3</th>\n",
              "      <td>1597542582178</td>\n",
              "      <td>1</td>\n",
              "    </tr>\n",
              "    <tr>\n",
              "      <th>4</th>\n",
              "      <td>1598037847651</td>\n",
              "      <td>19</td>\n",
              "    </tr>\n",
              "    <tr>\n",
              "      <th>5</th>\n",
              "      <td>None</td>\n",
              "      <td>&lt;NA&gt;</td>\n",
              "    </tr>\n",
              "    <tr>\n",
              "      <th>6</th>\n",
              "      <td>1549419589149</td>\n",
              "      <td>2</td>\n",
              "    </tr>\n",
              "    <tr>\n",
              "      <th>7</th>\n",
              "      <td>\"{'time': 1598807097467, 'text': \"\"We all appr...</td>\n",
              "      <td>17</td>\n",
              "    </tr>\n",
              "    <tr>\n",
              "      <th>8</th>\n",
              "      <td>1495309866441</td>\n",
              "      <td>19</td>\n",
              "    </tr>\n",
              "    <tr>\n",
              "      <th>9</th>\n",
              "      <td>1562915528083</td>\n",
              "      <td>7</td>\n",
              "    </tr>\n",
              "  </tbody>\n",
              "</table>\n",
              "</div>\n",
              "    <div class=\"colab-df-buttons\">\n",
              "\n",
              "  <div class=\"colab-df-container\">\n",
              "    <button class=\"colab-df-convert\" onclick=\"convertToInteractive('df-5fc29246-09e2-4132-82bf-b5136578f5d6')\"\n",
              "            title=\"Convert this dataframe to an interactive table.\"\n",
              "            style=\"display:none;\">\n",
              "\n",
              "  <svg xmlns=\"http://www.w3.org/2000/svg\" height=\"24px\" viewBox=\"0 -960 960 960\">\n",
              "    <path d=\"M120-120v-720h720v720H120Zm60-500h600v-160H180v160Zm220 220h160v-160H400v160Zm0 220h160v-160H400v160ZM180-400h160v-160H180v160Zm440 0h160v-160H620v160ZM180-180h160v-160H180v160Zm440 0h160v-160H620v160Z\"/>\n",
              "  </svg>\n",
              "    </button>\n",
              "\n",
              "  <style>\n",
              "    .colab-df-container {\n",
              "      display:flex;\n",
              "      gap: 12px;\n",
              "    }\n",
              "\n",
              "    .colab-df-convert {\n",
              "      background-color: #E8F0FE;\n",
              "      border: none;\n",
              "      border-radius: 50%;\n",
              "      cursor: pointer;\n",
              "      display: none;\n",
              "      fill: #1967D2;\n",
              "      height: 32px;\n",
              "      padding: 0 0 0 0;\n",
              "      width: 32px;\n",
              "    }\n",
              "\n",
              "    .colab-df-convert:hover {\n",
              "      background-color: #E2EBFA;\n",
              "      box-shadow: 0px 1px 2px rgba(60, 64, 67, 0.3), 0px 1px 3px 1px rgba(60, 64, 67, 0.15);\n",
              "      fill: #174EA6;\n",
              "    }\n",
              "\n",
              "    .colab-df-buttons div {\n",
              "      margin-bottom: 4px;\n",
              "    }\n",
              "\n",
              "    [theme=dark] .colab-df-convert {\n",
              "      background-color: #3B4455;\n",
              "      fill: #D2E3FC;\n",
              "    }\n",
              "\n",
              "    [theme=dark] .colab-df-convert:hover {\n",
              "      background-color: #434B5C;\n",
              "      box-shadow: 0px 1px 3px 1px rgba(0, 0, 0, 0.15);\n",
              "      filter: drop-shadow(0px 1px 2px rgba(0, 0, 0, 0.3));\n",
              "      fill: #FFFFFF;\n",
              "    }\n",
              "  </style>\n",
              "\n",
              "    <script>\n",
              "      const buttonEl =\n",
              "        document.querySelector('#df-5fc29246-09e2-4132-82bf-b5136578f5d6 button.colab-df-convert');\n",
              "      buttonEl.style.display =\n",
              "        google.colab.kernel.accessAllowed ? 'block' : 'none';\n",
              "\n",
              "      async function convertToInteractive(key) {\n",
              "        const element = document.querySelector('#df-5fc29246-09e2-4132-82bf-b5136578f5d6');\n",
              "        const dataTable =\n",
              "          await google.colab.kernel.invokeFunction('convertToInteractive',\n",
              "                                                    [key], {});\n",
              "        if (!dataTable) return;\n",
              "\n",
              "        const docLinkHtml = 'Like what you see? Visit the ' +\n",
              "          '<a target=\"_blank\" href=https://colab.research.google.com/notebooks/data_table.ipynb>data table notebook</a>'\n",
              "          + ' to learn more about interactive tables.';\n",
              "        element.innerHTML = '';\n",
              "        dataTable['output_type'] = 'display_data';\n",
              "        await google.colab.output.renderOutput(dataTable, element);\n",
              "        const docLink = document.createElement('div');\n",
              "        docLink.innerHTML = docLinkHtml;\n",
              "        element.appendChild(docLink);\n",
              "      }\n",
              "    </script>\n",
              "  </div>\n",
              "\n",
              "\n",
              "    <div id=\"df-6c7c66da-c7bd-4baf-b29f-27c8dee0c2df\">\n",
              "      <button class=\"colab-df-quickchart\" onclick=\"quickchart('df-6c7c66da-c7bd-4baf-b29f-27c8dee0c2df')\"\n",
              "                title=\"Suggest charts\"\n",
              "                style=\"display:none;\">\n",
              "\n",
              "<svg xmlns=\"http://www.w3.org/2000/svg\" height=\"24px\"viewBox=\"0 0 24 24\"\n",
              "     width=\"24px\">\n",
              "    <g>\n",
              "        <path d=\"M19 3H5c-1.1 0-2 .9-2 2v14c0 1.1.9 2 2 2h14c1.1 0 2-.9 2-2V5c0-1.1-.9-2-2-2zM9 17H7v-7h2v7zm4 0h-2V7h2v10zm4 0h-2v-4h2v4z\"/>\n",
              "    </g>\n",
              "</svg>\n",
              "      </button>\n",
              "\n",
              "<style>\n",
              "  .colab-df-quickchart {\n",
              "      --bg-color: #E8F0FE;\n",
              "      --fill-color: #1967D2;\n",
              "      --hover-bg-color: #E2EBFA;\n",
              "      --hover-fill-color: #174EA6;\n",
              "      --disabled-fill-color: #AAA;\n",
              "      --disabled-bg-color: #DDD;\n",
              "  }\n",
              "\n",
              "  [theme=dark] .colab-df-quickchart {\n",
              "      --bg-color: #3B4455;\n",
              "      --fill-color: #D2E3FC;\n",
              "      --hover-bg-color: #434B5C;\n",
              "      --hover-fill-color: #FFFFFF;\n",
              "      --disabled-bg-color: #3B4455;\n",
              "      --disabled-fill-color: #666;\n",
              "  }\n",
              "\n",
              "  .colab-df-quickchart {\n",
              "    background-color: var(--bg-color);\n",
              "    border: none;\n",
              "    border-radius: 50%;\n",
              "    cursor: pointer;\n",
              "    display: none;\n",
              "    fill: var(--fill-color);\n",
              "    height: 32px;\n",
              "    padding: 0;\n",
              "    width: 32px;\n",
              "  }\n",
              "\n",
              "  .colab-df-quickchart:hover {\n",
              "    background-color: var(--hover-bg-color);\n",
              "    box-shadow: 0 1px 2px rgba(60, 64, 67, 0.3), 0 1px 3px 1px rgba(60, 64, 67, 0.15);\n",
              "    fill: var(--button-hover-fill-color);\n",
              "  }\n",
              "\n",
              "  .colab-df-quickchart-complete:disabled,\n",
              "  .colab-df-quickchart-complete:disabled:hover {\n",
              "    background-color: var(--disabled-bg-color);\n",
              "    fill: var(--disabled-fill-color);\n",
              "    box-shadow: none;\n",
              "  }\n",
              "\n",
              "  .colab-df-spinner {\n",
              "    border: 2px solid var(--fill-color);\n",
              "    border-color: transparent;\n",
              "    border-bottom-color: var(--fill-color);\n",
              "    animation:\n",
              "      spin 1s steps(1) infinite;\n",
              "  }\n",
              "\n",
              "  @keyframes spin {\n",
              "    0% {\n",
              "      border-color: transparent;\n",
              "      border-bottom-color: var(--fill-color);\n",
              "      border-left-color: var(--fill-color);\n",
              "    }\n",
              "    20% {\n",
              "      border-color: transparent;\n",
              "      border-left-color: var(--fill-color);\n",
              "      border-top-color: var(--fill-color);\n",
              "    }\n",
              "    30% {\n",
              "      border-color: transparent;\n",
              "      border-left-color: var(--fill-color);\n",
              "      border-top-color: var(--fill-color);\n",
              "      border-right-color: var(--fill-color);\n",
              "    }\n",
              "    40% {\n",
              "      border-color: transparent;\n",
              "      border-right-color: var(--fill-color);\n",
              "      border-top-color: var(--fill-color);\n",
              "    }\n",
              "    60% {\n",
              "      border-color: transparent;\n",
              "      border-right-color: var(--fill-color);\n",
              "    }\n",
              "    80% {\n",
              "      border-color: transparent;\n",
              "      border-right-color: var(--fill-color);\n",
              "      border-bottom-color: var(--fill-color);\n",
              "    }\n",
              "    90% {\n",
              "      border-color: transparent;\n",
              "      border-bottom-color: var(--fill-color);\n",
              "    }\n",
              "  }\n",
              "</style>\n",
              "\n",
              "      <script>\n",
              "        async function quickchart(key) {\n",
              "          const quickchartButtonEl =\n",
              "            document.querySelector('#' + key + ' button');\n",
              "          quickchartButtonEl.disabled = true;  // To prevent multiple clicks.\n",
              "          quickchartButtonEl.classList.add('colab-df-spinner');\n",
              "          try {\n",
              "            const charts = await google.colab.kernel.invokeFunction(\n",
              "                'suggestCharts', [key], {});\n",
              "          } catch (error) {\n",
              "            console.error('Error during call to suggestCharts:', error);\n",
              "          }\n",
              "          quickchartButtonEl.classList.remove('colab-df-spinner');\n",
              "          quickchartButtonEl.classList.add('colab-df-quickchart-complete');\n",
              "        }\n",
              "        (() => {\n",
              "          let quickchartButtonEl =\n",
              "            document.querySelector('#df-6c7c66da-c7bd-4baf-b29f-27c8dee0c2df button');\n",
              "          quickchartButtonEl.style.display =\n",
              "            google.colab.kernel.accessAllowed ? 'block' : 'none';\n",
              "        })();\n",
              "      </script>\n",
              "    </div>\n",
              "\n",
              "    </div>\n",
              "  </div>\n"
            ],
            "application/vnd.google.colaboratory.intrinsic+json": {
              "type": "dataframe",
              "summary": "{\n  \"name\": \"df[[\\\"time\\\", \\\"review_time\\\"]]\",\n  \"rows\": 10,\n  \"fields\": [\n    {\n      \"column\": \"time\",\n      \"properties\": {\n        \"dtype\": \"string\",\n        \"num_unique_values\": 9,\n        \"samples\": [\n          \"1495309866441\",\n          \"1368006776281\",\n          \"1549419589149\"\n        ],\n        \"semantic_type\": \"\",\n        \"description\": \"\"\n      }\n    },\n    {\n      \"column\": \"review_time\",\n      \"properties\": {\n        \"dtype\": \"Int64\",\n        \"num_unique_values\": 7,\n        \"samples\": [\n          7,\n          9,\n          2\n        ],\n        \"semantic_type\": \"\",\n        \"description\": \"\"\n      }\n    }\n  ]\n}"
            }
          },
          "metadata": {},
          "execution_count": 34
        }
      ]
    },
    {
      "cell_type": "markdown",
      "source": [
        "### Q1.2.3 Relationship between `gmap_id` and `review_time` [both discrete]\n",
        "* which time people usually review?\n",
        "* which time do they review the less amount?\n",
        "* How many business is reviewed in the morning? [6<= x <12 ; 06:00-11:59]"
      ],
      "metadata": {
        "id": "c5xZXiWryEIM"
      }
    },
    {
      "cell_type": "code",
      "source": [
        "sns.set_style(\"whitegrid\")"
      ],
      "metadata": {
        "id": "mN48oEYTEUkL"
      },
      "execution_count": 35,
      "outputs": []
    },
    {
      "cell_type": "code",
      "source": [
        "# Visualization 1: Histogram of review_time to see usual review times\n",
        "plt.figure(figsize=(10, 6))\n",
        "sns.histplot(data=df, x='review_time', bins=24, kde=True, color='skyblue')\n",
        "plt.xlabel('Review Time (Hour of Day)')\n",
        "plt.ylabel('Number of Reviews')\n",
        "plt.title('Distribution of Review Times: When Do People Usually Review?')\n",
        "plt.xticks(range(0, 24, 2))\n",
        "plt.show()"
      ],
      "metadata": {
        "id": "STZWczY2C1Cs",
        "outputId": "4d692774-27bf-4c91-bdd6-d8c2e93ec89a",
        "colab": {
          "base_uri": "https://localhost:8080/",
          "height": 564
        }
      },
      "execution_count": 36,
      "outputs": [
        {
          "output_type": "display_data",
          "data": {
            "text/plain": [
              "<Figure size 1000x600 with 1 Axes>"
            ],
            "image/png": "[encoded data removed]"
          },
          "metadata": {}
        }
      ]
    },
    {
      "cell_type": "code",
      "source": [
        "# Visualization 2: Bar plot of unique businesses reviewed per hour bin (morning: 6-12, afternoon: 12-18, evening: 18-24, night: 0-6)\n",
        "# Create hour bins for categorization\n",
        "def get_time_bin(hour):\n",
        "    if 6 <= hour < 12:\n",
        "        return 'Morning'\n",
        "    elif 12 <= hour < 18:\n",
        "        return 'Afternoon'\n",
        "    elif 18 <= hour < 24:\n",
        "        return 'Evening'\n",
        "    else:\n",
        "        return 'Night'\n",
        "\n",
        "df['time_bin'] = df['review_time'].apply(get_time_bin)\n",
        "\n",
        "# Count unique gmap_id per time bin\n",
        "business_per_bin = df.groupby('time_bin')['gmap_id'].nunique().reset_index()\n",
        "business_per_bin.columns = ['Time Bin', 'Unique Businesses Reviewed']\n",
        "\n",
        "time_order = ['Morning', 'Afternoon', 'Evening', 'Night']\n",
        "custom_palette = {\n",
        "    'Morning': '#FFD580',    # Soft sunrise gold\n",
        "    'Afternoon': '#87CEFA',  # Bright sky blue\n",
        "    'Evening': '#FF8C00',    # Deep orange glow\n",
        "    'Night': '#2C3E50'       # Midnight navy\n",
        "}\n",
        "\n",
        "plt.figure(figsize=(10, 6))\n",
        "sns.barplot(\n",
        "    data=business_per_bin,\n",
        "    x='Time Bin', y='Unique Businesses Reviewed',\n",
        "    hue='Time Bin', palette=custom_palette, legend=False,\n",
        "    order=time_order)\n",
        "plt.xlabel('Time of Day')\n",
        "plt.ylabel('Number of Unique Businesses Reviewed')\n",
        "plt.title('Number of Businesses Reviewed by Time of Day')\n",
        "plt.show()"
      ],
      "metadata": {
        "id": "Sa9Jkr0GEZ9-",
        "outputId": "7142e64f-5bd5-433b-d112-39f623ed0ab6",
        "colab": {
          "base_uri": "https://localhost:8080/",
          "height": 564
        }
      },
      "execution_count": 37,
      "outputs": [
        {
          "output_type": "display_data",
          "data": {
            "text/plain": [
              "<Figure size 1000x600 with 1 Axes>"
            ],
            "image/png": "[encoded data removed]"
          },
          "metadata": {}
        }
      ]
    },
    {
      "cell_type": "code",
      "source": [
        "# Visualization 3: Corrected Heatmap of review counts by gmap_id and review_time\n",
        "top_gmap = df['gmap_id'].value_counts().head(10).index\n",
        "df_top = df[df['gmap_id'].isin(top_gmap)]\n",
        "\n",
        "# Pivot table to count occurrences of rows for each gmap_id and review_time combination\n",
        "pivot_table = df_top.pivot_table(index='gmap_id', columns='review_time', aggfunc='size', fill_value=0)\n",
        "plt.figure(figsize=(12, 8))\n",
        "sns.heatmap(pivot_table, annot=True, cmap='YlOrRd', fmt='d')\n",
        "plt.xlabel('Review Time (Hour)')\n",
        "plt.ylabel('gmap_id (Top 10)')\n",
        "plt.title('Heatmap: Review Counts by Top Businesses and Hour')\n",
        "plt.show()"
      ],
      "metadata": {
        "id": "hjNMU4VjEkOq",
        "outputId": "5d97f1a5-7a2f-4e26-fe07-6a2cd23b19d8",
        "colab": {
          "base_uri": "https://localhost:8080/",
          "height": 571
        }
      },
      "execution_count": 38,
      "outputs": [
        {
          "output_type": "display_data",
          "data": {
            "text/plain": [
              "<Figure size 1200x800 with 2 Axes>"
            ],
            "image/png": "[encoded data removed]"
          },
          "metadata": {}
        }
      ]
    },
    {
      "cell_type": "markdown",
      "source": [
        "## Q1.3 join `meta-business` with the current df on `gmap_id`"
      ],
      "metadata": {
        "id": "zfrHknZqyEGI"
      }
    },
    {
      "cell_type": "markdown",
      "source": [
        "### Q1.3.1 Find the `workday` with most reviews"
      ],
      "metadata": {
        "id": "B-jy-0wxyECO"
      }
    },
    {
      "cell_type": "markdown",
      "source": [
        "### Q1.3.2 Category of business name with most review in that day\n",
        "* in that day which business (the business `name`) has the highest avg rating [max(avg(most_review_day))]\n",
        "* Find the `category` of the business `name`"
      ],
      "metadata": {
        "id": "mhDYgXzIyEAW"
      }
    },
    {
      "cell_type": "markdown",
      "source": [
        "### Q1.3.3 Exploration on business `name`\n",
        "* peak hour of that catefory\n",
        "* Plot historam"
      ],
      "metadata": {
        "id": "PmQQhn7cyDwM"
      }
    },
    {
      "cell_type": "code",
      "source": [],
      "metadata": {
        "id": "EcZUaCknyDPn"
      },
      "execution_count": 38,
      "outputs": []
    },
    {
      "cell_type": "markdown",
      "source": [
        "[write about the insight]"
      ],
      "metadata": {
        "id": "K0YfikTn3ZxP"
      }
    },
    {
      "cell_type": "markdown",
      "source": [
        "## Q1.4 Top 30 words by year\n",
        "* For the reviews on each of the submissions, work on all the review content and find out the `top 30`\n",
        "most common words;\n",
        "* Also generate separate `word cloud` visualizations for `different years`( by grouping\n",
        "the reviews by review year )\n",
        "* write down the insights in the markdown cell."
      ],
      "metadata": {
        "id": "OQmoTpwD3jxe"
      }
    },
    {
      "cell_type": "code",
      "source": [
        "from pyspark.sql import functions as F\n",
        "from pyspark.sql.types import TimestampType\n",
        "from datetime import datetime"
      ],
      "metadata": {
        "id": "CL7J1uB0tZHE"
      },
      "execution_count": null,
      "outputs": []
    },
    {
      "cell_type": "code",
      "source": [
        "# Wrap part of codes in Q1.2.2 as a function for time in extracted as datetime\n",
        "\n",
        "# Defining a regular function in Python as usual\n",
        "def parse_time_to_datetime(val):\n",
        "    \"\"\"\n",
        "    Parses various time formats into Python datetime.\n",
        "    Returns None if parsing fails.\n",
        "    \"\"\"\n",
        "    try:\n",
        "        if val is None:\n",
        "            return None\n",
        "\n",
        "        # Numeric timestamp (int/float)\n",
        "        if isinstance(val, (int, float)):\n",
        "            return datetime.fromtimestamp(int(val) / 1000.0)\n",
        "\n",
        "        # Dict-like string containing \"time\": 13-digit\n",
        "        val_str = str(val).strip()\n",
        "        match = re.search(r'[\"\\']?time[\"\\']?\\s*:\\s*(\\d{13})', val_str)\n",
        "        if match:\n",
        "            return datetime.fromtimestamp(int(match.group(1)) / 1000.0)\n",
        "\n",
        "        # Pure 13-digit string\n",
        "        if re.fullmatch(r\"\\d{13}\", val_str):\n",
        "            return datetime.fromtimestamp(int(val_str) / 1000.0)\n",
        "\n",
        "    except Exception:\n",
        "        return None\n",
        "    return None\n",
        "\n",
        "# Customising function for distributed computation by Spark\n",
        "parse_time_udf = F.udf(parse_time_to_datetime, TimestampType()) # telling the return type\n",
        "\n",
        "def extract_review_datetime_spark(spark_df, time_col=\"time\", output_col=\"review_datetime\"):\n",
        "    \"\"\"\n",
        "    Adds a column with parsed datetime from a timestamp-like column in a Spark DataFrame.\n",
        "    \"\"\"\n",
        "    return spark_df.withColumn(output_col, parse_time_udf(F.col(time_col)))"
      ],
      "metadata": {
        "id": "67B2IqrtHmlp"
      },
      "execution_count": 93,
      "outputs": []
    },
    {
      "cell_type": "code",
      "source": [
        "review_sdf_with_datetime = extract_review_datetime_spark(\n",
        "    review_sdf,\n",
        "    time_col=\"time\",\n",
        "    output_col=\"review_datetime\"\n",
        ")\n",
        "\n",
        "review_sdf_with_datetime.select(\"time\", \"review_datetime\").show(10, truncate=False)"
      ],
      "metadata": {
        "colab": {
          "base_uri": "https://localhost:8080/"
        },
        "id": "jTz13zVluXB1",
        "outputId": "40cd5fd2-888d-4d28-a040-2011649f04ff"
      },
      "execution_count": 94,
      "outputs": [
        {
          "output_type": "stream",
          "name": "stdout",
          "text": [
            "+-------------+-----------------------+\n",
            "|time         |review_datetime        |\n",
            "+-------------+-----------------------+\n",
            "|1520663824616|2018-03-10 06:37:04.616|\n",
            "|1343946019370|2012-08-02 22:20:19.37 |\n",
            "|1608311022785|2020-12-18 17:03:42.785|\n",
            "|1572987681590|2019-11-05 21:01:21.59 |\n",
            "|1575342018108|2019-12-03 03:00:18.108|\n",
            "|1595901220198|2020-07-28 01:53:40.198|\n",
            "|1502328354507|2017-08-10 01:25:54.507|\n",
            "|1535334333485|2018-08-27 01:45:33.485|\n",
            "|1573621871458|2019-11-13 05:11:11.458|\n",
            "|1615443957285|2021-03-11 06:25:57.285|\n",
            "+-------------+-----------------------+\n",
            "only showing top 10 rows\n",
            "\n"
          ]
        }
      ]
    },
    {
      "cell_type": "code",
      "source": [
        "df_dt = review_sdf_with_datetime.toPandas() # transform the current pyspark dataframe to pandas dataframe\n",
        "df_dt.columns"
      ],
      "metadata": {
        "colab": {
          "base_uri": "https://localhost:8080/"
        },
        "id": "5zzvNFNyBM3p",
        "outputId": "7715224b-96d9-4a36-b99f-4a85112e22da"
      },
      "execution_count": 95,
      "outputs": [
        {
          "output_type": "execute_result",
          "data": {
            "text/plain": [
              "Index(['user_id', 'name', 'time', 'rating', 'text', 'pics', 'resp', 'gmap_id',\n",
              "       'review_datetime'],\n",
              "      dtype='object')"
            ]
          },
          "metadata": {},
          "execution_count": 95
        }
      ]
    },
    {
      "cell_type": "code",
      "source": [
        "df_dt['review_datetime'] = pd.to_datetime(df_dt['review_datetime'], errors='coerce')\n",
        "df_dt['review_year'] = df_dt['review_datetime'].dt.year\n",
        "df_dt.columns"
      ],
      "metadata": {
        "colab": {
          "base_uri": "https://localhost:8080/"
        },
        "id": "GZhEnSPMEszK",
        "outputId": "59d394f5-4c7f-4ba9-afe3-5e3a5e8e83e9"
      },
      "execution_count": 96,
      "outputs": [
        {
          "output_type": "execute_result",
          "data": {
            "text/plain": [
              "Index(['user_id', 'name', 'time', 'rating', 'text', 'pics', 'resp', 'gmap_id',\n",
              "       'review_datetime', 'review_year'],\n",
              "      dtype='object')"
            ]
          },
          "metadata": {},
          "execution_count": 96
        }
      ]
    },
    {
      "cell_type": "code",
      "source": [
        "# Function to clean and tokenize\n",
        "def clean_tokenize(text):\n",
        "    if pd.isnull(text):\n",
        "        return []\n",
        "    text = text.lower()\n",
        "    text = re.sub(r\"[^a-z\\s]\", \"\", text)  # keep only letters and spaces\n",
        "    return text.split()"
      ],
      "metadata": {
        "id": "qx3hu5u1BZ9H"
      },
      "execution_count": 97,
      "outputs": []
    },
    {
      "cell_type": "code",
      "source": [
        "# Apply function to create a 'words' column\n",
        "df_dt[\"words\"] = df_dt[\"text\"].apply(clean_tokenize)\n",
        "\n",
        "# Explode the list of words into separate rows\n",
        "words_df = df_dt.explode(\"words\")\n",
        "\n",
        "# Drop empty strings if any\n",
        "words_df = words_df[words_df[\"words\"] != \"\"]\n",
        "\n",
        "# Count word frequencies\n",
        "word_counts = (\n",
        "    words_df.groupby(\"words\")\n",
        "    .size()\n",
        "    .reset_index(name=\"count\")\n",
        "    .sort_values(by=\"count\", ascending=False)\n",
        ")"
      ],
      "metadata": {
        "id": "F9I1LR1MGQvb"
      },
      "execution_count": 98,
      "outputs": []
    },
    {
      "cell_type": "code",
      "source": [
        "# Top 30 overall\n",
        "top30_words = word_counts.head(30)\n",
        "top30_words.insert(0, \"rank\", range(1, len(top30_words) + 1))\n",
        "print(top30_words.to_string(index=False))"
      ],
      "metadata": {
        "colab": {
          "base_uri": "https://localhost:8080/"
        },
        "id": "gnvpjTQuGKk4",
        "outputId": "8ecb1830-6ac2-4611-eafd-887410963d3b"
      },
      "execution_count": 99,
      "outputs": [
        {
          "output_type": "stream",
          "name": "stdout",
          "text": [
            " rank   words  count\n",
            "    1     the 236974\n",
            "    2     and 203328\n",
            "    3       a 130257\n",
            "    4      to 125101\n",
            "    5       i  93435\n",
            "    6   great  80651\n",
            "    7      is  74563\n",
            "    8     was  73728\n",
            "    9      of  72303\n",
            "   10     for  70198\n",
            "   11      in  66347\n",
            "   12    good  61911\n",
            "   13    food  60870\n",
            "   14      it  53529\n",
            "   15    they  49269\n",
            "   16   place  46149\n",
            "   17 service  43820\n",
            "   18     you  41555\n",
            "   19      my  40136\n",
            "   20     but  39520\n",
            "   21    very  38124\n",
            "   22    with  37426\n",
            "   23     are  36329\n",
            "   24    have  34698\n",
            "   25    this  33786\n",
            "   26      on  31202\n",
            "   27     not  28472\n",
            "   28    that  28304\n",
            "   29   staff  27527\n",
            "   30    nice  25593\n"
          ]
        }
      ]
    },
    {
      "cell_type": "markdown",
      "source": [
        "## Q1.5 Analysis on business `name` and `review`\n",
        "* find the number of unique business `reviewers` and its `category` (find out the highest distinct count of reviewers on business / category level)\n",
        "* When `reviewers` submitted their review? [add visualization and write in markdown]"
      ],
      "metadata": {
        "id": "e0ynp3584XP1"
      }
    },
    {
      "cell_type": "markdown",
      "source": [
        "## Q1.6 Build recommendation for business\n",
        "(by using reviews, ratings, and its categories)"
      ],
      "metadata": {
        "id": "hpoAt6yX5TJ3"
      }
    },
    {
      "cell_type": "markdown",
      "source": [
        "### Q1.6.1 Write down the strategy to build Recommendation\n",
        "create own strategy or leverage KNN on collaborative filtering.\n",
        "* Write about the logic"
      ],
      "metadata": {
        "id": "TOjRqqNw5k1T"
      }
    },
    {
      "cell_type": "markdown",
      "source": [
        "### Q1.6.2 Implement the strategy\n",
        "add sufficient comments where required"
      ],
      "metadata": {
        "id": "TJ3zsZI56vBS"
      }
    },
    {
      "cell_type": "code",
      "source": [],
      "metadata": {
        "id": "oeq4afxb7SrK"
      },
      "execution_count": 39,
      "outputs": []
    },
    {
      "cell_type": "markdown",
      "source": [
        "## Q1.7 Analysis on `Rating`s for each submission review"
      ],
      "metadata": {
        "id": "IgBODlIJ7WRH"
      }
    },
    {
      "cell_type": "markdown",
      "source": [
        "### Q1.7.1 Relationship of `rating` and `business categories`"
      ],
      "metadata": {
        "id": "32ciVQwW7mc0"
      }
    },
    {
      "cell_type": "code",
      "source": [],
      "metadata": {
        "id": "u02h8VtA71-S"
      },
      "execution_count": 39,
      "outputs": []
    },
    {
      "cell_type": "markdown",
      "source": [
        "write down the insights"
      ],
      "metadata": {
        "id": "ZkgdagWl73Nt"
      }
    },
    {
      "cell_type": "markdown",
      "source": [
        "### Q1.7.2 Focus on lower ratings\n",
        "[Select a threshold to considered as lower]\n",
        "* Find the most common words\n",
        "* Whats the reason behind lower rating?"
      ],
      "metadata": {
        "id": "-FG583aS762I"
      }
    },
    {
      "cell_type": "code",
      "source": [],
      "metadata": {
        "id": "t0_qjrT875_a"
      },
      "execution_count": 39,
      "outputs": []
    },
    {
      "cell_type": "markdown",
      "source": [
        "## Q1.8 Reviewer level with all the reviewed business history (submission of the review)"
      ],
      "metadata": {
        "id": "Guq5tCXo8a6F"
      }
    },
    {
      "cell_type": "markdown",
      "source": [
        "### Q1.8.1 Create a `user_business_list`\n",
        "* check reviewer level for reviewed business\n",
        "* sort the review based on review time (`new_time` column)\n",
        "* save the business name, for each reviewer into the `user_business_list`\n",
        "* for the list: print the `number of elements` / `number of business name` for each reviewers **[before removing]**"
      ],
      "metadata": {
        "id": "TIoKbFbY84WM"
      }
    },
    {
      "cell_type": "code",
      "source": [],
      "metadata": {
        "id": "BnXpG6bjBHj2"
      },
      "execution_count": 39,
      "outputs": []
    },
    {
      "cell_type": "markdown",
      "source": [
        "### Q1.8.2 Repeated business names for the same user/reviewer?\n",
        "* remove those duplicated business names under same user (take unique business name)\n",
        "* print the `number of business name` for each reviewers **[after removing]**"
      ],
      "metadata": {
        "id": "M338fm_U_LmG"
      }
    },
    {
      "cell_type": "code",
      "source": [],
      "metadata": {
        "id": "rXYiIJQhBFif"
      },
      "execution_count": 39,
      "outputs": []
    },
    {
      "cell_type": "markdown",
      "source": [
        "### Q1.8.3 user similarities in the past reviewed business\n",
        "* Write down the strategy for implementation with sufficient explanation\n",
        "* Check on the `user_business_list` and find the user similarities according to their past reviewed business.\n",
        "\n",
        "Hint: you might consider to use `encoding` for each of the business names and then calculate the difference of the users."
      ],
      "metadata": {
        "id": "jhOBWvfmBGWe"
      }
    },
    {
      "cell_type": "code",
      "source": [],
      "metadata": {
        "id": "XgM2cMGsLT9c"
      },
      "execution_count": 39,
      "outputs": []
    },
    {
      "cell_type": "markdown",
      "source": [
        "# Part 2\n",
        "---"
      ],
      "metadata": {
        "id": "CmGLNvGwPS9h"
      }
    },
    {
      "cell_type": "markdown",
      "source": [
        "## Q2.1 Seasonality Pattern"
      ],
      "metadata": {
        "id": "nbiYkjj4PX5Q"
      }
    },
    {
      "cell_type": "code",
      "source": [],
      "metadata": {
        "id": "D-NGApYmPlPs"
      },
      "execution_count": 39,
      "outputs": []
    },
    {
      "cell_type": "markdown",
      "source": [
        "## Q2.2 ARIMA Model"
      ],
      "metadata": {
        "id": "tG3kq2d4PmDg"
      }
    },
    {
      "cell_type": "code",
      "source": [],
      "metadata": {
        "id": "XLEm_b2ZPXFK"
      },
      "execution_count": 39,
      "outputs": []
    },
    {
      "cell_type": "markdown",
      "source": [
        "## Q2.3 Analyze Annual Report of Indigenous Strategy\n",
        "link to the pdf"
      ],
      "metadata": {
        "id": "D3QwxLgpPwba"
      }
    },
    {
      "cell_type": "markdown",
      "source": [
        "### Data Extraction"
      ],
      "metadata": {
        "id": "cfheJL1mQs98"
      }
    },
    {
      "cell_type": "markdown",
      "source": [
        "### Data Analysis"
      ],
      "metadata": {
        "id": "yFyTdgufQwMe"
      }
    },
    {
      "cell_type": "markdown",
      "source": [
        "### Insights"
      ],
      "metadata": {
        "id": "2WFf2VFKQ1xD"
      }
    },
    {
      "cell_type": "code",
      "source": [],
      "metadata": {
        "id": "QwS45w1xQ3ZB"
      },
      "execution_count": 39,
      "outputs": []
    }
  ]
}